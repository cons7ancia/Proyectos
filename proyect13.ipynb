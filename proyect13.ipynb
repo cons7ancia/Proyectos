{
 "cells": [
  {
   "cell_type": "markdown",
   "metadata": {},
   "source": [
    "# EFICIENCIA DE OPERADORES TELEFONICOS"
   ]
  },
  {
   "cell_type": "markdown",
   "metadata": {},
   "source": [
    "El servicio de telefonía virtual CallMeMaybe demanda de una una nueva función que brindará a los supervisores y las supervisores información sobre los operadores menos eficaces. \n",
    "\n",
    "Este analisis ayudara a estudiar a los operadores ineficaces de CallMeMaybe, con el fin de brindar información relevante para mejorar la eficiencia operativa.\n",
    "\n",
    "El objetivo principal es identificar operadores con un alto número de llamadas perdidas, tiempos de espera prolongados para llamadas entrantes y pocas llamadas salientes, si corresponde. Para determinar lo eficaz del operador.\n",
    "\n",
    "\n",
    "Esta informacion sera dirigida a los supervisores que gestionan el rendimiento de los operadores. Con el objetivo de que tomen decisiones para mejorar la asignación de recursos, capacitación de operadores y ajustes en el manejo de llamadas."
   ]
  },
  {
   "cell_type": "markdown",
   "metadata": {},
   "source": [
    "## Importacion de librerias y lectura de datos"
   ]
  },
  {
   "cell_type": "code",
   "execution_count": 1,
   "metadata": {},
   "outputs": [],
   "source": [
    "import pandas as pd\n",
    "from scipy import stats as st\n",
    "import numpy as np\n",
    "import seaborn as sns\n",
    "import matplotlib.pyplot as plt\n",
    "import datetime as dt\n",
    "import math as mt\n",
    "import plotly.express as px\n",
    "import plotly.graph_objects as go\n",
    "from statsmodels.stats.proportion import proportions_ztest \n",
    "import statsmodels.api as sm"
   ]
  },
  {
   "cell_type": "code",
   "execution_count": 2,
   "metadata": {},
   "outputs": [],
   "source": [
    "com = pd.read_csv('/datasets/telecom_dataset_us.csv')\n",
    "clientes = pd.read_csv('/datasets/telecom_clients_us.csv')"
   ]
  },
  {
   "cell_type": "markdown",
   "metadata": {},
   "source": [
    "## Preprocesamiento de datos"
   ]
  },
  {
   "cell_type": "code",
   "execution_count": 3,
   "metadata": {},
   "outputs": [],
   "source": [
    "# crear funcion para ver informacion generaal de cada df\n",
    "def info (data):\n",
    "    display(data.sample(5))\n",
    "    print(data.info())\n",
    "    print('Cantidad de filas duplicadas = ', data.duplicated().sum())\n",
    "    print('Cantidad de datos ausentes = ', data.isnull().sum())\n",
    "    display(data.describe(include='all'))"
   ]
  },
  {
   "cell_type": "code",
   "execution_count": 4,
   "metadata": {},
   "outputs": [
    {
     "data": {
      "text/html": [
       "<div>\n",
       "<style scoped>\n",
       "    .dataframe tbody tr th:only-of-type {\n",
       "        vertical-align: middle;\n",
       "    }\n",
       "\n",
       "    .dataframe tbody tr th {\n",
       "        vertical-align: top;\n",
       "    }\n",
       "\n",
       "    .dataframe thead th {\n",
       "        text-align: right;\n",
       "    }\n",
       "</style>\n",
       "<table border=\"1\" class=\"dataframe\">\n",
       "  <thead>\n",
       "    <tr style=\"text-align: right;\">\n",
       "      <th></th>\n",
       "      <th>user_id</th>\n",
       "      <th>date</th>\n",
       "      <th>direction</th>\n",
       "      <th>internal</th>\n",
       "      <th>operator_id</th>\n",
       "      <th>is_missed_call</th>\n",
       "      <th>calls_count</th>\n",
       "      <th>call_duration</th>\n",
       "      <th>total_call_duration</th>\n",
       "    </tr>\n",
       "  </thead>\n",
       "  <tbody>\n",
       "    <tr>\n",
       "      <th>4651</th>\n",
       "      <td>166511</td>\n",
       "      <td>2019-09-30 00:00:00+03:00</td>\n",
       "      <td>out</td>\n",
       "      <td>False</td>\n",
       "      <td>891416.0</td>\n",
       "      <td>True</td>\n",
       "      <td>3</td>\n",
       "      <td>0</td>\n",
       "      <td>3</td>\n",
       "    </tr>\n",
       "    <tr>\n",
       "      <th>35312</th>\n",
       "      <td>167532</td>\n",
       "      <td>2019-09-26 00:00:00+03:00</td>\n",
       "      <td>out</td>\n",
       "      <td>True</td>\n",
       "      <td>917852.0</td>\n",
       "      <td>True</td>\n",
       "      <td>1</td>\n",
       "      <td>0</td>\n",
       "      <td>4</td>\n",
       "    </tr>\n",
       "    <tr>\n",
       "      <th>17516</th>\n",
       "      <td>166939</td>\n",
       "      <td>2019-11-23 00:00:00+03:00</td>\n",
       "      <td>in</td>\n",
       "      <td>False</td>\n",
       "      <td>NaN</td>\n",
       "      <td>True</td>\n",
       "      <td>3</td>\n",
       "      <td>0</td>\n",
       "      <td>75</td>\n",
       "    </tr>\n",
       "    <tr>\n",
       "      <th>44413</th>\n",
       "      <td>168041</td>\n",
       "      <td>2019-11-26 00:00:00+03:00</td>\n",
       "      <td>in</td>\n",
       "      <td>False</td>\n",
       "      <td>934534.0</td>\n",
       "      <td>False</td>\n",
       "      <td>10</td>\n",
       "      <td>393</td>\n",
       "      <td>532</td>\n",
       "    </tr>\n",
       "    <tr>\n",
       "      <th>40840</th>\n",
       "      <td>167828</td>\n",
       "      <td>2019-10-17 00:00:00+03:00</td>\n",
       "      <td>in</td>\n",
       "      <td>False</td>\n",
       "      <td>NaN</td>\n",
       "      <td>True</td>\n",
       "      <td>7</td>\n",
       "      <td>0</td>\n",
       "      <td>6</td>\n",
       "    </tr>\n",
       "  </tbody>\n",
       "</table>\n",
       "</div>"
      ],
      "text/plain": [
       "       user_id                       date direction internal  operator_id  \\\n",
       "4651    166511  2019-09-30 00:00:00+03:00       out    False     891416.0   \n",
       "35312   167532  2019-09-26 00:00:00+03:00       out     True     917852.0   \n",
       "17516   166939  2019-11-23 00:00:00+03:00        in    False          NaN   \n",
       "44413   168041  2019-11-26 00:00:00+03:00        in    False     934534.0   \n",
       "40840   167828  2019-10-17 00:00:00+03:00        in    False          NaN   \n",
       "\n",
       "       is_missed_call  calls_count  call_duration  total_call_duration  \n",
       "4651             True            3              0                    3  \n",
       "35312            True            1              0                    4  \n",
       "17516            True            3              0                   75  \n",
       "44413           False           10            393                  532  \n",
       "40840            True            7              0                    6  "
      ]
     },
     "metadata": {},
     "output_type": "display_data"
    },
    {
     "name": "stdout",
     "output_type": "stream",
     "text": [
      "<class 'pandas.core.frame.DataFrame'>\n",
      "RangeIndex: 53902 entries, 0 to 53901\n",
      "Data columns (total 9 columns):\n",
      " #   Column               Non-Null Count  Dtype  \n",
      "---  ------               --------------  -----  \n",
      " 0   user_id              53902 non-null  int64  \n",
      " 1   date                 53902 non-null  object \n",
      " 2   direction            53902 non-null  object \n",
      " 3   internal             53785 non-null  object \n",
      " 4   operator_id          45730 non-null  float64\n",
      " 5   is_missed_call       53902 non-null  bool   \n",
      " 6   calls_count          53902 non-null  int64  \n",
      " 7   call_duration        53902 non-null  int64  \n",
      " 8   total_call_duration  53902 non-null  int64  \n",
      "dtypes: bool(1), float64(1), int64(4), object(3)\n",
      "memory usage: 3.3+ MB\n",
      "None\n",
      "Cantidad de filas duplicadas =  4900\n",
      "Cantidad de datos ausentes =  user_id                   0\n",
      "date                      0\n",
      "direction                 0\n",
      "internal                117\n",
      "operator_id            8172\n",
      "is_missed_call            0\n",
      "calls_count               0\n",
      "call_duration             0\n",
      "total_call_duration       0\n",
      "dtype: int64\n"
     ]
    },
    {
     "data": {
      "text/html": [
       "<div>\n",
       "<style scoped>\n",
       "    .dataframe tbody tr th:only-of-type {\n",
       "        vertical-align: middle;\n",
       "    }\n",
       "\n",
       "    .dataframe tbody tr th {\n",
       "        vertical-align: top;\n",
       "    }\n",
       "\n",
       "    .dataframe thead th {\n",
       "        text-align: right;\n",
       "    }\n",
       "</style>\n",
       "<table border=\"1\" class=\"dataframe\">\n",
       "  <thead>\n",
       "    <tr style=\"text-align: right;\">\n",
       "      <th></th>\n",
       "      <th>user_id</th>\n",
       "      <th>date</th>\n",
       "      <th>direction</th>\n",
       "      <th>internal</th>\n",
       "      <th>operator_id</th>\n",
       "      <th>is_missed_call</th>\n",
       "      <th>calls_count</th>\n",
       "      <th>call_duration</th>\n",
       "      <th>total_call_duration</th>\n",
       "    </tr>\n",
       "  </thead>\n",
       "  <tbody>\n",
       "    <tr>\n",
       "      <th>count</th>\n",
       "      <td>53902.000000</td>\n",
       "      <td>53902</td>\n",
       "      <td>53902</td>\n",
       "      <td>53785</td>\n",
       "      <td>45730.000000</td>\n",
       "      <td>53902</td>\n",
       "      <td>53902.000000</td>\n",
       "      <td>53902.000000</td>\n",
       "      <td>53902.000000</td>\n",
       "    </tr>\n",
       "    <tr>\n",
       "      <th>unique</th>\n",
       "      <td>NaN</td>\n",
       "      <td>119</td>\n",
       "      <td>2</td>\n",
       "      <td>2</td>\n",
       "      <td>NaN</td>\n",
       "      <td>2</td>\n",
       "      <td>NaN</td>\n",
       "      <td>NaN</td>\n",
       "      <td>NaN</td>\n",
       "    </tr>\n",
       "    <tr>\n",
       "      <th>top</th>\n",
       "      <td>NaN</td>\n",
       "      <td>2019-11-25 00:00:00+03:00</td>\n",
       "      <td>out</td>\n",
       "      <td>False</td>\n",
       "      <td>NaN</td>\n",
       "      <td>False</td>\n",
       "      <td>NaN</td>\n",
       "      <td>NaN</td>\n",
       "      <td>NaN</td>\n",
       "    </tr>\n",
       "    <tr>\n",
       "      <th>freq</th>\n",
       "      <td>NaN</td>\n",
       "      <td>1220</td>\n",
       "      <td>31917</td>\n",
       "      <td>47621</td>\n",
       "      <td>NaN</td>\n",
       "      <td>30334</td>\n",
       "      <td>NaN</td>\n",
       "      <td>NaN</td>\n",
       "      <td>NaN</td>\n",
       "    </tr>\n",
       "    <tr>\n",
       "      <th>mean</th>\n",
       "      <td>167295.344477</td>\n",
       "      <td>NaN</td>\n",
       "      <td>NaN</td>\n",
       "      <td>NaN</td>\n",
       "      <td>916535.993002</td>\n",
       "      <td>NaN</td>\n",
       "      <td>16.451245</td>\n",
       "      <td>866.684427</td>\n",
       "      <td>1157.133297</td>\n",
       "    </tr>\n",
       "    <tr>\n",
       "      <th>std</th>\n",
       "      <td>598.883775</td>\n",
       "      <td>NaN</td>\n",
       "      <td>NaN</td>\n",
       "      <td>NaN</td>\n",
       "      <td>21254.123136</td>\n",
       "      <td>NaN</td>\n",
       "      <td>62.917170</td>\n",
       "      <td>3731.791202</td>\n",
       "      <td>4403.468763</td>\n",
       "    </tr>\n",
       "    <tr>\n",
       "      <th>min</th>\n",
       "      <td>166377.000000</td>\n",
       "      <td>NaN</td>\n",
       "      <td>NaN</td>\n",
       "      <td>NaN</td>\n",
       "      <td>879896.000000</td>\n",
       "      <td>NaN</td>\n",
       "      <td>1.000000</td>\n",
       "      <td>0.000000</td>\n",
       "      <td>0.000000</td>\n",
       "    </tr>\n",
       "    <tr>\n",
       "      <th>25%</th>\n",
       "      <td>166782.000000</td>\n",
       "      <td>NaN</td>\n",
       "      <td>NaN</td>\n",
       "      <td>NaN</td>\n",
       "      <td>900788.000000</td>\n",
       "      <td>NaN</td>\n",
       "      <td>1.000000</td>\n",
       "      <td>0.000000</td>\n",
       "      <td>47.000000</td>\n",
       "    </tr>\n",
       "    <tr>\n",
       "      <th>50%</th>\n",
       "      <td>167162.000000</td>\n",
       "      <td>NaN</td>\n",
       "      <td>NaN</td>\n",
       "      <td>NaN</td>\n",
       "      <td>913938.000000</td>\n",
       "      <td>NaN</td>\n",
       "      <td>4.000000</td>\n",
       "      <td>38.000000</td>\n",
       "      <td>210.000000</td>\n",
       "    </tr>\n",
       "    <tr>\n",
       "      <th>75%</th>\n",
       "      <td>167819.000000</td>\n",
       "      <td>NaN</td>\n",
       "      <td>NaN</td>\n",
       "      <td>NaN</td>\n",
       "      <td>937708.000000</td>\n",
       "      <td>NaN</td>\n",
       "      <td>12.000000</td>\n",
       "      <td>572.000000</td>\n",
       "      <td>902.000000</td>\n",
       "    </tr>\n",
       "    <tr>\n",
       "      <th>max</th>\n",
       "      <td>168606.000000</td>\n",
       "      <td>NaN</td>\n",
       "      <td>NaN</td>\n",
       "      <td>NaN</td>\n",
       "      <td>973286.000000</td>\n",
       "      <td>NaN</td>\n",
       "      <td>4817.000000</td>\n",
       "      <td>144395.000000</td>\n",
       "      <td>166155.000000</td>\n",
       "    </tr>\n",
       "  </tbody>\n",
       "</table>\n",
       "</div>"
      ],
      "text/plain": [
       "              user_id                       date direction internal  \\\n",
       "count    53902.000000                      53902     53902    53785   \n",
       "unique            NaN                        119         2        2   \n",
       "top               NaN  2019-11-25 00:00:00+03:00       out    False   \n",
       "freq              NaN                       1220     31917    47621   \n",
       "mean    167295.344477                        NaN       NaN      NaN   \n",
       "std        598.883775                        NaN       NaN      NaN   \n",
       "min     166377.000000                        NaN       NaN      NaN   \n",
       "25%     166782.000000                        NaN       NaN      NaN   \n",
       "50%     167162.000000                        NaN       NaN      NaN   \n",
       "75%     167819.000000                        NaN       NaN      NaN   \n",
       "max     168606.000000                        NaN       NaN      NaN   \n",
       "\n",
       "          operator_id is_missed_call   calls_count  call_duration  \\\n",
       "count    45730.000000          53902  53902.000000   53902.000000   \n",
       "unique            NaN              2           NaN            NaN   \n",
       "top               NaN          False           NaN            NaN   \n",
       "freq              NaN          30334           NaN            NaN   \n",
       "mean    916535.993002            NaN     16.451245     866.684427   \n",
       "std      21254.123136            NaN     62.917170    3731.791202   \n",
       "min     879896.000000            NaN      1.000000       0.000000   \n",
       "25%     900788.000000            NaN      1.000000       0.000000   \n",
       "50%     913938.000000            NaN      4.000000      38.000000   \n",
       "75%     937708.000000            NaN     12.000000     572.000000   \n",
       "max     973286.000000            NaN   4817.000000  144395.000000   \n",
       "\n",
       "        total_call_duration  \n",
       "count          53902.000000  \n",
       "unique                  NaN  \n",
       "top                     NaN  \n",
       "freq                    NaN  \n",
       "mean            1157.133297  \n",
       "std             4403.468763  \n",
       "min                0.000000  \n",
       "25%               47.000000  \n",
       "50%              210.000000  \n",
       "75%              902.000000  \n",
       "max           166155.000000  "
      ]
     },
     "metadata": {},
     "output_type": "display_data"
    }
   ],
   "source": [
    "# uso de funcion para ver df telcom\n",
    "info(com)"
   ]
  },
  {
   "cell_type": "code",
   "execution_count": 5,
   "metadata": {},
   "outputs": [
    {
     "data": {
      "text/plain": [
       "307"
      ]
     },
     "execution_count": 5,
     "metadata": {},
     "output_type": "execute_result"
    }
   ],
   "source": [
    "len(com['user_id'].value_counts()) #exiten 307 clientes para analizar sobre sus llamadas"
   ]
  },
  {
   "cell_type": "code",
   "execution_count": 6,
   "metadata": {
    "scrolled": true
   },
   "outputs": [
    {
     "data": {
      "text/plain": [
       "1092"
      ]
     },
     "execution_count": 6,
     "metadata": {},
     "output_type": "execute_result"
    }
   ],
   "source": [
    "len(com['operator_id'].value_counts()) #exiten 1092 operadores en la empresa de telecomunicaciones"
   ]
  },
  {
   "cell_type": "code",
   "execution_count": 7,
   "metadata": {},
   "outputs": [],
   "source": [
    "# Eliminar duplicados exactos \n",
    "telcom = com.drop_duplicates()"
   ]
  },
  {
   "cell_type": "code",
   "execution_count": 8,
   "metadata": {},
   "outputs": [],
   "source": [
    "telcom = telcom.dropna(subset=['operator_id','internal']).reset_index() # borrar nulos "
   ]
  },
  {
   "cell_type": "markdown",
   "metadata": {},
   "source": [
    "Para la columna internal, la eliminación de registros con valores ausentes es segura dado el bajo porcentaje."
   ]
  },
  {
   "cell_type": "code",
   "execution_count": 9,
   "metadata": {},
   "outputs": [
    {
     "name": "stdout",
     "output_type": "stream",
     "text": [
      "<class 'pandas.core.frame.DataFrame'>\n",
      "RangeIndex: 41491 entries, 0 to 41490\n",
      "Data columns (total 10 columns):\n",
      " #   Column               Non-Null Count  Dtype  \n",
      "---  ------               --------------  -----  \n",
      " 0   index                41491 non-null  int64  \n",
      " 1   user_id              41491 non-null  int64  \n",
      " 2   date                 41491 non-null  object \n",
      " 3   direction            41491 non-null  object \n",
      " 4   internal             41491 non-null  object \n",
      " 5   operator_id          41491 non-null  float64\n",
      " 6   is_missed_call       41491 non-null  bool   \n",
      " 7   calls_count          41491 non-null  int64  \n",
      " 8   call_duration        41491 non-null  int64  \n",
      " 9   total_call_duration  41491 non-null  int64  \n",
      "dtypes: bool(1), float64(1), int64(5), object(3)\n",
      "memory usage: 2.9+ MB\n"
     ]
    }
   ],
   "source": [
    "telcom.info() # observar cantidad de datos existen posterior a la eliminacion "
   ]
  },
  {
   "cell_type": "code",
   "execution_count": 10,
   "metadata": {},
   "outputs": [
    {
     "data": {
      "text/plain": [
       "290"
      ]
     },
     "execution_count": 10,
     "metadata": {},
     "output_type": "execute_result"
    }
   ],
   "source": [
    "len(telcom['user_id'].value_counts()) # observar si o no afecto a la cantidad de clientes analizdos"
   ]
  },
  {
   "cell_type": "code",
   "execution_count": 11,
   "metadata": {},
   "outputs": [
    {
     "data": {
      "text/plain": [
       "-5.862068965517241"
      ]
     },
     "execution_count": 11,
     "metadata": {},
     "output_type": "execute_result"
    }
   ],
   "source": [
    "((290-307)/290)*100 # calcular el porcentaje de datos perdidos por la elimincacion de datos nulos"
   ]
  },
  {
   "cell_type": "code",
   "execution_count": 12,
   "metadata": {},
   "outputs": [
    {
     "data": {
      "text/plain": [
       "1092"
      ]
     },
     "execution_count": 12,
     "metadata": {},
     "output_type": "execute_result"
    }
   ],
   "source": [
    "len(telcom['operator_id'].value_counts()) "
   ]
  },
  {
   "cell_type": "markdown",
   "metadata": {},
   "source": [
    "Al eliminar las filas duplicadas y los valores nulos de las columnas 'internal' y 'operator_id', el numero de clientes analizados baja en un 5%. Y el numero de operadores no se ve afectado al eliminar esa data. Por lo tanto, al eliminar datos duplicados y nulos, afecta en la cantidad de datos de usuarios, no asi la cantidad de operadores, esta ultima sigue intacta."
   ]
  },
  {
   "cell_type": "code",
   "execution_count": 13,
   "metadata": {},
   "outputs": [],
   "source": [
    "# Convertir tipo object a datetime\n",
    "telcom['date'] = pd.to_datetime(telcom['date'])"
   ]
  },
  {
   "cell_type": "code",
   "execution_count": 14,
   "metadata": {},
   "outputs": [],
   "source": [
    "# convertir tipos de datos\n",
    "telcom['internal'] = telcom['internal'].astype(bool) # de entero a booleano\n",
    "telcom['operator_id'] = telcom['operator_id'].astype(int) # de float a entero"
   ]
  },
  {
   "cell_type": "code",
   "execution_count": 15,
   "metadata": {},
   "outputs": [],
   "source": [
    "# crear columna de duracion de llamda en minutos\n",
    "telcom['total_call_duration_min'] = round(telcom['total_call_duration']/60) \n",
    "telcom['call_duration_min'] = round(telcom['call_duration']/60) "
   ]
  },
  {
   "cell_type": "code",
   "execution_count": 16,
   "metadata": {},
   "outputs": [],
   "source": [
    "# crear columna de tiempo de espera en segundos\n",
    "telcom['tiempo_espera_seg'] = round(telcom['total_call_duration']-telcom['call_duration'])"
   ]
  },
  {
   "cell_type": "code",
   "execution_count": 17,
   "metadata": {},
   "outputs": [],
   "source": [
    "# crear columna de tiempo de espera en minutos\n",
    "telcom['tiempo_espera_min'] = round((telcom['total_call_duration']-telcom['call_duration'])/60 , 1)"
   ]
  },
  {
   "cell_type": "code",
   "execution_count": 18,
   "metadata": {},
   "outputs": [
    {
     "data": {
      "text/html": [
       "<div>\n",
       "<style scoped>\n",
       "    .dataframe tbody tr th:only-of-type {\n",
       "        vertical-align: middle;\n",
       "    }\n",
       "\n",
       "    .dataframe tbody tr th {\n",
       "        vertical-align: top;\n",
       "    }\n",
       "\n",
       "    .dataframe thead th {\n",
       "        text-align: right;\n",
       "    }\n",
       "</style>\n",
       "<table border=\"1\" class=\"dataframe\">\n",
       "  <thead>\n",
       "    <tr style=\"text-align: right;\">\n",
       "      <th></th>\n",
       "      <th>index</th>\n",
       "      <th>user_id</th>\n",
       "      <th>date</th>\n",
       "      <th>direction</th>\n",
       "      <th>internal</th>\n",
       "      <th>operator_id</th>\n",
       "      <th>is_missed_call</th>\n",
       "      <th>calls_count</th>\n",
       "      <th>call_duration</th>\n",
       "      <th>total_call_duration</th>\n",
       "      <th>total_call_duration_min</th>\n",
       "      <th>call_duration_min</th>\n",
       "      <th>tiempo_espera_seg</th>\n",
       "      <th>tiempo_espera_min</th>\n",
       "    </tr>\n",
       "  </thead>\n",
       "  <tbody>\n",
       "    <tr>\n",
       "      <th>22660</th>\n",
       "      <td>29739</td>\n",
       "      <td>167264</td>\n",
       "      <td>2019-10-13 00:00:00+03:00</td>\n",
       "      <td>in</td>\n",
       "      <td>False</td>\n",
       "      <td>919554</td>\n",
       "      <td>False</td>\n",
       "      <td>15</td>\n",
       "      <td>1198</td>\n",
       "      <td>1656</td>\n",
       "      <td>28.0</td>\n",
       "      <td>20.0</td>\n",
       "      <td>458</td>\n",
       "      <td>7.6</td>\n",
       "    </tr>\n",
       "    <tr>\n",
       "      <th>27857</th>\n",
       "      <td>36426</td>\n",
       "      <td>167626</td>\n",
       "      <td>2019-09-27 00:00:00+03:00</td>\n",
       "      <td>out</td>\n",
       "      <td>False</td>\n",
       "      <td>919188</td>\n",
       "      <td>True</td>\n",
       "      <td>113</td>\n",
       "      <td>0</td>\n",
       "      <td>3123</td>\n",
       "      <td>52.0</td>\n",
       "      <td>0.0</td>\n",
       "      <td>3123</td>\n",
       "      <td>52.0</td>\n",
       "    </tr>\n",
       "    <tr>\n",
       "      <th>7957</th>\n",
       "      <td>10216</td>\n",
       "      <td>166678</td>\n",
       "      <td>2019-08-31 00:00:00+03:00</td>\n",
       "      <td>in</td>\n",
       "      <td>False</td>\n",
       "      <td>888868</td>\n",
       "      <td>False</td>\n",
       "      <td>1</td>\n",
       "      <td>34</td>\n",
       "      <td>42</td>\n",
       "      <td>1.0</td>\n",
       "      <td>1.0</td>\n",
       "      <td>8</td>\n",
       "      <td>0.1</td>\n",
       "    </tr>\n",
       "    <tr>\n",
       "      <th>33629</th>\n",
       "      <td>44071</td>\n",
       "      <td>168021</td>\n",
       "      <td>2019-11-15 00:00:00+03:00</td>\n",
       "      <td>out</td>\n",
       "      <td>False</td>\n",
       "      <td>939224</td>\n",
       "      <td>True</td>\n",
       "      <td>50</td>\n",
       "      <td>0</td>\n",
       "      <td>472</td>\n",
       "      <td>8.0</td>\n",
       "      <td>0.0</td>\n",
       "      <td>472</td>\n",
       "      <td>7.9</td>\n",
       "    </tr>\n",
       "    <tr>\n",
       "      <th>7555</th>\n",
       "      <td>9706</td>\n",
       "      <td>166658</td>\n",
       "      <td>2019-11-15 00:00:00+03:00</td>\n",
       "      <td>out</td>\n",
       "      <td>False</td>\n",
       "      <td>890404</td>\n",
       "      <td>True</td>\n",
       "      <td>11</td>\n",
       "      <td>0</td>\n",
       "      <td>235</td>\n",
       "      <td>4.0</td>\n",
       "      <td>0.0</td>\n",
       "      <td>235</td>\n",
       "      <td>3.9</td>\n",
       "    </tr>\n",
       "  </tbody>\n",
       "</table>\n",
       "</div>"
      ],
      "text/plain": [
       "       index  user_id                      date direction  internal  \\\n",
       "22660  29739   167264 2019-10-13 00:00:00+03:00        in     False   \n",
       "27857  36426   167626 2019-09-27 00:00:00+03:00       out     False   \n",
       "7957   10216   166678 2019-08-31 00:00:00+03:00        in     False   \n",
       "33629  44071   168021 2019-11-15 00:00:00+03:00       out     False   \n",
       "7555    9706   166658 2019-11-15 00:00:00+03:00       out     False   \n",
       "\n",
       "       operator_id  is_missed_call  calls_count  call_duration  \\\n",
       "22660       919554           False           15           1198   \n",
       "27857       919188            True          113              0   \n",
       "7957        888868           False            1             34   \n",
       "33629       939224            True           50              0   \n",
       "7555        890404            True           11              0   \n",
       "\n",
       "       total_call_duration  total_call_duration_min  call_duration_min  \\\n",
       "22660                 1656                     28.0               20.0   \n",
       "27857                 3123                     52.0                0.0   \n",
       "7957                    42                      1.0                1.0   \n",
       "33629                  472                      8.0                0.0   \n",
       "7555                   235                      4.0                0.0   \n",
       "\n",
       "       tiempo_espera_seg  tiempo_espera_min  \n",
       "22660                458                7.6  \n",
       "27857               3123               52.0  \n",
       "7957                   8                0.1  \n",
       "33629                472                7.9  \n",
       "7555                 235                3.9  "
      ]
     },
     "metadata": {},
     "output_type": "display_data"
    },
    {
     "name": "stdout",
     "output_type": "stream",
     "text": [
      "<class 'pandas.core.frame.DataFrame'>\n",
      "RangeIndex: 41491 entries, 0 to 41490\n",
      "Data columns (total 14 columns):\n",
      " #   Column                   Non-Null Count  Dtype                                \n",
      "---  ------                   --------------  -----                                \n",
      " 0   index                    41491 non-null  int64                                \n",
      " 1   user_id                  41491 non-null  int64                                \n",
      " 2   date                     41491 non-null  datetime64[ns, pytz.FixedOffset(180)]\n",
      " 3   direction                41491 non-null  object                               \n",
      " 4   internal                 41491 non-null  bool                                 \n",
      " 5   operator_id              41491 non-null  int64                                \n",
      " 6   is_missed_call           41491 non-null  bool                                 \n",
      " 7   calls_count              41491 non-null  int64                                \n",
      " 8   call_duration            41491 non-null  int64                                \n",
      " 9   total_call_duration      41491 non-null  int64                                \n",
      " 10  total_call_duration_min  41491 non-null  float64                              \n",
      " 11  call_duration_min        41491 non-null  float64                              \n",
      " 12  tiempo_espera_seg        41491 non-null  int64                                \n",
      " 13  tiempo_espera_min        41491 non-null  float64                              \n",
      "dtypes: bool(2), datetime64[ns, pytz.FixedOffset(180)](1), float64(3), int64(7), object(1)\n",
      "memory usage: 3.9+ MB\n",
      "None\n",
      "Cantidad de filas duplicadas =  0\n",
      "Cantidad de datos ausentes =  index                      0\n",
      "user_id                    0\n",
      "date                       0\n",
      "direction                  0\n",
      "internal                   0\n",
      "operator_id                0\n",
      "is_missed_call             0\n",
      "calls_count                0\n",
      "call_duration              0\n",
      "total_call_duration        0\n",
      "total_call_duration_min    0\n",
      "call_duration_min          0\n",
      "tiempo_espera_seg          0\n",
      "tiempo_espera_min          0\n",
      "dtype: int64\n"
     ]
    },
    {
     "data": {
      "text/html": [
       "<div>\n",
       "<style scoped>\n",
       "    .dataframe tbody tr th:only-of-type {\n",
       "        vertical-align: middle;\n",
       "    }\n",
       "\n",
       "    .dataframe tbody tr th {\n",
       "        vertical-align: top;\n",
       "    }\n",
       "\n",
       "    .dataframe thead th {\n",
       "        text-align: right;\n",
       "    }\n",
       "</style>\n",
       "<table border=\"1\" class=\"dataframe\">\n",
       "  <thead>\n",
       "    <tr style=\"text-align: right;\">\n",
       "      <th></th>\n",
       "      <th>index</th>\n",
       "      <th>user_id</th>\n",
       "      <th>date</th>\n",
       "      <th>direction</th>\n",
       "      <th>internal</th>\n",
       "      <th>operator_id</th>\n",
       "      <th>is_missed_call</th>\n",
       "      <th>calls_count</th>\n",
       "      <th>call_duration</th>\n",
       "      <th>total_call_duration</th>\n",
       "      <th>total_call_duration_min</th>\n",
       "      <th>call_duration_min</th>\n",
       "      <th>tiempo_espera_seg</th>\n",
       "      <th>tiempo_espera_min</th>\n",
       "    </tr>\n",
       "  </thead>\n",
       "  <tbody>\n",
       "    <tr>\n",
       "      <th>count</th>\n",
       "      <td>41491.000000</td>\n",
       "      <td>41491.000000</td>\n",
       "      <td>41491</td>\n",
       "      <td>41491</td>\n",
       "      <td>41491</td>\n",
       "      <td>41491.000000</td>\n",
       "      <td>41491</td>\n",
       "      <td>41491.000000</td>\n",
       "      <td>41491.000000</td>\n",
       "      <td>41491.000000</td>\n",
       "      <td>41491.000000</td>\n",
       "      <td>41491.000000</td>\n",
       "      <td>41491.000000</td>\n",
       "      <td>41491.000000</td>\n",
       "    </tr>\n",
       "    <tr>\n",
       "      <th>unique</th>\n",
       "      <td>NaN</td>\n",
       "      <td>NaN</td>\n",
       "      <td>118</td>\n",
       "      <td>2</td>\n",
       "      <td>2</td>\n",
       "      <td>NaN</td>\n",
       "      <td>2</td>\n",
       "      <td>NaN</td>\n",
       "      <td>NaN</td>\n",
       "      <td>NaN</td>\n",
       "      <td>NaN</td>\n",
       "      <td>NaN</td>\n",
       "      <td>NaN</td>\n",
       "      <td>NaN</td>\n",
       "    </tr>\n",
       "    <tr>\n",
       "      <th>top</th>\n",
       "      <td>NaN</td>\n",
       "      <td>NaN</td>\n",
       "      <td>2019-11-25 00:00:00+03:00</td>\n",
       "      <td>out</td>\n",
       "      <td>False</td>\n",
       "      <td>NaN</td>\n",
       "      <td>False</td>\n",
       "      <td>NaN</td>\n",
       "      <td>NaN</td>\n",
       "      <td>NaN</td>\n",
       "      <td>NaN</td>\n",
       "      <td>NaN</td>\n",
       "      <td>NaN</td>\n",
       "      <td>NaN</td>\n",
       "    </tr>\n",
       "    <tr>\n",
       "      <th>freq</th>\n",
       "      <td>NaN</td>\n",
       "      <td>NaN</td>\n",
       "      <td>987</td>\n",
       "      <td>28813</td>\n",
       "      <td>36161</td>\n",
       "      <td>NaN</td>\n",
       "      <td>27382</td>\n",
       "      <td>NaN</td>\n",
       "      <td>NaN</td>\n",
       "      <td>NaN</td>\n",
       "      <td>NaN</td>\n",
       "      <td>NaN</td>\n",
       "      <td>NaN</td>\n",
       "      <td>NaN</td>\n",
       "    </tr>\n",
       "    <tr>\n",
       "      <th>first</th>\n",
       "      <td>NaN</td>\n",
       "      <td>NaN</td>\n",
       "      <td>2019-08-02 00:00:00+03:00</td>\n",
       "      <td>NaN</td>\n",
       "      <td>NaN</td>\n",
       "      <td>NaN</td>\n",
       "      <td>NaN</td>\n",
       "      <td>NaN</td>\n",
       "      <td>NaN</td>\n",
       "      <td>NaN</td>\n",
       "      <td>NaN</td>\n",
       "      <td>NaN</td>\n",
       "      <td>NaN</td>\n",
       "      <td>NaN</td>\n",
       "    </tr>\n",
       "    <tr>\n",
       "      <th>last</th>\n",
       "      <td>NaN</td>\n",
       "      <td>NaN</td>\n",
       "      <td>2019-11-28 00:00:00+03:00</td>\n",
       "      <td>NaN</td>\n",
       "      <td>NaN</td>\n",
       "      <td>NaN</td>\n",
       "      <td>NaN</td>\n",
       "      <td>NaN</td>\n",
       "      <td>NaN</td>\n",
       "      <td>NaN</td>\n",
       "      <td>NaN</td>\n",
       "      <td>NaN</td>\n",
       "      <td>NaN</td>\n",
       "      <td>NaN</td>\n",
       "    </tr>\n",
       "    <tr>\n",
       "      <th>mean</th>\n",
       "      <td>27092.318334</td>\n",
       "      <td>167301.113543</td>\n",
       "      <td>NaN</td>\n",
       "      <td>NaN</td>\n",
       "      <td>NaN</td>\n",
       "      <td>916516.771155</td>\n",
       "      <td>NaN</td>\n",
       "      <td>16.921381</td>\n",
       "      <td>1010.940011</td>\n",
       "      <td>1323.153238</td>\n",
       "      <td>22.042419</td>\n",
       "      <td>16.843315</td>\n",
       "      <td>312.213227</td>\n",
       "      <td>5.203119</td>\n",
       "    </tr>\n",
       "    <tr>\n",
       "      <th>std</th>\n",
       "      <td>15606.824533</td>\n",
       "      <td>600.513986</td>\n",
       "      <td>NaN</td>\n",
       "      <td>NaN</td>\n",
       "      <td>NaN</td>\n",
       "      <td>21234.081589</td>\n",
       "      <td>NaN</td>\n",
       "      <td>59.786187</td>\n",
       "      <td>4066.666485</td>\n",
       "      <td>4788.953155</td>\n",
       "      <td>79.818464</td>\n",
       "      <td>67.779165</td>\n",
       "      <td>1176.102940</td>\n",
       "      <td>19.602044</td>\n",
       "    </tr>\n",
       "    <tr>\n",
       "      <th>min</th>\n",
       "      <td>1.000000</td>\n",
       "      <td>166377.000000</td>\n",
       "      <td>NaN</td>\n",
       "      <td>NaN</td>\n",
       "      <td>NaN</td>\n",
       "      <td>879896.000000</td>\n",
       "      <td>NaN</td>\n",
       "      <td>1.000000</td>\n",
       "      <td>0.000000</td>\n",
       "      <td>0.000000</td>\n",
       "      <td>0.000000</td>\n",
       "      <td>0.000000</td>\n",
       "      <td>0.000000</td>\n",
       "      <td>0.000000</td>\n",
       "    </tr>\n",
       "    <tr>\n",
       "      <th>25%</th>\n",
       "      <td>13496.500000</td>\n",
       "      <td>166782.000000</td>\n",
       "      <td>NaN</td>\n",
       "      <td>NaN</td>\n",
       "      <td>NaN</td>\n",
       "      <td>900790.000000</td>\n",
       "      <td>NaN</td>\n",
       "      <td>1.000000</td>\n",
       "      <td>0.000000</td>\n",
       "      <td>67.000000</td>\n",
       "      <td>1.000000</td>\n",
       "      <td>0.000000</td>\n",
       "      <td>19.000000</td>\n",
       "      <td>0.300000</td>\n",
       "    </tr>\n",
       "    <tr>\n",
       "      <th>50%</th>\n",
       "      <td>27200.000000</td>\n",
       "      <td>167175.000000</td>\n",
       "      <td>NaN</td>\n",
       "      <td>NaN</td>\n",
       "      <td>NaN</td>\n",
       "      <td>913938.000000</td>\n",
       "      <td>NaN</td>\n",
       "      <td>4.000000</td>\n",
       "      <td>106.000000</td>\n",
       "      <td>289.000000</td>\n",
       "      <td>5.000000</td>\n",
       "      <td>2.000000</td>\n",
       "      <td>60.000000</td>\n",
       "      <td>1.000000</td>\n",
       "    </tr>\n",
       "    <tr>\n",
       "      <th>75%</th>\n",
       "      <td>40663.500000</td>\n",
       "      <td>167827.000000</td>\n",
       "      <td>NaN</td>\n",
       "      <td>NaN</td>\n",
       "      <td>NaN</td>\n",
       "      <td>937708.000000</td>\n",
       "      <td>NaN</td>\n",
       "      <td>14.000000</td>\n",
       "      <td>772.000000</td>\n",
       "      <td>1107.000000</td>\n",
       "      <td>18.000000</td>\n",
       "      <td>13.000000</td>\n",
       "      <td>219.000000</td>\n",
       "      <td>3.600000</td>\n",
       "    </tr>\n",
       "    <tr>\n",
       "      <th>max</th>\n",
       "      <td>53899.000000</td>\n",
       "      <td>168606.000000</td>\n",
       "      <td>NaN</td>\n",
       "      <td>NaN</td>\n",
       "      <td>NaN</td>\n",
       "      <td>973286.000000</td>\n",
       "      <td>NaN</td>\n",
       "      <td>4817.000000</td>\n",
       "      <td>144395.000000</td>\n",
       "      <td>166155.000000</td>\n",
       "      <td>2769.000000</td>\n",
       "      <td>2407.000000</td>\n",
       "      <td>46474.000000</td>\n",
       "      <td>774.600000</td>\n",
       "    </tr>\n",
       "  </tbody>\n",
       "</table>\n",
       "</div>"
      ],
      "text/plain": [
       "               index        user_id                       date direction  \\\n",
       "count   41491.000000   41491.000000                      41491     41491   \n",
       "unique           NaN            NaN                        118         2   \n",
       "top              NaN            NaN  2019-11-25 00:00:00+03:00       out   \n",
       "freq             NaN            NaN                        987     28813   \n",
       "first            NaN            NaN  2019-08-02 00:00:00+03:00       NaN   \n",
       "last             NaN            NaN  2019-11-28 00:00:00+03:00       NaN   \n",
       "mean    27092.318334  167301.113543                        NaN       NaN   \n",
       "std     15606.824533     600.513986                        NaN       NaN   \n",
       "min         1.000000  166377.000000                        NaN       NaN   \n",
       "25%     13496.500000  166782.000000                        NaN       NaN   \n",
       "50%     27200.000000  167175.000000                        NaN       NaN   \n",
       "75%     40663.500000  167827.000000                        NaN       NaN   \n",
       "max     53899.000000  168606.000000                        NaN       NaN   \n",
       "\n",
       "       internal    operator_id is_missed_call   calls_count  call_duration  \\\n",
       "count     41491   41491.000000          41491  41491.000000   41491.000000   \n",
       "unique        2            NaN              2           NaN            NaN   \n",
       "top       False            NaN          False           NaN            NaN   \n",
       "freq      36161            NaN          27382           NaN            NaN   \n",
       "first       NaN            NaN            NaN           NaN            NaN   \n",
       "last        NaN            NaN            NaN           NaN            NaN   \n",
       "mean        NaN  916516.771155            NaN     16.921381    1010.940011   \n",
       "std         NaN   21234.081589            NaN     59.786187    4066.666485   \n",
       "min         NaN  879896.000000            NaN      1.000000       0.000000   \n",
       "25%         NaN  900790.000000            NaN      1.000000       0.000000   \n",
       "50%         NaN  913938.000000            NaN      4.000000     106.000000   \n",
       "75%         NaN  937708.000000            NaN     14.000000     772.000000   \n",
       "max         NaN  973286.000000            NaN   4817.000000  144395.000000   \n",
       "\n",
       "        total_call_duration  total_call_duration_min  call_duration_min  \\\n",
       "count          41491.000000             41491.000000       41491.000000   \n",
       "unique                  NaN                      NaN                NaN   \n",
       "top                     NaN                      NaN                NaN   \n",
       "freq                    NaN                      NaN                NaN   \n",
       "first                   NaN                      NaN                NaN   \n",
       "last                    NaN                      NaN                NaN   \n",
       "mean            1323.153238                22.042419          16.843315   \n",
       "std             4788.953155                79.818464          67.779165   \n",
       "min                0.000000                 0.000000           0.000000   \n",
       "25%               67.000000                 1.000000           0.000000   \n",
       "50%              289.000000                 5.000000           2.000000   \n",
       "75%             1107.000000                18.000000          13.000000   \n",
       "max           166155.000000              2769.000000        2407.000000   \n",
       "\n",
       "        tiempo_espera_seg  tiempo_espera_min  \n",
       "count        41491.000000       41491.000000  \n",
       "unique                NaN                NaN  \n",
       "top                   NaN                NaN  \n",
       "freq                  NaN                NaN  \n",
       "first                 NaN                NaN  \n",
       "last                  NaN                NaN  \n",
       "mean           312.213227           5.203119  \n",
       "std           1176.102940          19.602044  \n",
       "min              0.000000           0.000000  \n",
       "25%             19.000000           0.300000  \n",
       "50%             60.000000           1.000000  \n",
       "75%            219.000000           3.600000  \n",
       "max          46474.000000         774.600000  "
      ]
     },
     "metadata": {},
     "output_type": "display_data"
    }
   ],
   "source": [
    "info(telcom)"
   ]
  },
  {
   "cell_type": "code",
   "execution_count": 19,
   "metadata": {},
   "outputs": [
    {
     "data": {
      "text/plain": [
       "-29.912511146995733"
      ]
     },
     "execution_count": 19,
     "metadata": {},
     "output_type": "execute_result"
    }
   ],
   "source": [
    "# variacion porcentual de datos manipulados\n",
    "((len(telcom)-len(com))/len(telcom))*100"
   ]
  },
  {
   "cell_type": "markdown",
   "metadata": {},
   "source": [
    "Luego de las modificaciones, el df telcom cuenta con 41491 datos, 30% menos que los datos originales y con 14 columnas que describen el comportamiento de los operadoradores de llamadas. Sin filas duplicadas ni valores ausentes. \n",
    "\n",
    "En promedio una llamada dura 16 minutos sin contar el tiempo de espera, lo maximo que duro una llamada fue 2407 minutos(40 horas), particularidad que debe haber sido un error, al igual que tiempo de espera maximo de 774 minutos(12 horas). En cuanto al de tiempo de espera de un cliente es 5 minutos. "
   ]
  },
  {
   "cell_type": "code",
   "execution_count": 20,
   "metadata": {},
   "outputs": [
    {
     "data": {
      "text/html": [
       "<div>\n",
       "<style scoped>\n",
       "    .dataframe tbody tr th:only-of-type {\n",
       "        vertical-align: middle;\n",
       "    }\n",
       "\n",
       "    .dataframe tbody tr th {\n",
       "        vertical-align: top;\n",
       "    }\n",
       "\n",
       "    .dataframe thead th {\n",
       "        text-align: right;\n",
       "    }\n",
       "</style>\n",
       "<table border=\"1\" class=\"dataframe\">\n",
       "  <thead>\n",
       "    <tr style=\"text-align: right;\">\n",
       "      <th></th>\n",
       "      <th>user_id</th>\n",
       "      <th>tariff_plan</th>\n",
       "      <th>date_start</th>\n",
       "    </tr>\n",
       "  </thead>\n",
       "  <tbody>\n",
       "    <tr>\n",
       "      <th>306</th>\n",
       "      <td>167252</td>\n",
       "      <td>C</td>\n",
       "      <td>2019-09-09</td>\n",
       "    </tr>\n",
       "    <tr>\n",
       "      <th>67</th>\n",
       "      <td>166681</td>\n",
       "      <td>A</td>\n",
       "      <td>2019-08-14</td>\n",
       "    </tr>\n",
       "    <tr>\n",
       "      <th>389</th>\n",
       "      <td>167473</td>\n",
       "      <td>C</td>\n",
       "      <td>2019-09-18</td>\n",
       "    </tr>\n",
       "    <tr>\n",
       "      <th>347</th>\n",
       "      <td>167035</td>\n",
       "      <td>C</td>\n",
       "      <td>2019-08-29</td>\n",
       "    </tr>\n",
       "    <tr>\n",
       "      <th>144</th>\n",
       "      <td>168264</td>\n",
       "      <td>C</td>\n",
       "      <td>2019-10-18</td>\n",
       "    </tr>\n",
       "  </tbody>\n",
       "</table>\n",
       "</div>"
      ],
      "text/plain": [
       "     user_id tariff_plan  date_start\n",
       "306   167252           C  2019-09-09\n",
       "67    166681           A  2019-08-14\n",
       "389   167473           C  2019-09-18\n",
       "347   167035           C  2019-08-29\n",
       "144   168264           C  2019-10-18"
      ]
     },
     "metadata": {},
     "output_type": "display_data"
    },
    {
     "name": "stdout",
     "output_type": "stream",
     "text": [
      "<class 'pandas.core.frame.DataFrame'>\n",
      "RangeIndex: 732 entries, 0 to 731\n",
      "Data columns (total 3 columns):\n",
      " #   Column       Non-Null Count  Dtype \n",
      "---  ------       --------------  ----- \n",
      " 0   user_id      732 non-null    int64 \n",
      " 1   tariff_plan  732 non-null    object\n",
      " 2   date_start   732 non-null    object\n",
      "dtypes: int64(1), object(2)\n",
      "memory usage: 17.3+ KB\n",
      "None\n",
      "Cantidad de filas duplicadas =  0\n",
      "Cantidad de datos ausentes =  user_id        0\n",
      "tariff_plan    0\n",
      "date_start     0\n",
      "dtype: int64\n"
     ]
    },
    {
     "data": {
      "text/html": [
       "<div>\n",
       "<style scoped>\n",
       "    .dataframe tbody tr th:only-of-type {\n",
       "        vertical-align: middle;\n",
       "    }\n",
       "\n",
       "    .dataframe tbody tr th {\n",
       "        vertical-align: top;\n",
       "    }\n",
       "\n",
       "    .dataframe thead th {\n",
       "        text-align: right;\n",
       "    }\n",
       "</style>\n",
       "<table border=\"1\" class=\"dataframe\">\n",
       "  <thead>\n",
       "    <tr style=\"text-align: right;\">\n",
       "      <th></th>\n",
       "      <th>user_id</th>\n",
       "      <th>tariff_plan</th>\n",
       "      <th>date_start</th>\n",
       "    </tr>\n",
       "  </thead>\n",
       "  <tbody>\n",
       "    <tr>\n",
       "      <th>count</th>\n",
       "      <td>732.000000</td>\n",
       "      <td>732</td>\n",
       "      <td>732</td>\n",
       "    </tr>\n",
       "    <tr>\n",
       "      <th>unique</th>\n",
       "      <td>NaN</td>\n",
       "      <td>3</td>\n",
       "      <td>73</td>\n",
       "    </tr>\n",
       "    <tr>\n",
       "      <th>top</th>\n",
       "      <td>NaN</td>\n",
       "      <td>C</td>\n",
       "      <td>2019-09-24</td>\n",
       "    </tr>\n",
       "    <tr>\n",
       "      <th>freq</th>\n",
       "      <td>NaN</td>\n",
       "      <td>395</td>\n",
       "      <td>24</td>\n",
       "    </tr>\n",
       "    <tr>\n",
       "      <th>mean</th>\n",
       "      <td>167431.927596</td>\n",
       "      <td>NaN</td>\n",
       "      <td>NaN</td>\n",
       "    </tr>\n",
       "    <tr>\n",
       "      <th>std</th>\n",
       "      <td>633.810383</td>\n",
       "      <td>NaN</td>\n",
       "      <td>NaN</td>\n",
       "    </tr>\n",
       "    <tr>\n",
       "      <th>min</th>\n",
       "      <td>166373.000000</td>\n",
       "      <td>NaN</td>\n",
       "      <td>NaN</td>\n",
       "    </tr>\n",
       "    <tr>\n",
       "      <th>25%</th>\n",
       "      <td>166900.750000</td>\n",
       "      <td>NaN</td>\n",
       "      <td>NaN</td>\n",
       "    </tr>\n",
       "    <tr>\n",
       "      <th>50%</th>\n",
       "      <td>167432.000000</td>\n",
       "      <td>NaN</td>\n",
       "      <td>NaN</td>\n",
       "    </tr>\n",
       "    <tr>\n",
       "      <th>75%</th>\n",
       "      <td>167973.000000</td>\n",
       "      <td>NaN</td>\n",
       "      <td>NaN</td>\n",
       "    </tr>\n",
       "    <tr>\n",
       "      <th>max</th>\n",
       "      <td>168606.000000</td>\n",
       "      <td>NaN</td>\n",
       "      <td>NaN</td>\n",
       "    </tr>\n",
       "  </tbody>\n",
       "</table>\n",
       "</div>"
      ],
      "text/plain": [
       "              user_id tariff_plan  date_start\n",
       "count      732.000000         732         732\n",
       "unique            NaN           3          73\n",
       "top               NaN           C  2019-09-24\n",
       "freq              NaN         395          24\n",
       "mean    167431.927596         NaN         NaN\n",
       "std        633.810383         NaN         NaN\n",
       "min     166373.000000         NaN         NaN\n",
       "25%     166900.750000         NaN         NaN\n",
       "50%     167432.000000         NaN         NaN\n",
       "75%     167973.000000         NaN         NaN\n",
       "max     168606.000000         NaN         NaN"
      ]
     },
     "metadata": {},
     "output_type": "display_data"
    }
   ],
   "source": [
    "# uso de funcion para ver df clientes\n",
    "info(clientes)"
   ]
  },
  {
   "cell_type": "code",
   "execution_count": 21,
   "metadata": {},
   "outputs": [],
   "source": [
    "# convertir tipo de dato\n",
    "clientes['date_start'] = pd.to_datetime(clientes['date_start']) # de numero entero a fecha"
   ]
  },
  {
   "cell_type": "code",
   "execution_count": 22,
   "metadata": {},
   "outputs": [
    {
     "data": {
      "text/plain": [
       "73"
      ]
     },
     "execution_count": 22,
     "metadata": {},
     "output_type": "execute_result"
    }
   ],
   "source": [
    "len(clientes['date_start'].value_counts()) # cantidad de clientes analizados en este df"
   ]
  },
  {
   "cell_type": "code",
   "execution_count": 23,
   "metadata": {},
   "outputs": [
    {
     "data": {
      "text/html": [
       "<div>\n",
       "<style scoped>\n",
       "    .dataframe tbody tr th:only-of-type {\n",
       "        vertical-align: middle;\n",
       "    }\n",
       "\n",
       "    .dataframe tbody tr th {\n",
       "        vertical-align: top;\n",
       "    }\n",
       "\n",
       "    .dataframe thead th {\n",
       "        text-align: right;\n",
       "    }\n",
       "</style>\n",
       "<table border=\"1\" class=\"dataframe\">\n",
       "  <thead>\n",
       "    <tr style=\"text-align: right;\">\n",
       "      <th></th>\n",
       "      <th>user_id</th>\n",
       "      <th>tariff_plan</th>\n",
       "      <th>date_start</th>\n",
       "    </tr>\n",
       "  </thead>\n",
       "  <tbody>\n",
       "    <tr>\n",
       "      <th>count</th>\n",
       "      <td>732.000000</td>\n",
       "      <td>732</td>\n",
       "      <td>732</td>\n",
       "    </tr>\n",
       "    <tr>\n",
       "      <th>unique</th>\n",
       "      <td>NaN</td>\n",
       "      <td>3</td>\n",
       "      <td>73</td>\n",
       "    </tr>\n",
       "    <tr>\n",
       "      <th>top</th>\n",
       "      <td>NaN</td>\n",
       "      <td>C</td>\n",
       "      <td>2019-09-24 00:00:00</td>\n",
       "    </tr>\n",
       "    <tr>\n",
       "      <th>freq</th>\n",
       "      <td>NaN</td>\n",
       "      <td>395</td>\n",
       "      <td>24</td>\n",
       "    </tr>\n",
       "    <tr>\n",
       "      <th>first</th>\n",
       "      <td>NaN</td>\n",
       "      <td>NaN</td>\n",
       "      <td>2019-08-01 00:00:00</td>\n",
       "    </tr>\n",
       "    <tr>\n",
       "      <th>last</th>\n",
       "      <td>NaN</td>\n",
       "      <td>NaN</td>\n",
       "      <td>2019-10-31 00:00:00</td>\n",
       "    </tr>\n",
       "    <tr>\n",
       "      <th>mean</th>\n",
       "      <td>167431.927596</td>\n",
       "      <td>NaN</td>\n",
       "      <td>NaN</td>\n",
       "    </tr>\n",
       "    <tr>\n",
       "      <th>std</th>\n",
       "      <td>633.810383</td>\n",
       "      <td>NaN</td>\n",
       "      <td>NaN</td>\n",
       "    </tr>\n",
       "    <tr>\n",
       "      <th>min</th>\n",
       "      <td>166373.000000</td>\n",
       "      <td>NaN</td>\n",
       "      <td>NaN</td>\n",
       "    </tr>\n",
       "    <tr>\n",
       "      <th>25%</th>\n",
       "      <td>166900.750000</td>\n",
       "      <td>NaN</td>\n",
       "      <td>NaN</td>\n",
       "    </tr>\n",
       "    <tr>\n",
       "      <th>50%</th>\n",
       "      <td>167432.000000</td>\n",
       "      <td>NaN</td>\n",
       "      <td>NaN</td>\n",
       "    </tr>\n",
       "    <tr>\n",
       "      <th>75%</th>\n",
       "      <td>167973.000000</td>\n",
       "      <td>NaN</td>\n",
       "      <td>NaN</td>\n",
       "    </tr>\n",
       "    <tr>\n",
       "      <th>max</th>\n",
       "      <td>168606.000000</td>\n",
       "      <td>NaN</td>\n",
       "      <td>NaN</td>\n",
       "    </tr>\n",
       "  </tbody>\n",
       "</table>\n",
       "</div>"
      ],
      "text/plain": [
       "              user_id tariff_plan           date_start\n",
       "count      732.000000         732                  732\n",
       "unique            NaN           3                   73\n",
       "top               NaN           C  2019-09-24 00:00:00\n",
       "freq              NaN         395                   24\n",
       "first             NaN         NaN  2019-08-01 00:00:00\n",
       "last              NaN         NaN  2019-10-31 00:00:00\n",
       "mean    167431.927596         NaN                  NaN\n",
       "std        633.810383         NaN                  NaN\n",
       "min     166373.000000         NaN                  NaN\n",
       "25%     166900.750000         NaN                  NaN\n",
       "50%     167432.000000         NaN                  NaN\n",
       "75%     167973.000000         NaN                  NaN\n",
       "max     168606.000000         NaN                  NaN"
      ]
     },
     "execution_count": 23,
     "metadata": {},
     "output_type": "execute_result"
    }
   ],
   "source": [
    "clientes.describe(include='all')"
   ]
  },
  {
   "cell_type": "markdown",
   "metadata": {},
   "source": [
    "clientes es un df que cuenta con informacion de 73 clientes, contiene 3 columnas que describe su id, tarifa actual a la que pertenece y su fecha de registro. Cuenta con 732 filas ninguna de ellas duplicadas ni con valores ausentes. \n",
    "\n",
    "La tarifa mas popular es de tipo C y el primer registro fue el 01 de agosto de 2019 y el ultimo fue 31 de octubre de 2019. El dia que tuvieron mas registros fue el 24 de septiembre del 2019.\n"
   ]
  },
  {
   "cell_type": "markdown",
   "metadata": {},
   "source": [
    "## EDA"
   ]
  },
  {
   "cell_type": "markdown",
   "metadata": {},
   "source": [
    "### Visualizar las distribuciones de llamadas perdidas, tiempos de espera y llamadas salientes."
   ]
  },
  {
   "cell_type": "code",
   "execution_count": 24,
   "metadata": {},
   "outputs": [
    {
     "name": "stderr",
     "output_type": "stream",
     "text": [
      "<__array_function__ internals>:5: RuntimeWarning: Converting input from bool to <class 'numpy.uint8'> for compatibility.\n",
      "<__array_function__ internals>:5: RuntimeWarning: Converting input from bool to <class 'numpy.uint8'> for compatibility.\n"
     ]
    },
    {
     "data": {
      "text/plain": [
       "Text(0, 0.5, 'Frecuencia')"
      ]
     },
     "execution_count": 24,
     "metadata": {},
     "output_type": "execute_result"
    },
    {
     "data": {
      "image/png": "[encoded data removed]",
      "text/plain": [
       "<Figure size 1500x500 with 1 Axes>"
      ]
     },
     "metadata": {},
     "output_type": "display_data"
    }
   ],
   "source": [
    "# Configuración de estilo\n",
    "sns.set(style=\"whitegrid\")\n",
    "plt.figure(figsize=(15, 5))\n",
    "\n",
    "# Subgráfico 1: Distribución de llamadas perdidas\n",
    "#plt.subplot(1, 3, 1)\n",
    "sns.histplot(data=telcom, x='is_missed_call', bins=2, kde=False, color='skyblue')\n",
    "plt.title('Distribución de Llamadas Perdidas')\n",
    "plt.xlabel('Llamadas Perdidas (0 = No, 1 = Sí)')\n",
    "plt.ylabel('Frecuencia')"
   ]
  },
  {
   "cell_type": "markdown",
   "metadata": {},
   "source": [
    "La distribución de llamadas perdidas, según el gráfico, muestra que la mayoría de las llamadas no fueron perdidas (representadas en el valor \"0\"), mientras que una cantidad menor de llamadas sí se considera perdida (representada en el valor \"1\"). Esto implica que en general los operadores están respondiendo o atendiendo una mayoría de llamadas, aunque aún existe un número significativo de llamadas perdidas."
   ]
  },
  {
   "cell_type": "code",
   "execution_count": 25,
   "metadata": {},
   "outputs": [
    {
     "data": {
      "text/plain": [
       "(0.0, 300.0)"
      ]
     },
     "execution_count": 25,
     "metadata": {},
     "output_type": "execute_result"
    },
    {
     "data": {
      "image/png": "[encoded data removed]",
      "text/plain": [
       "<Figure size 640x480 with 1 Axes>"
      ]
     },
     "metadata": {},
     "output_type": "display_data"
    }
   ],
   "source": [
    "# Distribución de tiempo de espera\n",
    "sns.histplot(data=telcom, x='tiempo_espera_min', bins=20, kde=True, color='salmon')\n",
    "plt.title('Distribución del Tiempo de Espera')\n",
    "plt.xlabel('Tiempo de espera')\n",
    "plt.ylabel('Frecuencia')\n",
    "plt.xlim([0,300])"
   ]
  },
  {
   "cell_type": "markdown",
   "metadata": {},
   "source": [
    "La distribución del tiempo de espera muestra una clara concentración de llamadas con tiempos de espera muy cortos, mientras que los tiempos de espera largos son poco frecuentes. La mayoría de las llamadas tienen tiempos de espera por debajo de los 40 minutos, y el volumen de llamadas cae drásticamente a medida que el tiempo de espera aumenta."
   ]
  },
  {
   "cell_type": "code",
   "execution_count": 26,
   "metadata": {},
   "outputs": [
    {
     "data": {
      "image/png": "[encoded data removed]",
      "text/plain": [
       "<Figure size 640x480 with 1 Axes>"
      ]
     },
     "metadata": {},
     "output_type": "display_data"
    }
   ],
   "source": [
    "# Distribución de llamadas salientes\n",
    "#plt.subplot(1, 3, 3)\n",
    "sns.histplot(data=telcom[telcom['direction'] == 'out'], x='calls_count', bins=20, kde=True, color='lightgreen')\n",
    "plt.title('Distribución de Llamadas Salientes')\n",
    "plt.xlabel('Número de Llamadas Salientes')\n",
    "plt.ylabel('Frecuencia')\n",
    "plt.xlim([0,500])\n",
    "plt.tight_layout()\n",
    "plt.show()"
   ]
  },
  {
   "cell_type": "markdown",
   "metadata": {},
   "source": [
    "La distribución del numero de llamadas salientes muestra una clara concentración entre 0 a 200 llamadas."
   ]
  },
  {
   "cell_type": "markdown",
   "metadata": {},
   "source": [
    "### Revisar valores atipicos"
   ]
  },
  {
   "cell_type": "code",
   "execution_count": 27,
   "metadata": {},
   "outputs": [
    {
     "data": {
      "image/png": "[encoded data removed]",
      "text/plain": [
       "<Figure size 1200x600 with 2 Axes>"
      ]
     },
     "metadata": {},
     "output_type": "display_data"
    }
   ],
   "source": [
    "# Visualizar los datos atípicos usando boxplot\n",
    "plt.figure(figsize=(12, 6))\n",
    "\n",
    "# Boxplot para la columna duracion total de llamada en minutos \n",
    "plt.subplot(1, 2, 1)\n",
    "sns.boxplot(data=telcom, x='total_call_duration_min', color='skyblue')\n",
    "plt.title('Distribución de Tiempo Total de Llamada (total_call_duration)')\n",
    "\n",
    "# Boxplot para cantidad de llamadas\n",
    "plt.subplot(1, 2, 2)\n",
    "sns.boxplot(data=telcom, x='calls_count', color='salmon')\n",
    "plt.title('Distribución de Número de Llamadas (calls_count)')\n",
    "\n",
    "plt.tight_layout()\n",
    "plt.show()\n"
   ]
  },
  {
   "cell_type": "markdown",
   "metadata": {},
   "source": [
    "Ambas distribuciones están sesgadas a la derecha, lo cual es típico en datos de duración y conteo, donde la mayoría de los valores están concentrados en un rango bajo, pero existen algunos casos que destacan por ser extremadamente altos.\n",
    "\n",
    "En el caso de total_call_duration, vemos puntos que alcanzan valores muy elevados, superiores a los 1000 minutos, lo cual podría indicar operadores que han acumulado tiempos de espera anormalmente altos.\n",
    "\n",
    "En calls_count, también se observan valores fuera de lo común, incluso algunos que llegan hasta 5000 llamadas, lo cual podría representar una sobrecarga de trabajo o un error en los datos.\n",
    "Asimetría en la distribución:\n"
   ]
  },
  {
   "cell_type": "markdown",
   "metadata": {},
   "source": [
    "### Analizar la relación entre el tiempo de espera y la cantidad de llamadas perdidas."
   ]
  },
  {
   "cell_type": "code",
   "execution_count": 28,
   "metadata": {},
   "outputs": [
    {
     "name": "stdout",
     "output_type": "stream",
     "text": [
      "Correlación entre el tiempo de espera y la probabilidad de llamada perdida: 0.08\n"
     ]
    }
   ],
   "source": [
    "# Calcular la correlación entre el tiempo de espera y la cantidad de llamadas perdidas\n",
    "correlation = telcom[['tiempo_espera_min', 'is_missed_call']].corr().iloc[0, 1]\n",
    "print(f\"Correlación entre el tiempo de espera y la probabilidad de llamada perdida: {correlation:.2f}\")"
   ]
  },
  {
   "cell_type": "markdown",
   "metadata": {},
   "source": [
    "La correlacion que muestra el tiempo de espera y la probabilidad de llamada perdida es positiva, es decir, mientras aumenta el tiempo de espera, mas llamadas perdidas hay."
   ]
  },
  {
   "cell_type": "markdown",
   "metadata": {},
   "source": [
    "### Analizar la cantidad de llamadas internas y externas"
   ]
  },
  {
   "cell_type": "code",
   "execution_count": 29,
   "metadata": {},
   "outputs": [
    {
     "data": {
      "image/png": "[encoded data removed]",
      "text/plain": [
       "<Figure size 800x600 with 1 Axes>"
      ]
     },
     "metadata": {},
     "output_type": "display_data"
    }
   ],
   "source": [
    "# Crear un conteo de las llamadas internas y externas\n",
    "call_counts = telcom['internal'].value_counts()\n",
    "\n",
    "# Trazar el gráfico circular\n",
    "plt.figure(figsize=(8, 6))\n",
    "plt.pie(call_counts, labels=['Externas', 'Internas'], autopct='%1.1f%%', startangle=140,colors=['#66b3ff', '#99ff99'])\n",
    "plt.title('Distribución de Llamadas Internas y Externas')\n",
    "plt.show()"
   ]
  },
  {
   "cell_type": "markdown",
   "metadata": {},
   "source": [
    "Al analizar la cantidad de llamadas internas y externas, se puede determinar que un 87,2% de las llamadas son externas, por lo tanto, se puede deducir que la mayoria de los operadores cumple con su tarea de realizar llamar a los clientes mas que a otros operadores."
   ]
  },
  {
   "cell_type": "markdown",
   "metadata": {},
   "source": [
    "## Definir metricas"
   ]
  },
  {
   "cell_type": "markdown",
   "metadata": {},
   "source": [
    "- Calcular cantidad de llamadas perdidas por operador.\n",
    "- Calcular el tiempo promedio de espera de llamadas y duracion promedio de llamadas por operador.\n",
    "- Calcular el número de llamadas salientes por operador.\n",
    "- Calcular porcentajes de llamadas perdidas y llamadas salientes.\n",
    "- Clasificar a los operadores en categorías bajo o alto según los umbrales establecidos."
   ]
  },
  {
   "cell_type": "code",
   "execution_count": 30,
   "metadata": {},
   "outputs": [
    {
     "data": {
      "text/html": [
       "<div>\n",
       "<style scoped>\n",
       "    .dataframe tbody tr th:only-of-type {\n",
       "        vertical-align: middle;\n",
       "    }\n",
       "\n",
       "    .dataframe tbody tr th {\n",
       "        vertical-align: top;\n",
       "    }\n",
       "\n",
       "    .dataframe thead th {\n",
       "        text-align: right;\n",
       "    }\n",
       "</style>\n",
       "<table border=\"1\" class=\"dataframe\">\n",
       "  <thead>\n",
       "    <tr style=\"text-align: right;\">\n",
       "      <th></th>\n",
       "      <th>operator_id</th>\n",
       "      <th>llamadas_totales</th>\n",
       "      <th>llamadas_perdidas</th>\n",
       "      <th>tiempo_espera_prom_seg</th>\n",
       "      <th>duracion_llamada_prom_min</th>\n",
       "      <th>llamadas_salientes</th>\n",
       "    </tr>\n",
       "  </thead>\n",
       "  <tbody>\n",
       "    <tr>\n",
       "      <th>0</th>\n",
       "      <td>879896</td>\n",
       "      <td>930</td>\n",
       "      <td>47</td>\n",
       "      <td>104.914530</td>\n",
       "      <td>9.051282</td>\n",
       "      <td>872</td>\n",
       "    </tr>\n",
       "    <tr>\n",
       "      <th>1</th>\n",
       "      <td>879898</td>\n",
       "      <td>7312</td>\n",
       "      <td>89</td>\n",
       "      <td>459.690265</td>\n",
       "      <td>18.969027</td>\n",
       "      <td>7209</td>\n",
       "    </tr>\n",
       "    <tr>\n",
       "      <th>2</th>\n",
       "      <td>880020</td>\n",
       "      <td>45</td>\n",
       "      <td>6</td>\n",
       "      <td>14.000000</td>\n",
       "      <td>1.900000</td>\n",
       "      <td>38</td>\n",
       "    </tr>\n",
       "    <tr>\n",
       "      <th>3</th>\n",
       "      <td>880022</td>\n",
       "      <td>197</td>\n",
       "      <td>29</td>\n",
       "      <td>53.971429</td>\n",
       "      <td>3.571429</td>\n",
       "      <td>189</td>\n",
       "    </tr>\n",
       "    <tr>\n",
       "      <th>4</th>\n",
       "      <td>880026</td>\n",
       "      <td>2232</td>\n",
       "      <td>87</td>\n",
       "      <td>121.978022</td>\n",
       "      <td>14.043956</td>\n",
       "      <td>2208</td>\n",
       "    </tr>\n",
       "    <tr>\n",
       "      <th>...</th>\n",
       "      <td>...</td>\n",
       "      <td>...</td>\n",
       "      <td>...</td>\n",
       "      <td>...</td>\n",
       "      <td>...</td>\n",
       "      <td>...</td>\n",
       "    </tr>\n",
       "    <tr>\n",
       "      <th>877</th>\n",
       "      <td>972408</td>\n",
       "      <td>6</td>\n",
       "      <td>1</td>\n",
       "      <td>22.500000</td>\n",
       "      <td>1.500000</td>\n",
       "      <td>6</td>\n",
       "    </tr>\n",
       "    <tr>\n",
       "      <th>878</th>\n",
       "      <td>972410</td>\n",
       "      <td>77</td>\n",
       "      <td>2</td>\n",
       "      <td>374.500000</td>\n",
       "      <td>15.750000</td>\n",
       "      <td>77</td>\n",
       "    </tr>\n",
       "    <tr>\n",
       "      <th>879</th>\n",
       "      <td>972412</td>\n",
       "      <td>61</td>\n",
       "      <td>2</td>\n",
       "      <td>210.000000</td>\n",
       "      <td>11.600000</td>\n",
       "      <td>60</td>\n",
       "    </tr>\n",
       "    <tr>\n",
       "      <th>880</th>\n",
       "      <td>972460</td>\n",
       "      <td>51</td>\n",
       "      <td>3</td>\n",
       "      <td>88.571429</td>\n",
       "      <td>2.857143</td>\n",
       "      <td>50</td>\n",
       "    </tr>\n",
       "    <tr>\n",
       "      <th>881</th>\n",
       "      <td>973120</td>\n",
       "      <td>3</td>\n",
       "      <td>1</td>\n",
       "      <td>10.000000</td>\n",
       "      <td>0.000000</td>\n",
       "      <td>3</td>\n",
       "    </tr>\n",
       "  </tbody>\n",
       "</table>\n",
       "<p>882 rows × 6 columns</p>\n",
       "</div>"
      ],
      "text/plain": [
       "     operator_id  llamadas_totales  llamadas_perdidas  tiempo_espera_prom_seg  \\\n",
       "0         879896               930                 47              104.914530   \n",
       "1         879898              7312                 89              459.690265   \n",
       "2         880020                45                  6               14.000000   \n",
       "3         880022               197                 29               53.971429   \n",
       "4         880026              2232                 87              121.978022   \n",
       "..           ...               ...                ...                     ...   \n",
       "877       972408                 6                  1               22.500000   \n",
       "878       972410                77                  2              374.500000   \n",
       "879       972412                61                  2              210.000000   \n",
       "880       972460                51                  3               88.571429   \n",
       "881       973120                 3                  1               10.000000   \n",
       "\n",
       "     duracion_llamada_prom_min  llamadas_salientes  \n",
       "0                     9.051282                 872  \n",
       "1                    18.969027                7209  \n",
       "2                     1.900000                  38  \n",
       "3                     3.571429                 189  \n",
       "4                    14.043956                2208  \n",
       "..                         ...                 ...  \n",
       "877                   1.500000                   6  \n",
       "878                  15.750000                  77  \n",
       "879                  11.600000                  60  \n",
       "880                   2.857143                  50  \n",
       "881                   0.000000                   3  \n",
       "\n",
       "[882 rows x 6 columns]"
      ]
     },
     "execution_count": 30,
     "metadata": {},
     "output_type": "execute_result"
    }
   ],
   "source": [
    "# Tabla con los datos para cada operador como su número de llamadas (salientes, entrantes, perdidas y totales)\n",
    "operators = telcom.groupby('operator_id').agg({'calls_count': 'sum', \n",
    "                                               'is_missed_call': 'sum', \n",
    "                                               'tiempo_espera_seg': 'mean',\n",
    "                                              'call_duration_min': 'mean',}).reset_index()\n",
    "operators.rename (columns= {'calls_count': 'llamadas_totales',\n",
    "                           'is_missed_call': 'llamadas_perdidas',\n",
    "                           \"tiempo_espera_seg\": \"tiempo_espera_prom_seg\",\n",
    "                            \"call_duration_min\": \"duracion_llamada_prom_min\"}, inplace=True)\n",
    "# Tabla de llamadas entrantes y salientes\n",
    "operator_direction = telcom.groupby(['operator_id', 'direction'])['calls_count'].sum().reset_index()\n",
    "\n",
    "# Juntamos ambas tablas para crear una tabla unificada\n",
    "operator_data = operators.merge(operator_direction.query('direction == \"in\"')[['operator_id','calls_count']], on='operator_id')\n",
    "operator_data = operators.merge(operator_direction.query('direction == \"out\"')[['operator_id','calls_count']], on='operator_id')\n",
    "operator_data.rename(columns={\"calls_count\": \"llamadas_salientes\"}, inplace=True)\n",
    "operator_data\n"
   ]
  },
  {
   "cell_type": "code",
   "execution_count": 31,
   "metadata": {},
   "outputs": [],
   "source": [
    "operator_data['%_perdidas'] = round((operator_data['llamadas_perdidas'] / operator_data['llamadas_totales']) * 100)\n",
    "operator_data['%_salientes'] = round((operator_data['llamadas_salientes'] / operator_data['llamadas_totales']) * 100)"
   ]
  },
  {
   "cell_type": "code",
   "execution_count": 32,
   "metadata": {},
   "outputs": [
    {
     "data": {
      "text/plain": [
       "43.0    1\n",
       "38.0    1\n",
       "35.0    1\n",
       "26.0    1\n",
       "71.0    1\n",
       "Name: %_perdidas, dtype: int64"
      ]
     },
     "execution_count": 32,
     "metadata": {},
     "output_type": "execute_result"
    }
   ],
   "source": [
    "#Observar los porcentajes de llamadas perdidas que mas se repiten\n",
    "operator_data['%_perdidas'].value_counts().tail()"
   ]
  },
  {
   "cell_type": "code",
   "execution_count": 33,
   "metadata": {},
   "outputs": [
    {
     "data": {
      "text/plain": [
       "100.0    352\n",
       "99.0      25\n",
       "98.0      20\n",
       "50.0      18\n",
       "94.0      14\n",
       "Name: %_salientes, dtype: int64"
      ]
     },
     "execution_count": 33,
     "metadata": {},
     "output_type": "execute_result"
    }
   ],
   "source": [
    "#Observar los porcentajes de llamadas salientes que mas se repiten\n",
    "operator_data['%_salientes'].value_counts().head()"
   ]
  },
  {
   "cell_type": "markdown",
   "metadata": {},
   "source": [
    "**Con estos datos se puede clasificar a los operadores con rendimiento bajo de acuerdo a las siguientes condiciones:**\n",
    "\n",
    "    - Operador con mas de 15% de llamadas perdidas\n",
    "    - Operador con menos del 90% de llamadas salientes"
   ]
  },
  {
   "cell_type": "code",
   "execution_count": 34,
   "metadata": {},
   "outputs": [],
   "source": [
    "# clasificar con numpy a los operadores de acuerdo a la condiciones anteriores \n",
    "operator_data['rendimiento'] = np.where(\n",
    "    (operator_data['%_perdidas'] > 15) & (operator_data['%_salientes'] < 90),\n",
    "    'bajo',\n",
    "    'alto')"
   ]
  },
  {
   "cell_type": "code",
   "execution_count": 35,
   "metadata": {},
   "outputs": [
    {
     "data": {
      "text/plain": [
       "rendimiento\n",
       "alto    800\n",
       "bajo     82\n",
       "Name: operator_id, dtype: int64"
      ]
     },
     "execution_count": 35,
     "metadata": {},
     "output_type": "execute_result"
    }
   ],
   "source": [
    "# cantidad de operadores clasificado por rendimiento\n",
    "operator_data.groupby('rendimiento')['operator_id'].count()"
   ]
  },
  {
   "cell_type": "markdown",
   "metadata": {},
   "source": [
    "De 882 operadores, el 91% son oepradores con un alto rendimiento, es decir, son eficaces. El 9% restantes se cataloga como operador ineficaz"
   ]
  },
  {
   "cell_type": "code",
   "execution_count": 36,
   "metadata": {},
   "outputs": [
    {
     "data": {
      "text/plain": [
       "rendimiento\n",
       "alto    10.807500\n",
       "bajo    25.597561\n",
       "Name: %_perdidas, dtype: float64"
      ]
     },
     "execution_count": 36,
     "metadata": {},
     "output_type": "execute_result"
    }
   ],
   "source": [
    "# promedio de porcentaje de llamadas perdidas clasificadas por el rendimiento de los operadores \n",
    "operator_data.groupby('rendimiento')['%_perdidas'].mean()"
   ]
  },
  {
   "cell_type": "code",
   "execution_count": 37,
   "metadata": {},
   "outputs": [
    {
     "data": {
      "text/plain": [
       "rendimiento\n",
       "alto    81.390000\n",
       "bajo    61.170732\n",
       "Name: %_salientes, dtype: float64"
      ]
     },
     "execution_count": 37,
     "metadata": {},
     "output_type": "execute_result"
    }
   ],
   "source": [
    "# promedio de porcentaje de llamadas salientes clasificadas por el rendimiento de los operadores \n",
    "operator_data.groupby('rendimiento')['%_salientes'].mean()"
   ]
  },
  {
   "cell_type": "markdown",
   "metadata": {},
   "source": [
    "## Prueba de hipotesis"
   ]
  },
  {
   "cell_type": "markdown",
   "metadata": {},
   "source": [
    "### Hipotesis 1: Tiempo promedio de espera en segundos operadores de bajo y alto rendimiento\n",
    "\n",
    "H0 (Hipótesis nula): No hay diferencia significativa en el tiempo promedio de espera de los operadores de bajo rendimiento y alto rendimiento\n",
    "\n",
    "H1 (Hipótesis alternativa): Hay diferencia significativa en el tiempo promedio de espera de los operadores de bajo rendimiento y alto rendimiento"
   ]
  },
  {
   "cell_type": "code",
   "execution_count": 38,
   "metadata": {},
   "outputs": [],
   "source": [
    "t_alto= operator_data.query(\"rendimiento=='alto'\")['tiempo_espera_prom_seg']\n",
    "t_bajo = operator_data.query(\"rendimiento=='bajo'\")['tiempo_espera_prom_seg']"
   ]
  },
  {
   "cell_type": "code",
   "execution_count": 39,
   "metadata": {},
   "outputs": [
    {
     "name": "stdout",
     "output_type": "stream",
     "text": [
      "333243.10092377756\n",
      "145.39944637006548\n"
     ]
    }
   ],
   "source": [
    "var_alto = np.var(t_alto)\n",
    "var_bajo = np.var(t_bajo)\n",
    "print(var_alto)\n",
    "print(var_bajo)"
   ]
  },
  {
   "cell_type": "code",
   "execution_count": 40,
   "metadata": {},
   "outputs": [
    {
     "name": "stdout",
     "output_type": "stream",
     "text": [
      "valor p: 4.255817055318088e-09\n",
      "Rechazo la hipotesis\n"
     ]
    }
   ],
   "source": [
    "# prueba levene para evaluar si las varianzas de los grupos son iguales\n",
    "alpha = 0.05\n",
    "pruebat = st.levene(t_alto, t_bajo, center='mean')\n",
    "print('valor p:', pruebat.pvalue)\n",
    "\n",
    "if (pruebat.pvalue < alpha):\n",
    "    print('Rechazo la hipotesis')\n",
    "else:\n",
    "    print('No puedo rechazar la hipotesis')"
   ]
  },
  {
   "cell_type": "markdown",
   "metadata": {},
   "source": [
    "Hallazgos prueba levene: El valor p resultante es 4.25e-09 por lo tanto es menor a 0.05 y determina que las muestras tienen varianzas diferentes."
   ]
  },
  {
   "cell_type": "code",
   "execution_count": 41,
   "metadata": {},
   "outputs": [
    {
     "name": "stdout",
     "output_type": "stream",
     "text": [
      "valor p: 4.644669925736865e-05\n",
      "Rechazo la hipotesis\n"
     ]
    }
   ],
   "source": [
    "alpha = 0.05\n",
    "pruebat = st.ttest_ind(t_alto, t_bajo, equal_var='False')\n",
    "print('valor p:', pruebat.pvalue)\n",
    "\n",
    "if (pruebat.pvalue < alpha):\n",
    "    print('Rechazo la hipotesis')\n",
    "else:\n",
    "    print('No puedo rechazar la hipotesis')"
   ]
  },
  {
   "cell_type": "markdown",
   "metadata": {},
   "source": [
    "Hallazgos: Dado que el valor p (4.64e-05) es menor que el nivel de significancia (0.05), se rechaza la hipótesis nula (H₀). Esto indica que existe una diferencia significativa en el tiempo promedio de espera entre los operadores de alto y bajo rendimiento."
   ]
  },
  {
   "cell_type": "markdown",
   "metadata": {},
   "source": [
    "### Hipotesis 2: Porcentaje promedio de llamadas perdidas entre operadores de alto y bajo rendimiento\n",
    "H0 (Hipótesis nula): No hay diferencia significativa en el porcentaje promedio de llamadas perdidas de los operadores de bajo rendimiento y alto rendimiento\n",
    "\n",
    "H1 (Hipótesis alternativa): Hay diferencia significativa en el porcentaje promedio de llamadas perdidas de los operadores de bajo rendimiento y alto rendimiento\n"
   ]
  },
  {
   "cell_type": "code",
   "execution_count": 42,
   "metadata": {},
   "outputs": [],
   "source": [
    "r_alto= operator_data.query(\"rendimiento=='alto'\")['%_perdidas']\n",
    "r_bajo = operator_data.query(\"rendimiento=='bajo'\")['%_perdidas']"
   ]
  },
  {
   "cell_type": "code",
   "execution_count": 43,
   "metadata": {},
   "outputs": [
    {
     "name": "stdout",
     "output_type": "stream",
     "text": [
      "326.21794374999996\n",
      "100.2648720999405\n"
     ]
    }
   ],
   "source": [
    "var_alto = np.var(r_alto)\n",
    "var_bajo = np.var(r_bajo)\n",
    "print(var_alto)\n",
    "print(var_bajo)"
   ]
  },
  {
   "cell_type": "code",
   "execution_count": 44,
   "metadata": {},
   "outputs": [
    {
     "name": "stdout",
     "output_type": "stream",
     "text": [
      "valor p: 0.2321312595449601\n",
      "No puedo rechazar la hipotesis\n"
     ]
    }
   ],
   "source": [
    "# prueba levene para evaluar si las varianzas de los grupos son iguales\n",
    "alpha = 0.05\n",
    "pruebat = st.levene(r_alto, r_bajo, center='mean')\n",
    "print('valor p:', pruebat.pvalue)\n",
    "\n",
    "if (pruebat.pvalue < alpha):\n",
    "    print('Rechazo la hipotesis')\n",
    "else:\n",
    "    print('No puedo rechazar la hipotesis')"
   ]
  },
  {
   "cell_type": "markdown",
   "metadata": {},
   "source": [
    "Hallazgos prueba levene: El valor p resultante es 0.23 por lo tanto es mayor a 0.05 y determina que las muestras tienen varianzas similares"
   ]
  },
  {
   "cell_type": "code",
   "execution_count": 45,
   "metadata": {},
   "outputs": [
    {
     "name": "stdout",
     "output_type": "stream",
     "text": [
      "valor p: 6.767592902970817e-13\n",
      "Rechazo la hipotesis\n"
     ]
    }
   ],
   "source": [
    "alpha = 0.05\n",
    "pruebat = st.ttest_ind(r_alto, r_bajo, equal_var='True')\n",
    "print('valor p:', pruebat.pvalue)\n",
    "\n",
    "if (pruebat.pvalue < alpha):\n",
    "    print('Rechazo la hipotesis')\n",
    "else:\n",
    "    print('No puedo rechazar la hipotesis')"
   ]
  },
  {
   "cell_type": "markdown",
   "metadata": {},
   "source": [
    "Hallazgos: Dado que el valor p (6.77e-13) es considerablemente menor que el nivel de significancia (0.05), se rechaza la hipótesis nula (H₀). Esto sugiere que existe una diferencia significativa en el porcentaje promedio de llamadas perdidas entre los operadores de alto y bajo rendimiento."
   ]
  },
  {
   "cell_type": "markdown",
   "metadata": {},
   "source": [
    "### Hipotesis 3: Porcentaje promedio de llamadas salientes entre operadores de alto y bajo rendimiento\n",
    "H0 (Hipótesis nula): No hay diferencia significativa en el porcentaje promedio de llamadas salientes de los operadores de bajo rendimiento y alto rendimiento\n",
    "\n",
    "H1 (Hipótesis alternativa): Hay diferencia significativa en el porcentaje promedio de llamadas salientes de los operadores de bajo rendimiento y alto rendimiento"
   ]
  },
  {
   "cell_type": "code",
   "execution_count": 46,
   "metadata": {},
   "outputs": [],
   "source": [
    "s_alto= operator_data.query(\"rendimiento=='alto'\")['%_salientes']\n",
    "s_bajo = operator_data.query(\"rendimiento=='bajo'\")['%_salientes']"
   ]
  },
  {
   "cell_type": "code",
   "execution_count": 47,
   "metadata": {},
   "outputs": [
    {
     "name": "stdout",
     "output_type": "stream",
     "text": [
      "749.0253999999998\n",
      "383.5806067816776\n"
     ]
    }
   ],
   "source": [
    "var_alto = np.var(s_alto)\n",
    "var_bajo = np.var(s_bajo)\n",
    "print(var_alto)\n",
    "print(var_bajo)"
   ]
  },
  {
   "cell_type": "code",
   "execution_count": 48,
   "metadata": {},
   "outputs": [
    {
     "name": "stdout",
     "output_type": "stream",
     "text": [
      "valor p: 0.006007165160059563\n",
      "Rechazo la hipotesis\n"
     ]
    }
   ],
   "source": [
    "alpha = 0.05\n",
    "pruebat = st.levene(s_alto, s_bajo, center='mean')\n",
    "print('valor p:', pruebat.pvalue)\n",
    "\n",
    "if (pruebat.pvalue < alpha):\n",
    "    print('Rechazo la hipotesis')\n",
    "else:\n",
    "    print('No puedo rechazar la hipotesis')"
   ]
  },
  {
   "cell_type": "markdown",
   "metadata": {},
   "source": [
    "Hallazgos prueba levene: El valor p resultante es 0.006 por lo tanto es menor a 0.05 y determina que las muestras tienen varianzas diferentes"
   ]
  },
  {
   "cell_type": "code",
   "execution_count": 49,
   "metadata": {},
   "outputs": [
    {
     "name": "stdout",
     "output_type": "stream",
     "text": [
      "valor p: 1.2325548720269263e-10\n",
      "Rechazo la hipotesis\n"
     ]
    }
   ],
   "source": [
    "alpha = 0.05\n",
    "pruebat = st.ttest_ind(s_alto, s_bajo, equal_var='False')\n",
    "print('valor p:', pruebat.pvalue)\n",
    "\n",
    "if (pruebat.pvalue < alpha):\n",
    "    print('Rechazo la hipotesis')\n",
    "else:\n",
    "    print('No puedo rechazar la hipotesis')"
   ]
  },
  {
   "cell_type": "markdown",
   "metadata": {},
   "source": [
    "Hallazgos: Dado que el valor p (1.23e-10) es considerablemente menor que el nivel de significancia (0.05), se rechaza la hipótesis nula (H₀). Esto sugiere que existe una diferencia significativa en el porcentaje promedio de llamadas salientes entre operadores de alto y bajo rendimiento."
   ]
  },
  {
   "cell_type": "markdown",
   "metadata": {},
   "source": [
    "## Conclusiones generales"
   ]
  },
  {
   "cell_type": "markdown",
   "metadata": {},
   "source": [
    "Si el objetivo es reducir la ineficiencia, el gráfico de distribución de llamadas perdidas sugiere que, aunque las llamadas perdidas no dominan, aún hay margen para reducirlas, ya que una fracción considerable no está siendo atendida. Es importante investigar más a fondo para identificar si ciertas condiciones (sobredemanda) contribuyen a este porcentaje de llamadas perdidas.\n",
    "\n",
    "La distribución de tiempo de espera apunta que, en general, los operadores están atendiendo las llamadas con relativa rapidez, pero es posible que los tiempos de espera largos correspondan a ciertos momentos de alta demanda o a operadores específicos.\n",
    "\n",
    "\n",
    "Se estudio la correlación entre el tiempo de espera y la probabilidad de llamada perdida, la cual dio un resultado de una correlación positiva, es decir, mientras aumenta el tiempo de espera, más llamadas perdidas hay.\n",
    "\n",
    "Con 882 operadores se calculo la cantidad de llamadas perdidas por operador, el tiempo promedio de espera de llamadas, el número de llamadas salientes por operador y se calcularon porcentajes de llamadas perdidas y llamadas salientes. Para poder clasificar el rendimiento de cada operador, es decir, calificarlo como eficaz o ineficaz.\n",
    "Con estos datos se pudo clasificar a los operadores con rendimiento bajo de acuerdo a las siguientes condiciones:\n",
    "- Operador con más de 15% de llamadas perdidas\n",
    "- Operador con menos del 90% de llamadas salientes\n",
    "\n",
    "Ya clasificados los 882 operadores, el 91% son operadores con un alto rendimiento, es decir, son eficaces. Y el 9% restantes se cataloga como operador ineficaz. De acuerdo a esto se realizaron las siguientes prueba de hipotesis y se concluyó. \n",
    "\n",
    "- **Hipotesis 1: Tiempo promedio de espera en segundos operadores de bajo y alto rendimiento.** Los resultados sugieren que el rendimiento del operador está relacionado con el tiempo promedio de espera, con diferencias estadísticamente significativas entre operadores de alto y bajo rendimiento.\n",
    "- **Hipotesis 2: Porcentaje promedio de llamadas perdidas entre operadores de alto y bajo rendimiento.** Los resultados indican que el rendimiento del operador está asociado con el porcentaje de llamadas perdidas, lo cual implica que los operadores de distinto rendimiento presentan diferencias estadísticamente significativas en cuanto a la cantidad de llamadas que no logran atender.\n",
    "- **Hipótesis 3: Porcentaje promedio de llamadas salientes entre operadores de alto y bajo rendimiento.** Los resultados indican que el rendimiento del operador tiene un impacto significativo en el porcentaje de llamadas salientes, mostrando diferencias estadísticamente significativas entre operadores de distinto rendimiento.\n",
    "\n",
    "Se sugiere utilizar este estudio para volver a capacitar al 9% de los operadores clasificados como ineficaces y obtener que es lo que hace mejor a los operadores eficaces."
   ]
  },
  {
   "cell_type": "markdown",
   "metadata": {},
   "source": [
    "## Fuentes"
   ]
  },
  {
   "cell_type": "markdown",
   "metadata": {},
   "source": [
    "https://plotly.com/python/pie-charts/"
   ]
  },
  {
   "cell_type": "markdown",
   "metadata": {},
   "source": [
    "https://blog.hubspot.es/service/metricas-call-center"
   ]
  },
  {
   "cell_type": "markdown",
   "metadata": {},
   "source": [
    "https://numpy.org/doc/stable/reference/generated/numpy.where.html"
   ]
  },
  {
   "cell_type": "markdown",
   "metadata": {},
   "source": [
    "https://docs.scipy.org/doc/scipy/reference/generated/scipy.stats.ttest_ind.html"
   ]
  },
  {
   "cell_type": "markdown",
   "metadata": {},
   "source": [
    "https://docs.scipy.org/doc/scipy/reference/stats.html"
   ]
  },
  {
   "cell_type": "markdown",
   "metadata": {},
   "source": [
    "## Presentacion en pdf"
   ]
  },
  {
   "cell_type": "markdown",
   "metadata": {},
   "source": [
    "https://drive.google.com/file/d/13uoabYnZS9hNksXGb1bdovfCbfE7zXBW/view?usp=sharing"
   ]
  }
 ],
 "metadata": {
  "ExecuteTimeLog": [
   {
    "duration": 3,
    "start_time": "2024-11-01T16:13:10.858Z"
   },
   {
    "duration": 2652,
    "start_time": "2024-11-01T16:15:44.219Z"
   },
   {
    "duration": 587,
    "start_time": "2024-11-01T16:16:42.874Z"
   },
   {
    "duration": 3,
    "start_time": "2024-11-01T16:16:46.159Z"
   },
   {
    "duration": 60,
    "start_time": "2024-11-01T16:16:48.643Z"
   },
   {
    "duration": 72,
    "start_time": "2024-11-01T16:17:20.303Z"
   },
   {
    "duration": 13,
    "start_time": "2024-11-01T16:17:28.681Z"
   },
   {
    "duration": 11,
    "start_time": "2024-11-01T16:17:32.661Z"
   },
   {
    "duration": 14,
    "start_time": "2024-11-01T16:18:05.638Z"
   },
   {
    "duration": 14,
    "start_time": "2024-11-01T16:18:10.196Z"
   },
   {
    "duration": 22,
    "start_time": "2024-11-01T16:18:13.473Z"
   },
   {
    "duration": 14,
    "start_time": "2024-11-01T16:20:12.564Z"
   },
   {
    "duration": 38,
    "start_time": "2024-11-01T16:31:21.823Z"
   },
   {
    "duration": 38,
    "start_time": "2024-11-01T16:31:31.521Z"
   },
   {
    "duration": 6,
    "start_time": "2024-11-01T17:05:25.199Z"
   },
   {
    "duration": 14,
    "start_time": "2024-11-01T17:07:13.988Z"
   },
   {
    "duration": 5,
    "start_time": "2024-11-01T17:07:19.238Z"
   },
   {
    "duration": 4,
    "start_time": "2024-11-01T17:07:25.726Z"
   },
   {
    "duration": 15,
    "start_time": "2024-11-01T17:07:31.152Z"
   },
   {
    "duration": 3,
    "start_time": "2024-11-01T17:08:12.516Z"
   },
   {
    "duration": 369,
    "start_time": "2024-11-01T17:08:21.413Z"
   },
   {
    "duration": 80,
    "start_time": "2024-11-01T17:08:29.697Z"
   },
   {
    "duration": 204,
    "start_time": "2024-11-01T17:09:06.487Z"
   },
   {
    "duration": 4,
    "start_time": "2024-11-01T17:09:21.008Z"
   },
   {
    "duration": 10,
    "start_time": "2024-11-01T17:09:40.543Z"
   },
   {
    "duration": 14,
    "start_time": "2024-11-01T17:09:50.130Z"
   },
   {
    "duration": 5,
    "start_time": "2024-11-01T17:10:18.119Z"
   },
   {
    "duration": 12,
    "start_time": "2024-11-01T17:10:26.704Z"
   },
   {
    "duration": 16,
    "start_time": "2024-11-01T17:11:09.558Z"
   },
   {
    "duration": 6,
    "start_time": "2024-11-01T17:11:17.607Z"
   },
   {
    "duration": 5,
    "start_time": "2024-11-01T17:11:47.284Z"
   },
   {
    "duration": 4,
    "start_time": "2024-11-01T17:12:12.737Z"
   },
   {
    "duration": 5,
    "start_time": "2024-11-01T17:13:20.682Z"
   },
   {
    "duration": 5,
    "start_time": "2024-11-01T17:14:39.600Z"
   },
   {
    "duration": 119,
    "start_time": "2024-11-01T17:15:09.485Z"
   },
   {
    "duration": 11,
    "start_time": "2024-11-01T17:15:17.086Z"
   },
   {
    "duration": 11,
    "start_time": "2024-11-01T17:15:43.636Z"
   },
   {
    "duration": 10,
    "start_time": "2024-11-01T17:15:51.241Z"
   },
   {
    "duration": 9,
    "start_time": "2024-11-01T17:16:03.986Z"
   },
   {
    "duration": 14,
    "start_time": "2024-11-01T17:16:11.199Z"
   },
   {
    "duration": 10,
    "start_time": "2024-11-01T17:16:17.284Z"
   },
   {
    "duration": 11,
    "start_time": "2024-11-01T17:16:26.074Z"
   },
   {
    "duration": 11,
    "start_time": "2024-11-01T17:16:32.804Z"
   },
   {
    "duration": 8,
    "start_time": "2024-11-01T17:17:00.898Z"
   },
   {
    "duration": 20,
    "start_time": "2024-11-01T17:17:31.956Z"
   },
   {
    "duration": 20,
    "start_time": "2024-11-01T17:17:38.385Z"
   },
   {
    "duration": 8,
    "start_time": "2024-11-01T17:17:58.977Z"
   },
   {
    "duration": 10,
    "start_time": "2024-11-01T17:18:02.366Z"
   },
   {
    "duration": 3,
    "start_time": "2024-11-01T17:20:12.631Z"
   },
   {
    "duration": 27,
    "start_time": "2024-11-01T17:20:20.902Z"
   },
   {
    "duration": 5,
    "start_time": "2024-11-01T17:20:45.379Z"
   },
   {
    "duration": 3,
    "start_time": "2024-11-01T17:20:48.916Z"
   },
   {
    "duration": 3,
    "start_time": "2024-11-01T17:20:54.527Z"
   },
   {
    "duration": 31,
    "start_time": "2024-11-01T17:20:58.680Z"
   },
   {
    "duration": 3,
    "start_time": "2024-11-01T17:21:11.471Z"
   },
   {
    "duration": 33,
    "start_time": "2024-11-01T17:21:12.947Z"
   },
   {
    "duration": 3,
    "start_time": "2024-11-01T17:21:21.723Z"
   },
   {
    "duration": 38,
    "start_time": "2024-11-01T17:21:25.610Z"
   },
   {
    "duration": 3,
    "start_time": "2024-11-01T17:21:35.109Z"
   },
   {
    "duration": 37,
    "start_time": "2024-11-01T17:21:36.639Z"
   },
   {
    "duration": 3,
    "start_time": "2024-11-01T17:22:07.433Z"
   },
   {
    "duration": 36,
    "start_time": "2024-11-01T17:22:09.127Z"
   },
   {
    "duration": 37,
    "start_time": "2024-11-01T17:22:37.802Z"
   },
   {
    "duration": 4,
    "start_time": "2024-11-01T17:23:14.163Z"
   },
   {
    "duration": 4,
    "start_time": "2024-11-01T17:23:34.562Z"
   },
   {
    "duration": 3,
    "start_time": "2024-11-01T17:23:39.828Z"
   },
   {
    "duration": 55,
    "start_time": "2024-11-01T17:23:42.156Z"
   },
   {
    "duration": 5,
    "start_time": "2024-11-01T17:24:07.940Z"
   },
   {
    "duration": 4,
    "start_time": "2024-11-01T17:26:07.065Z"
   },
   {
    "duration": 14,
    "start_time": "2024-11-01T17:26:12.480Z"
   },
   {
    "duration": 16,
    "start_time": "2024-11-01T17:26:32.556Z"
   },
   {
    "duration": 14,
    "start_time": "2024-11-01T17:26:45.917Z"
   },
   {
    "duration": 14,
    "start_time": "2024-11-01T17:27:01.519Z"
   },
   {
    "duration": 14,
    "start_time": "2024-11-01T17:27:04.841Z"
   },
   {
    "duration": 15,
    "start_time": "2024-11-01T17:27:11.816Z"
   },
   {
    "duration": 15,
    "start_time": "2024-11-01T17:27:18.687Z"
   },
   {
    "duration": 42,
    "start_time": "2024-11-01T17:29:26.592Z"
   },
   {
    "duration": 15,
    "start_time": "2024-11-01T17:29:36.741Z"
   },
   {
    "duration": 10,
    "start_time": "2024-11-01T17:29:57.102Z"
   },
   {
    "duration": 10,
    "start_time": "2024-11-01T17:30:00.872Z"
   },
   {
    "duration": 12,
    "start_time": "2024-11-01T17:30:06.831Z"
   },
   {
    "duration": 14,
    "start_time": "2024-11-01T17:30:26.791Z"
   },
   {
    "duration": 11,
    "start_time": "2024-11-01T17:30:29.953Z"
   },
   {
    "duration": 6,
    "start_time": "2024-11-01T17:30:59.722Z"
   },
   {
    "duration": 5,
    "start_time": "2024-11-01T17:32:09.550Z"
   },
   {
    "duration": 23,
    "start_time": "2024-11-01T17:36:45.770Z"
   },
   {
    "duration": 31,
    "start_time": "2024-11-01T17:36:56.377Z"
   },
   {
    "duration": 14,
    "start_time": "2024-11-01T17:38:27.967Z"
   },
   {
    "duration": 32,
    "start_time": "2024-11-01T17:38:33.356Z"
   },
   {
    "duration": 16,
    "start_time": "2024-11-01T17:39:02.573Z"
   },
   {
    "duration": 33,
    "start_time": "2024-11-01T17:39:05.553Z"
   },
   {
    "duration": 27,
    "start_time": "2024-11-01T17:40:19.315Z"
   },
   {
    "duration": 19,
    "start_time": "2024-11-01T17:40:34.751Z"
   },
   {
    "duration": 263,
    "start_time": "2024-11-01T17:41:05.999Z"
   },
   {
    "duration": 16,
    "start_time": "2024-11-01T17:41:20.613Z"
   },
   {
    "duration": 13,
    "start_time": "2024-11-01T17:43:39.643Z"
   },
   {
    "duration": 20,
    "start_time": "2024-11-01T17:43:48.269Z"
   },
   {
    "duration": 15,
    "start_time": "2024-11-01T17:43:57.563Z"
   },
   {
    "duration": 14,
    "start_time": "2024-11-01T17:44:22.293Z"
   },
   {
    "duration": 16,
    "start_time": "2024-11-01T17:44:24.479Z"
   },
   {
    "duration": 5,
    "start_time": "2024-11-01T17:44:58.720Z"
   },
   {
    "duration": 5,
    "start_time": "2024-11-01T17:46:12.129Z"
   },
   {
    "duration": 16,
    "start_time": "2024-11-01T17:51:08.199Z"
   },
   {
    "duration": 17,
    "start_time": "2024-11-01T17:51:37.319Z"
   },
   {
    "duration": 5,
    "start_time": "2024-11-01T17:52:00.077Z"
   },
   {
    "duration": 17,
    "start_time": "2024-11-01T17:52:03.655Z"
   },
   {
    "duration": 10,
    "start_time": "2024-11-01T17:53:44.469Z"
   },
   {
    "duration": 10,
    "start_time": "2024-11-01T17:54:08.000Z"
   },
   {
    "duration": 7,
    "start_time": "2024-11-01T17:54:14.444Z"
   },
   {
    "duration": 891,
    "start_time": "2024-11-01T17:54:14.455Z"
   },
   {
    "duration": 47,
    "start_time": "2024-11-01T17:54:15.348Z"
   },
   {
    "duration": 4,
    "start_time": "2024-11-01T17:54:15.396Z"
   },
   {
    "duration": 56,
    "start_time": "2024-11-01T17:54:15.409Z"
   },
   {
    "duration": 23,
    "start_time": "2024-11-01T17:54:15.468Z"
   },
   {
    "duration": 4,
    "start_time": "2024-11-01T17:54:15.508Z"
   },
   {
    "duration": 4,
    "start_time": "2024-11-01T17:54:15.514Z"
   },
   {
    "duration": 16,
    "start_time": "2024-11-01T17:54:15.520Z"
   },
   {
    "duration": 11,
    "start_time": "2024-11-01T17:54:15.537Z"
   },
   {
    "duration": 12,
    "start_time": "2024-11-01T17:54:15.549Z"
   },
   {
    "duration": 5,
    "start_time": "2024-11-01T17:54:15.562Z"
   },
   {
    "duration": 41,
    "start_time": "2024-11-01T17:54:15.569Z"
   },
   {
    "duration": 11,
    "start_time": "2024-11-01T17:54:15.611Z"
   },
   {
    "duration": 14,
    "start_time": "2024-11-01T17:54:15.625Z"
   },
   {
    "duration": 10,
    "start_time": "2024-11-01T17:54:15.641Z"
   },
   {
    "duration": 11,
    "start_time": "2024-11-01T17:54:15.653Z"
   },
   {
    "duration": 5,
    "start_time": "2024-11-01T17:54:15.665Z"
   },
   {
    "duration": 39,
    "start_time": "2024-11-01T17:54:15.672Z"
   },
   {
    "duration": 4,
    "start_time": "2024-11-01T17:54:15.713Z"
   },
   {
    "duration": 277,
    "start_time": "2024-11-01T17:54:15.718Z"
   },
   {
    "duration": 0,
    "start_time": "2024-11-01T17:54:15.997Z"
   },
   {
    "duration": 20,
    "start_time": "2024-11-01T17:54:19.498Z"
   },
   {
    "duration": 4,
    "start_time": "2024-11-01T17:54:41.477Z"
   },
   {
    "duration": 5,
    "start_time": "2024-11-01T17:55:10.682Z"
   },
   {
    "duration": 8,
    "start_time": "2024-11-01T17:55:35.945Z"
   },
   {
    "duration": 13,
    "start_time": "2024-11-01T17:55:37.688Z"
   },
   {
    "duration": 5,
    "start_time": "2024-11-01T17:55:40.750Z"
   },
   {
    "duration": 20,
    "start_time": "2024-11-01T17:55:50.789Z"
   },
   {
    "duration": 10,
    "start_time": "2024-11-01T17:55:52.243Z"
   },
   {
    "duration": 15,
    "start_time": "2024-11-01T17:55:53.497Z"
   },
   {
    "duration": 10,
    "start_time": "2024-11-01T17:56:26.714Z"
   },
   {
    "duration": 12,
    "start_time": "2024-11-01T17:56:46.979Z"
   },
   {
    "duration": 21,
    "start_time": "2024-11-01T18:07:27.649Z"
   },
   {
    "duration": 15,
    "start_time": "2024-11-01T18:07:36.025Z"
   },
   {
    "duration": 18,
    "start_time": "2024-11-01T18:07:38.825Z"
   },
   {
    "duration": 5,
    "start_time": "2024-11-01T18:07:53.832Z"
   },
   {
    "duration": 5,
    "start_time": "2024-11-01T18:07:55.653Z"
   },
   {
    "duration": 5,
    "start_time": "2024-11-01T18:08:29.256Z"
   },
   {
    "duration": 10,
    "start_time": "2024-11-01T18:08:42.947Z"
   },
   {
    "duration": 13,
    "start_time": "2024-11-01T18:08:46.269Z"
   },
   {
    "duration": 10,
    "start_time": "2024-11-01T18:08:54.561Z"
   },
   {
    "duration": 2535,
    "start_time": "2024-11-03T18:59:14.755Z"
   },
   {
    "duration": 66,
    "start_time": "2024-11-03T18:59:17.292Z"
   },
   {
    "duration": 3,
    "start_time": "2024-11-03T18:59:17.360Z"
   },
   {
    "duration": 56,
    "start_time": "2024-11-03T18:59:17.365Z"
   },
   {
    "duration": 4,
    "start_time": "2024-11-03T18:59:17.423Z"
   },
   {
    "duration": 4,
    "start_time": "2024-11-03T18:59:17.428Z"
   },
   {
    "duration": 15,
    "start_time": "2024-11-03T18:59:17.434Z"
   },
   {
    "duration": 13,
    "start_time": "2024-11-03T18:59:17.451Z"
   },
   {
    "duration": 34,
    "start_time": "2024-11-03T18:59:17.465Z"
   },
   {
    "duration": 4,
    "start_time": "2024-11-03T18:59:17.502Z"
   },
   {
    "duration": 5,
    "start_time": "2024-11-03T18:59:17.507Z"
   },
   {
    "duration": 11,
    "start_time": "2024-11-03T18:59:17.514Z"
   },
   {
    "duration": 11,
    "start_time": "2024-11-03T18:59:17.526Z"
   },
   {
    "duration": 8,
    "start_time": "2024-11-03T18:59:17.539Z"
   },
   {
    "duration": 47,
    "start_time": "2024-11-03T18:59:17.550Z"
   },
   {
    "duration": 4,
    "start_time": "2024-11-03T18:59:17.599Z"
   },
   {
    "duration": 5,
    "start_time": "2024-11-03T18:59:17.605Z"
   },
   {
    "duration": 3,
    "start_time": "2024-11-03T18:59:17.611Z"
   },
   {
    "duration": 17,
    "start_time": "2024-11-03T18:59:17.616Z"
   },
   {
    "duration": 72,
    "start_time": "2024-11-03T18:59:17.635Z"
   },
   {
    "duration": 20,
    "start_time": "2024-11-03T18:59:55.607Z"
   },
   {
    "duration": 9,
    "start_time": "2024-11-03T18:59:57.773Z"
   },
   {
    "duration": 13,
    "start_time": "2024-11-03T19:00:02.049Z"
   },
   {
    "duration": 894,
    "start_time": "2024-11-03T19:00:18.093Z"
   },
   {
    "duration": 41,
    "start_time": "2024-11-03T19:00:18.989Z"
   },
   {
    "duration": 3,
    "start_time": "2024-11-03T19:00:19.032Z"
   },
   {
    "duration": 69,
    "start_time": "2024-11-03T19:00:19.037Z"
   },
   {
    "duration": 5,
    "start_time": "2024-11-03T19:00:19.108Z"
   },
   {
    "duration": 5,
    "start_time": "2024-11-03T19:00:19.115Z"
   },
   {
    "duration": 16,
    "start_time": "2024-11-03T19:00:19.121Z"
   },
   {
    "duration": 10,
    "start_time": "2024-11-03T19:00:19.138Z"
   },
   {
    "duration": 42,
    "start_time": "2024-11-03T19:00:19.150Z"
   },
   {
    "duration": 4,
    "start_time": "2024-11-03T19:00:19.195Z"
   },
   {
    "duration": 5,
    "start_time": "2024-11-03T19:00:19.200Z"
   },
   {
    "duration": 10,
    "start_time": "2024-11-03T19:00:19.206Z"
   },
   {
    "duration": 12,
    "start_time": "2024-11-03T19:00:19.218Z"
   },
   {
    "duration": 9,
    "start_time": "2024-11-03T19:00:19.231Z"
   },
   {
    "duration": 47,
    "start_time": "2024-11-03T19:00:19.241Z"
   },
   {
    "duration": 6,
    "start_time": "2024-11-03T19:00:19.289Z"
   },
   {
    "duration": 4,
    "start_time": "2024-11-03T19:00:19.296Z"
   },
   {
    "duration": 4,
    "start_time": "2024-11-03T19:00:19.301Z"
   },
   {
    "duration": 18,
    "start_time": "2024-11-03T19:00:19.307Z"
   },
   {
    "duration": 67,
    "start_time": "2024-11-03T19:00:19.328Z"
   },
   {
    "duration": 18,
    "start_time": "2024-11-03T19:00:48.429Z"
   },
   {
    "duration": 9,
    "start_time": "2024-11-03T19:00:50.426Z"
   },
   {
    "duration": 13,
    "start_time": "2024-11-03T19:00:52.227Z"
   },
   {
    "duration": 419,
    "start_time": "2024-11-03T19:01:46.573Z"
   },
   {
    "duration": 10,
    "start_time": "2024-11-03T19:01:52.800Z"
   },
   {
    "duration": 13,
    "start_time": "2024-11-03T19:01:55.111Z"
   },
   {
    "duration": 4,
    "start_time": "2024-11-03T19:02:00.933Z"
   },
   {
    "duration": 4,
    "start_time": "2024-11-03T19:02:02.932Z"
   },
   {
    "duration": 5,
    "start_time": "2024-11-03T19:02:28.544Z"
   },
   {
    "duration": 4,
    "start_time": "2024-11-03T19:04:32.489Z"
   },
   {
    "duration": 4,
    "start_time": "2024-11-03T19:04:40.938Z"
   },
   {
    "duration": 3,
    "start_time": "2024-11-03T19:07:41.895Z"
   },
   {
    "duration": 58,
    "start_time": "2024-11-03T19:07:43.808Z"
   },
   {
    "duration": 3,
    "start_time": "2024-11-03T19:07:55.268Z"
   },
   {
    "duration": 426,
    "start_time": "2024-11-03T19:07:57.075Z"
   },
   {
    "duration": 3,
    "start_time": "2024-11-03T19:08:04.206Z"
   },
   {
    "duration": 81,
    "start_time": "2024-11-03T19:08:05.936Z"
   },
   {
    "duration": 22,
    "start_time": "2024-11-03T19:08:21.594Z"
   },
   {
    "duration": 14,
    "start_time": "2024-11-03T19:10:54.691Z"
   },
   {
    "duration": 9,
    "start_time": "2024-11-03T19:10:59.293Z"
   },
   {
    "duration": 831,
    "start_time": "2024-11-03T19:11:14.666Z"
   },
   {
    "duration": 42,
    "start_time": "2024-11-03T19:11:15.499Z"
   },
   {
    "duration": 3,
    "start_time": "2024-11-03T19:11:15.543Z"
   },
   {
    "duration": 87,
    "start_time": "2024-11-03T19:11:15.549Z"
   },
   {
    "duration": 4,
    "start_time": "2024-11-03T19:11:15.638Z"
   },
   {
    "duration": 4,
    "start_time": "2024-11-03T19:11:15.643Z"
   },
   {
    "duration": 37,
    "start_time": "2024-11-03T19:11:15.649Z"
   },
   {
    "duration": 10,
    "start_time": "2024-11-03T19:11:15.688Z"
   },
   {
    "duration": 12,
    "start_time": "2024-11-03T19:11:15.699Z"
   },
   {
    "duration": 4,
    "start_time": "2024-11-03T19:11:15.714Z"
   },
   {
    "duration": 4,
    "start_time": "2024-11-03T19:11:15.719Z"
   },
   {
    "duration": 4,
    "start_time": "2024-11-03T19:11:15.724Z"
   },
   {
    "duration": 8,
    "start_time": "2024-11-03T19:11:15.730Z"
   },
   {
    "duration": 51,
    "start_time": "2024-11-03T19:11:15.739Z"
   },
   {
    "duration": 11,
    "start_time": "2024-11-03T19:11:15.792Z"
   },
   {
    "duration": 8,
    "start_time": "2024-11-03T19:11:15.805Z"
   },
   {
    "duration": 12,
    "start_time": "2024-11-03T19:11:15.815Z"
   },
   {
    "duration": 6,
    "start_time": "2024-11-03T19:11:15.828Z"
   },
   {
    "duration": 3,
    "start_time": "2024-11-03T19:11:15.836Z"
   },
   {
    "duration": 4,
    "start_time": "2024-11-03T19:11:15.842Z"
   },
   {
    "duration": 21,
    "start_time": "2024-11-03T19:11:15.886Z"
   },
   {
    "duration": 13,
    "start_time": "2024-11-03T19:11:29.864Z"
   },
   {
    "duration": 11,
    "start_time": "2024-11-03T19:11:37.916Z"
   },
   {
    "duration": 5,
    "start_time": "2024-11-03T19:13:55.131Z"
   },
   {
    "duration": 3,
    "start_time": "2024-11-03T19:14:13.370Z"
   },
   {
    "duration": 10,
    "start_time": "2024-11-03T19:14:16.023Z"
   },
   {
    "duration": 5,
    "start_time": "2024-11-03T19:14:22.615Z"
   },
   {
    "duration": 50,
    "start_time": "2024-11-03T19:15:31.960Z"
   },
   {
    "duration": 9,
    "start_time": "2024-11-03T19:16:34.208Z"
   },
   {
    "duration": 10,
    "start_time": "2024-11-03T19:17:45.934Z"
   },
   {
    "duration": 9,
    "start_time": "2024-11-03T19:18:42.816Z"
   },
   {
    "duration": 6,
    "start_time": "2024-11-03T19:20:19.659Z"
   },
   {
    "duration": 14,
    "start_time": "2024-11-03T19:20:38.543Z"
   },
   {
    "duration": 6,
    "start_time": "2024-11-03T19:20:44.044Z"
   },
   {
    "duration": 5,
    "start_time": "2024-11-03T19:20:46.484Z"
   },
   {
    "duration": 867,
    "start_time": "2024-11-03T19:21:38.524Z"
   },
   {
    "duration": 40,
    "start_time": "2024-11-03T19:21:39.393Z"
   },
   {
    "duration": 3,
    "start_time": "2024-11-03T19:21:39.435Z"
   },
   {
    "duration": 87,
    "start_time": "2024-11-03T19:21:39.439Z"
   },
   {
    "duration": 4,
    "start_time": "2024-11-03T19:21:39.529Z"
   },
   {
    "duration": 4,
    "start_time": "2024-11-03T19:21:39.534Z"
   },
   {
    "duration": 15,
    "start_time": "2024-11-03T19:21:39.540Z"
   },
   {
    "duration": 37,
    "start_time": "2024-11-03T19:21:39.557Z"
   },
   {
    "duration": 13,
    "start_time": "2024-11-03T19:21:39.595Z"
   },
   {
    "duration": 4,
    "start_time": "2024-11-03T19:21:39.609Z"
   },
   {
    "duration": 4,
    "start_time": "2024-11-03T19:21:39.615Z"
   },
   {
    "duration": 4,
    "start_time": "2024-11-03T19:21:39.620Z"
   },
   {
    "duration": 10,
    "start_time": "2024-11-03T19:21:39.626Z"
   },
   {
    "duration": 6,
    "start_time": "2024-11-03T19:21:39.639Z"
   },
   {
    "duration": 12,
    "start_time": "2024-11-03T19:21:39.687Z"
   },
   {
    "duration": 12,
    "start_time": "2024-11-03T19:21:39.701Z"
   },
   {
    "duration": 8,
    "start_time": "2024-11-03T19:21:39.715Z"
   },
   {
    "duration": 12,
    "start_time": "2024-11-03T19:21:39.724Z"
   },
   {
    "duration": 6,
    "start_time": "2024-11-03T19:21:39.738Z"
   },
   {
    "duration": 4,
    "start_time": "2024-11-03T19:21:39.745Z"
   },
   {
    "duration": 3,
    "start_time": "2024-11-03T19:21:39.787Z"
   },
   {
    "duration": 21,
    "start_time": "2024-11-03T19:21:39.793Z"
   },
   {
    "duration": 35,
    "start_time": "2024-11-03T19:22:05.486Z"
   },
   {
    "duration": 68,
    "start_time": "2024-11-03T19:22:10.362Z"
   },
   {
    "duration": 5,
    "start_time": "2024-11-03T19:22:22.806Z"
   },
   {
    "duration": 6,
    "start_time": "2024-11-03T19:22:24.542Z"
   },
   {
    "duration": 17,
    "start_time": "2024-11-03T19:22:39.165Z"
   },
   {
    "duration": 10,
    "start_time": "2024-11-03T19:22:48.752Z"
   },
   {
    "duration": 23,
    "start_time": "2024-11-03T19:22:57.882Z"
   },
   {
    "duration": 9,
    "start_time": "2024-11-03T19:22:59.775Z"
   },
   {
    "duration": 293,
    "start_time": "2024-11-03T19:23:02.916Z"
   },
   {
    "duration": 19,
    "start_time": "2024-11-03T19:23:15.351Z"
   },
   {
    "duration": 947,
    "start_time": "2024-11-03T19:23:25.855Z"
   },
   {
    "duration": 40,
    "start_time": "2024-11-03T19:23:26.804Z"
   },
   {
    "duration": 4,
    "start_time": "2024-11-03T19:23:26.845Z"
   },
   {
    "duration": 97,
    "start_time": "2024-11-03T19:23:26.852Z"
   },
   {
    "duration": 5,
    "start_time": "2024-11-03T19:23:26.951Z"
   },
   {
    "duration": 6,
    "start_time": "2024-11-03T19:23:26.958Z"
   },
   {
    "duration": 31,
    "start_time": "2024-11-03T19:23:26.967Z"
   },
   {
    "duration": 10,
    "start_time": "2024-11-03T19:23:27.000Z"
   },
   {
    "duration": 300,
    "start_time": "2024-11-03T19:23:27.012Z"
   },
   {
    "duration": 0,
    "start_time": "2024-11-03T19:23:27.315Z"
   },
   {
    "duration": 0,
    "start_time": "2024-11-03T19:23:27.316Z"
   },
   {
    "duration": 0,
    "start_time": "2024-11-03T19:23:27.317Z"
   },
   {
    "duration": 0,
    "start_time": "2024-11-03T19:23:27.319Z"
   },
   {
    "duration": 0,
    "start_time": "2024-11-03T19:23:27.320Z"
   },
   {
    "duration": 0,
    "start_time": "2024-11-03T19:23:27.321Z"
   },
   {
    "duration": 0,
    "start_time": "2024-11-03T19:23:27.322Z"
   },
   {
    "duration": 0,
    "start_time": "2024-11-03T19:23:27.324Z"
   },
   {
    "duration": 0,
    "start_time": "2024-11-03T19:23:27.325Z"
   },
   {
    "duration": 0,
    "start_time": "2024-11-03T19:23:27.326Z"
   },
   {
    "duration": 0,
    "start_time": "2024-11-03T19:23:27.328Z"
   },
   {
    "duration": 0,
    "start_time": "2024-11-03T19:23:27.329Z"
   },
   {
    "duration": 0,
    "start_time": "2024-11-03T19:23:27.330Z"
   },
   {
    "duration": 20,
    "start_time": "2024-11-03T19:23:45.714Z"
   },
   {
    "duration": 9,
    "start_time": "2024-11-03T19:23:52.214Z"
   },
   {
    "duration": 13,
    "start_time": "2024-11-03T19:23:55.316Z"
   },
   {
    "duration": 8,
    "start_time": "2024-11-03T19:24:29.529Z"
   },
   {
    "duration": 13,
    "start_time": "2024-11-03T19:24:45.040Z"
   },
   {
    "duration": 15,
    "start_time": "2024-11-03T19:24:54.737Z"
   },
   {
    "duration": 11,
    "start_time": "2024-11-03T19:24:59.469Z"
   },
   {
    "duration": 17,
    "start_time": "2024-11-03T19:25:05.225Z"
   },
   {
    "duration": 11,
    "start_time": "2024-11-03T19:25:06.808Z"
   },
   {
    "duration": 13,
    "start_time": "2024-11-03T19:25:11.279Z"
   },
   {
    "duration": 15,
    "start_time": "2024-11-03T19:25:20.492Z"
   },
   {
    "duration": 11,
    "start_time": "2024-11-03T19:25:22.366Z"
   },
   {
    "duration": 14,
    "start_time": "2024-11-03T19:25:24.591Z"
   },
   {
    "duration": 13,
    "start_time": "2024-11-03T19:25:48.789Z"
   },
   {
    "duration": 4,
    "start_time": "2024-11-03T19:25:55.558Z"
   },
   {
    "duration": 3,
    "start_time": "2024-11-03T19:25:58.482Z"
   },
   {
    "duration": 4,
    "start_time": "2024-11-03T19:26:01.063Z"
   },
   {
    "duration": 15,
    "start_time": "2024-11-03T19:26:09.352Z"
   },
   {
    "duration": 8,
    "start_time": "2024-11-03T19:26:22.472Z"
   },
   {
    "duration": 14,
    "start_time": "2024-11-03T19:26:26.164Z"
   },
   {
    "duration": 5,
    "start_time": "2024-11-03T19:26:31.726Z"
   },
   {
    "duration": 4,
    "start_time": "2024-11-03T19:26:36.908Z"
   },
   {
    "duration": 15,
    "start_time": "2024-11-03T19:26:40.301Z"
   },
   {
    "duration": 21,
    "start_time": "2024-11-03T19:27:11.617Z"
   },
   {
    "duration": 11,
    "start_time": "2024-11-03T19:27:14.928Z"
   },
   {
    "duration": 15,
    "start_time": "2024-11-03T19:27:16.834Z"
   },
   {
    "duration": 11,
    "start_time": "2024-11-03T19:27:28.070Z"
   },
   {
    "duration": 11,
    "start_time": "2024-11-03T19:28:17.154Z"
   },
   {
    "duration": 12,
    "start_time": "2024-11-03T19:28:25.427Z"
   },
   {
    "duration": 18,
    "start_time": "2024-11-03T19:28:30.890Z"
   },
   {
    "duration": 4,
    "start_time": "2024-11-03T19:28:38.176Z"
   },
   {
    "duration": 6,
    "start_time": "2024-11-03T19:28:40.791Z"
   },
   {
    "duration": 4,
    "start_time": "2024-11-03T19:28:42.770Z"
   },
   {
    "duration": 4,
    "start_time": "2024-11-03T19:28:44.752Z"
   },
   {
    "duration": 5,
    "start_time": "2024-11-03T19:30:04.271Z"
   },
   {
    "duration": 5,
    "start_time": "2024-11-03T19:30:06.011Z"
   },
   {
    "duration": 15,
    "start_time": "2024-11-03T19:30:09.963Z"
   },
   {
    "duration": 12,
    "start_time": "2024-11-03T19:31:01.590Z"
   },
   {
    "duration": 3,
    "start_time": "2024-11-03T19:31:11.294Z"
   },
   {
    "duration": 3,
    "start_time": "2024-11-03T19:31:13.766Z"
   },
   {
    "duration": 11,
    "start_time": "2024-11-03T19:31:16.734Z"
   },
   {
    "duration": 839,
    "start_time": "2024-11-03T19:31:25.354Z"
   },
   {
    "duration": 40,
    "start_time": "2024-11-03T19:31:26.195Z"
   },
   {
    "duration": 3,
    "start_time": "2024-11-03T19:31:26.237Z"
   },
   {
    "duration": 86,
    "start_time": "2024-11-03T19:31:26.242Z"
   },
   {
    "duration": 5,
    "start_time": "2024-11-03T19:31:26.330Z"
   },
   {
    "duration": 4,
    "start_time": "2024-11-03T19:31:26.336Z"
   },
   {
    "duration": 17,
    "start_time": "2024-11-03T19:31:26.342Z"
   },
   {
    "duration": 35,
    "start_time": "2024-11-03T19:31:26.360Z"
   },
   {
    "duration": 12,
    "start_time": "2024-11-03T19:31:26.397Z"
   },
   {
    "duration": 4,
    "start_time": "2024-11-03T19:31:26.412Z"
   },
   {
    "duration": 4,
    "start_time": "2024-11-03T19:31:26.417Z"
   },
   {
    "duration": 5,
    "start_time": "2024-11-03T19:31:26.422Z"
   },
   {
    "duration": 11,
    "start_time": "2024-11-03T19:31:26.428Z"
   },
   {
    "duration": 4,
    "start_time": "2024-11-03T19:31:26.440Z"
   },
   {
    "duration": 53,
    "start_time": "2024-11-03T19:31:26.445Z"
   },
   {
    "duration": 12,
    "start_time": "2024-11-03T19:31:26.499Z"
   },
   {
    "duration": 16,
    "start_time": "2024-11-03T19:31:26.513Z"
   },
   {
    "duration": 5,
    "start_time": "2024-11-03T19:31:26.530Z"
   },
   {
    "duration": 4,
    "start_time": "2024-11-03T19:31:26.536Z"
   },
   {
    "duration": 3,
    "start_time": "2024-11-03T19:31:26.542Z"
   },
   {
    "duration": 57,
    "start_time": "2024-11-03T19:31:26.547Z"
   },
   {
    "duration": 5,
    "start_time": "2024-11-03T19:32:31.594Z"
   },
   {
    "duration": 3,
    "start_time": "2024-11-03T19:32:48.764Z"
   },
   {
    "duration": 3,
    "start_time": "2024-11-03T19:33:06.143Z"
   },
   {
    "duration": 4,
    "start_time": "2024-11-03T19:33:26.041Z"
   },
   {
    "duration": 13,
    "start_time": "2024-11-03T19:33:33.688Z"
   },
   {
    "duration": 4,
    "start_time": "2024-11-03T19:34:15.202Z"
   },
   {
    "duration": 3,
    "start_time": "2024-11-03T19:34:20.191Z"
   },
   {
    "duration": 65,
    "start_time": "2024-11-03T19:34:35.568Z"
   },
   {
    "duration": 4,
    "start_time": "2024-11-03T19:37:41.240Z"
   },
   {
    "duration": 7,
    "start_time": "2024-11-03T19:38:28.591Z"
   },
   {
    "duration": 5,
    "start_time": "2024-11-03T19:38:44.437Z"
   },
   {
    "duration": 5,
    "start_time": "2024-11-03T19:39:07.819Z"
   },
   {
    "duration": 15,
    "start_time": "2024-11-03T19:43:19.134Z"
   },
   {
    "duration": 4,
    "start_time": "2024-11-03T19:52:50.809Z"
   },
   {
    "duration": 3,
    "start_time": "2024-11-03T19:53:30.932Z"
   },
   {
    "duration": 4,
    "start_time": "2024-11-03T19:55:24.040Z"
   },
   {
    "duration": 3,
    "start_time": "2024-11-03T19:55:26.162Z"
   },
   {
    "duration": 79,
    "start_time": "2024-11-03T19:55:28.647Z"
   },
   {
    "duration": 4,
    "start_time": "2024-11-03T20:00:01.070Z"
   },
   {
    "duration": 3,
    "start_time": "2024-11-03T20:00:10.970Z"
   },
   {
    "duration": 4,
    "start_time": "2024-11-03T20:00:20.580Z"
   },
   {
    "duration": 4,
    "start_time": "2024-11-03T20:00:32.401Z"
   },
   {
    "duration": 180,
    "start_time": "2024-11-04T16:07:54.168Z"
   },
   {
    "duration": 2916,
    "start_time": "2024-11-04T16:08:00.435Z"
   },
   {
    "duration": 81,
    "start_time": "2024-11-04T16:08:03.353Z"
   },
   {
    "duration": 4,
    "start_time": "2024-11-04T16:08:03.437Z"
   },
   {
    "duration": 93,
    "start_time": "2024-11-04T16:08:03.444Z"
   },
   {
    "duration": 5,
    "start_time": "2024-11-04T16:08:03.539Z"
   },
   {
    "duration": 5,
    "start_time": "2024-11-04T16:08:03.546Z"
   },
   {
    "duration": 16,
    "start_time": "2024-11-04T16:08:03.552Z"
   },
   {
    "duration": 35,
    "start_time": "2024-11-04T16:08:03.570Z"
   },
   {
    "duration": 18,
    "start_time": "2024-11-04T16:08:03.607Z"
   },
   {
    "duration": 4,
    "start_time": "2024-11-04T16:08:03.629Z"
   },
   {
    "duration": 4,
    "start_time": "2024-11-04T16:08:03.635Z"
   },
   {
    "duration": 3,
    "start_time": "2024-11-04T16:08:03.641Z"
   },
   {
    "duration": 9,
    "start_time": "2024-11-04T16:08:03.646Z"
   },
   {
    "duration": 5,
    "start_time": "2024-11-04T16:08:03.657Z"
   },
   {
    "duration": 49,
    "start_time": "2024-11-04T16:08:03.664Z"
   },
   {
    "duration": 5,
    "start_time": "2024-11-04T16:08:03.715Z"
   },
   {
    "duration": 84,
    "start_time": "2024-11-04T16:08:03.722Z"
   },
   {
    "duration": 3,
    "start_time": "2024-11-04T16:08:03.808Z"
   },
   {
    "duration": 20,
    "start_time": "2024-11-04T16:08:03.813Z"
   },
   {
    "duration": 4,
    "start_time": "2024-11-04T16:08:03.834Z"
   },
   {
    "duration": 4,
    "start_time": "2024-11-04T16:08:03.840Z"
   },
   {
    "duration": 12,
    "start_time": "2024-11-04T16:08:03.846Z"
   },
   {
    "duration": 171,
    "start_time": "2024-11-04T16:08:03.860Z"
   },
   {
    "duration": 175,
    "start_time": "2024-11-04T16:10:51.967Z"
   },
   {
    "duration": 172,
    "start_time": "2024-11-04T16:11:03.396Z"
   },
   {
    "duration": 122,
    "start_time": "2024-11-04T16:11:07.375Z"
   },
   {
    "duration": 143,
    "start_time": "2024-11-04T16:11:28.252Z"
   },
   {
    "duration": 120,
    "start_time": "2024-11-04T16:11:39.591Z"
   },
   {
    "duration": 122,
    "start_time": "2024-11-04T16:11:46.170Z"
   },
   {
    "duration": 115,
    "start_time": "2024-11-04T16:11:51.791Z"
   },
   {
    "duration": 150,
    "start_time": "2024-11-04T16:11:58.785Z"
   },
   {
    "duration": 129,
    "start_time": "2024-11-04T16:12:06.040Z"
   },
   {
    "duration": 121,
    "start_time": "2024-11-04T16:12:14.861Z"
   },
   {
    "duration": 125,
    "start_time": "2024-11-04T16:12:21.028Z"
   },
   {
    "duration": 126,
    "start_time": "2024-11-04T16:13:49.807Z"
   },
   {
    "duration": 187,
    "start_time": "2024-11-04T16:13:55.682Z"
   },
   {
    "duration": 134,
    "start_time": "2024-11-04T16:14:17.010Z"
   },
   {
    "duration": 22,
    "start_time": "2024-11-04T16:15:21.528Z"
   },
   {
    "duration": 11,
    "start_time": "2024-11-04T16:15:30.895Z"
   },
   {
    "duration": 146,
    "start_time": "2024-11-04T16:15:50.836Z"
   },
   {
    "duration": 159,
    "start_time": "2024-11-04T16:16:00.962Z"
   },
   {
    "duration": 12,
    "start_time": "2024-11-04T16:18:22.973Z"
   },
   {
    "duration": 12,
    "start_time": "2024-11-04T16:18:25.605Z"
   },
   {
    "duration": 6539,
    "start_time": "2024-11-04T16:18:52.614Z"
   },
   {
    "duration": 132,
    "start_time": "2024-11-04T16:19:15.826Z"
   },
   {
    "duration": 144,
    "start_time": "2024-11-04T16:19:32.308Z"
   },
   {
    "duration": 127,
    "start_time": "2024-11-04T16:19:56.698Z"
   },
   {
    "duration": 122,
    "start_time": "2024-11-04T16:20:11.364Z"
   },
   {
    "duration": 116,
    "start_time": "2024-11-04T16:20:19.764Z"
   },
   {
    "duration": 114,
    "start_time": "2024-11-04T16:21:48.453Z"
   },
   {
    "duration": 121,
    "start_time": "2024-11-04T16:22:05.685Z"
   },
   {
    "duration": 113,
    "start_time": "2024-11-04T16:22:25.301Z"
   },
   {
    "duration": 290,
    "start_time": "2024-11-04T16:24:05.407Z"
   },
   {
    "duration": 179,
    "start_time": "2024-11-04T16:24:09.975Z"
   },
   {
    "duration": 10,
    "start_time": "2024-11-04T16:24:32.745Z"
   },
   {
    "duration": 352,
    "start_time": "2024-11-04T16:25:26.715Z"
   },
   {
    "duration": 450,
    "start_time": "2024-11-04T16:25:34.147Z"
   },
   {
    "duration": 9,
    "start_time": "2024-11-04T16:25:53.265Z"
   },
   {
    "duration": 176,
    "start_time": "2024-11-04T16:26:00.164Z"
   },
   {
    "duration": 164,
    "start_time": "2024-11-04T16:26:07.328Z"
   },
   {
    "duration": 15,
    "start_time": "2024-11-04T16:27:46.629Z"
   },
   {
    "duration": 71,
    "start_time": "2024-11-04T16:27:51.701Z"
   },
   {
    "duration": 67,
    "start_time": "2024-11-04T16:28:02.927Z"
   },
   {
    "duration": 79,
    "start_time": "2024-11-04T16:28:19.539Z"
   },
   {
    "duration": 68,
    "start_time": "2024-11-04T16:28:28.935Z"
   },
   {
    "duration": 118,
    "start_time": "2024-11-04T16:29:49.233Z"
   },
   {
    "duration": 10,
    "start_time": "2024-11-04T16:32:52.512Z"
   },
   {
    "duration": 3,
    "start_time": "2024-11-04T16:33:03.387Z"
   },
   {
    "duration": 111,
    "start_time": "2024-11-04T16:33:49.192Z"
   },
   {
    "duration": 112,
    "start_time": "2024-11-04T16:34:24.055Z"
   },
   {
    "duration": 18,
    "start_time": "2024-11-04T16:35:46.913Z"
   },
   {
    "duration": 158,
    "start_time": "2024-11-04T16:35:55.696Z"
   },
   {
    "duration": 160,
    "start_time": "2024-11-04T16:36:19.474Z"
   },
   {
    "duration": 1359,
    "start_time": "2024-11-04T16:36:33.265Z"
   },
   {
    "duration": 131,
    "start_time": "2024-11-04T16:39:11.250Z"
   },
   {
    "duration": 13,
    "start_time": "2024-11-04T16:40:05.169Z"
   },
   {
    "duration": 114,
    "start_time": "2024-11-04T16:40:30.853Z"
   },
   {
    "duration": 459,
    "start_time": "2024-11-04T16:40:34.293Z"
   },
   {
    "duration": 397,
    "start_time": "2024-11-04T16:40:42.535Z"
   },
   {
    "duration": 400,
    "start_time": "2024-11-04T16:40:48.932Z"
   },
   {
    "duration": 496,
    "start_time": "2024-11-04T16:40:54.101Z"
   },
   {
    "duration": 565,
    "start_time": "2024-11-04T16:41:05.477Z"
   },
   {
    "duration": 1642,
    "start_time": "2024-11-04T16:41:44.607Z"
   },
   {
    "duration": 456,
    "start_time": "2024-11-04T16:41:51.540Z"
   },
   {
    "duration": 470,
    "start_time": "2024-11-04T16:41:57.988Z"
   },
   {
    "duration": 495,
    "start_time": "2024-11-04T16:42:16.986Z"
   },
   {
    "duration": 540,
    "start_time": "2024-11-04T16:42:57.182Z"
   },
   {
    "duration": 575,
    "start_time": "2024-11-04T16:43:03.887Z"
   },
   {
    "duration": 576,
    "start_time": "2024-11-04T16:43:34.984Z"
   },
   {
    "duration": 507,
    "start_time": "2024-11-04T16:43:43.461Z"
   },
   {
    "duration": 411,
    "start_time": "2024-11-04T16:44:00.134Z"
   },
   {
    "duration": 472,
    "start_time": "2024-11-04T16:44:08.053Z"
   },
   {
    "duration": 163,
    "start_time": "2024-11-04T16:44:19.469Z"
   },
   {
    "duration": 198,
    "start_time": "2024-11-04T16:45:10.336Z"
   },
   {
    "duration": 69,
    "start_time": "2024-11-04T16:45:22.466Z"
   },
   {
    "duration": 187,
    "start_time": "2024-11-04T16:45:39.645Z"
   },
   {
    "duration": 5,
    "start_time": "2024-11-04T16:57:15.839Z"
   },
   {
    "duration": 4,
    "start_time": "2024-11-04T16:57:20.662Z"
   },
   {
    "duration": 3,
    "start_time": "2024-11-04T16:57:40.193Z"
   },
   {
    "duration": 4,
    "start_time": "2024-11-04T16:57:51.968Z"
   },
   {
    "duration": 5,
    "start_time": "2024-11-04T16:58:01.966Z"
   },
   {
    "duration": 5,
    "start_time": "2024-11-04T16:58:11.288Z"
   },
   {
    "duration": 10,
    "start_time": "2024-11-04T17:00:19.988Z"
   },
   {
    "duration": 182,
    "start_time": "2024-11-04T17:00:43.021Z"
   },
   {
    "duration": 161,
    "start_time": "2024-11-04T18:28:09.814Z"
   },
   {
    "duration": 2619,
    "start_time": "2024-11-04T18:28:16.938Z"
   },
   {
    "duration": 62,
    "start_time": "2024-11-04T18:28:19.559Z"
   },
   {
    "duration": 4,
    "start_time": "2024-11-04T18:28:19.623Z"
   },
   {
    "duration": 74,
    "start_time": "2024-11-04T18:28:19.629Z"
   },
   {
    "duration": 4,
    "start_time": "2024-11-04T18:28:19.705Z"
   },
   {
    "duration": 5,
    "start_time": "2024-11-04T18:28:19.710Z"
   },
   {
    "duration": 16,
    "start_time": "2024-11-04T18:28:19.717Z"
   },
   {
    "duration": 38,
    "start_time": "2024-11-04T18:28:19.734Z"
   },
   {
    "duration": 12,
    "start_time": "2024-11-04T18:28:19.773Z"
   },
   {
    "duration": 4,
    "start_time": "2024-11-04T18:28:19.789Z"
   },
   {
    "duration": 4,
    "start_time": "2024-11-04T18:28:19.794Z"
   },
   {
    "duration": 5,
    "start_time": "2024-11-04T18:28:19.800Z"
   },
   {
    "duration": 10,
    "start_time": "2024-11-04T18:28:19.806Z"
   },
   {
    "duration": 5,
    "start_time": "2024-11-04T18:28:19.817Z"
   },
   {
    "duration": 46,
    "start_time": "2024-11-04T18:28:19.824Z"
   },
   {
    "duration": 4,
    "start_time": "2024-11-04T18:28:19.871Z"
   },
   {
    "duration": 71,
    "start_time": "2024-11-04T18:28:19.877Z"
   },
   {
    "duration": 20,
    "start_time": "2024-11-04T18:28:19.950Z"
   },
   {
    "duration": 22,
    "start_time": "2024-11-04T18:28:19.971Z"
   },
   {
    "duration": 3,
    "start_time": "2024-11-04T18:28:19.995Z"
   },
   {
    "duration": 4,
    "start_time": "2024-11-04T18:28:20.000Z"
   },
   {
    "duration": 11,
    "start_time": "2024-11-04T18:28:20.006Z"
   },
   {
    "duration": 200,
    "start_time": "2024-11-04T18:28:20.018Z"
   },
   {
    "duration": 432,
    "start_time": "2024-11-04T18:28:20.221Z"
   },
   {
    "duration": 495,
    "start_time": "2024-11-04T18:28:20.656Z"
   },
   {
    "duration": 455,
    "start_time": "2024-11-04T18:28:21.153Z"
   },
   {
    "duration": 149,
    "start_time": "2024-11-04T18:28:21.612Z"
   },
   {
    "duration": 131,
    "start_time": "2024-11-04T18:28:21.764Z"
   },
   {
    "duration": 152,
    "start_time": "2024-11-04T18:28:21.897Z"
   },
   {
    "duration": 147,
    "start_time": "2024-11-04T18:28:22.051Z"
   },
   {
    "duration": 80,
    "start_time": "2024-11-04T18:28:22.200Z"
   },
   {
    "duration": 9,
    "start_time": "2024-11-04T18:28:22.282Z"
   },
   {
    "duration": 158,
    "start_time": "2024-11-04T18:28:22.293Z"
   },
   {
    "duration": 349,
    "start_time": "2024-11-04T18:29:11.729Z"
   },
   {
    "duration": 144,
    "start_time": "2024-11-04T18:30:08.574Z"
   },
   {
    "duration": 6,
    "start_time": "2024-11-04T18:35:09.140Z"
   },
   {
    "duration": 6,
    "start_time": "2024-11-04T18:37:27.261Z"
   },
   {
    "duration": 167,
    "start_time": "2024-11-04T18:39:40.473Z"
   },
   {
    "duration": 6,
    "start_time": "2024-11-04T18:40:01.827Z"
   },
   {
    "duration": 11,
    "start_time": "2024-11-04T18:40:18.757Z"
   },
   {
    "duration": 159,
    "start_time": "2024-11-04T18:40:38.023Z"
   },
   {
    "duration": 291,
    "start_time": "2024-11-04T18:42:50.489Z"
   },
   {
    "duration": 24,
    "start_time": "2024-11-04T18:42:57.078Z"
   },
   {
    "duration": 26,
    "start_time": "2024-11-04T18:44:26.595Z"
   },
   {
    "duration": 26,
    "start_time": "2024-11-04T18:44:54.077Z"
   },
   {
    "duration": 25,
    "start_time": "2024-11-04T18:45:38.953Z"
   },
   {
    "duration": 11,
    "start_time": "2024-11-04T18:48:01.752Z"
   },
   {
    "duration": 28,
    "start_time": "2024-11-04T18:49:27.497Z"
   },
   {
    "duration": 28,
    "start_time": "2024-11-04T18:49:37.043Z"
   },
   {
    "duration": 12,
    "start_time": "2024-11-04T18:50:22.990Z"
   },
   {
    "duration": 13,
    "start_time": "2024-11-04T18:50:27.734Z"
   },
   {
    "duration": 15,
    "start_time": "2024-11-04T18:50:40.171Z"
   },
   {
    "duration": 11,
    "start_time": "2024-11-04T18:52:02.997Z"
   },
   {
    "duration": 26,
    "start_time": "2024-11-04T18:54:07.306Z"
   },
   {
    "duration": 27,
    "start_time": "2024-11-04T18:55:02.027Z"
   },
   {
    "duration": 27,
    "start_time": "2024-11-04T18:55:52.703Z"
   },
   {
    "duration": 27,
    "start_time": "2024-11-04T18:55:55.786Z"
   },
   {
    "duration": 8,
    "start_time": "2024-11-04T18:56:06.738Z"
   },
   {
    "duration": 26,
    "start_time": "2024-11-04T18:57:45.256Z"
   },
   {
    "duration": 6,
    "start_time": "2024-11-04T18:57:56.727Z"
   },
   {
    "duration": 28,
    "start_time": "2024-11-04T18:58:16.304Z"
   },
   {
    "duration": 27,
    "start_time": "2024-11-04T18:59:08.532Z"
   },
   {
    "duration": 18,
    "start_time": "2024-11-04T19:00:18.948Z"
   },
   {
    "duration": 4,
    "start_time": "2024-11-04T19:00:53.626Z"
   },
   {
    "duration": 30,
    "start_time": "2024-11-04T19:01:05.069Z"
   },
   {
    "duration": 26,
    "start_time": "2024-11-04T19:01:26.682Z"
   },
   {
    "duration": 6,
    "start_time": "2024-11-04T19:02:02.577Z"
   },
   {
    "duration": 5,
    "start_time": "2024-11-04T19:02:22.256Z"
   },
   {
    "duration": 27,
    "start_time": "2024-11-04T19:03:35.309Z"
   },
   {
    "duration": 23,
    "start_time": "2024-11-04T19:03:48.628Z"
   },
   {
    "duration": 950,
    "start_time": "2024-11-04T19:05:23.047Z"
   },
   {
    "duration": 15,
    "start_time": "2024-11-04T19:07:11.747Z"
   },
   {
    "duration": 4,
    "start_time": "2024-11-04T19:08:58.683Z"
   },
   {
    "duration": 15,
    "start_time": "2024-11-04T19:09:10.226Z"
   },
   {
    "duration": 19,
    "start_time": "2024-11-04T19:09:40.142Z"
   },
   {
    "duration": 26,
    "start_time": "2024-11-04T19:10:17.105Z"
   },
   {
    "duration": 6,
    "start_time": "2024-11-04T19:11:28.539Z"
   },
   {
    "duration": 26,
    "start_time": "2024-11-04T19:11:34.517Z"
   },
   {
    "duration": 68,
    "start_time": "2024-11-04T19:12:21.879Z"
   },
   {
    "duration": 26,
    "start_time": "2024-11-04T19:12:33.158Z"
   },
   {
    "duration": 6,
    "start_time": "2024-11-04T19:12:36.756Z"
   },
   {
    "duration": 5,
    "start_time": "2024-11-04T19:13:07.566Z"
   },
   {
    "duration": 5,
    "start_time": "2024-11-04T19:14:03.412Z"
   },
   {
    "duration": 8,
    "start_time": "2024-11-04T19:14:37.345Z"
   },
   {
    "duration": 5,
    "start_time": "2024-11-04T19:14:40.778Z"
   },
   {
    "duration": 6,
    "start_time": "2024-11-04T19:14:57.351Z"
   },
   {
    "duration": 5,
    "start_time": "2024-11-04T19:15:11.465Z"
   },
   {
    "duration": 5,
    "start_time": "2024-11-04T19:18:01.679Z"
   },
   {
    "duration": 5,
    "start_time": "2024-11-04T19:18:20.605Z"
   },
   {
    "duration": 5,
    "start_time": "2024-11-04T19:18:31.672Z"
   },
   {
    "duration": 17,
    "start_time": "2024-11-04T19:19:00.281Z"
   },
   {
    "duration": 4,
    "start_time": "2024-11-04T19:20:10.387Z"
   },
   {
    "duration": 19,
    "start_time": "2024-11-04T19:20:21.922Z"
   },
   {
    "duration": 4,
    "start_time": "2024-11-04T19:20:41.864Z"
   },
   {
    "duration": 27,
    "start_time": "2024-11-04T19:21:09.554Z"
   },
   {
    "duration": 6,
    "start_time": "2024-11-04T19:21:18.739Z"
   },
   {
    "duration": 6,
    "start_time": "2024-11-04T19:21:21.923Z"
   },
   {
    "duration": 4,
    "start_time": "2024-11-04T19:21:44.083Z"
   },
   {
    "duration": 6,
    "start_time": "2024-11-04T19:21:47.167Z"
   },
   {
    "duration": 26,
    "start_time": "2024-11-04T19:22:14.656Z"
   },
   {
    "duration": 6,
    "start_time": "2024-11-04T19:22:20.393Z"
   },
   {
    "duration": 6,
    "start_time": "2024-11-04T19:22:56.852Z"
   },
   {
    "duration": 8,
    "start_time": "2024-11-04T19:23:10.045Z"
   },
   {
    "duration": 6,
    "start_time": "2024-11-04T19:24:07.430Z"
   },
   {
    "duration": 6,
    "start_time": "2024-11-04T19:24:11.679Z"
   },
   {
    "duration": 6,
    "start_time": "2024-11-04T19:24:20.934Z"
   },
   {
    "duration": 885,
    "start_time": "2024-11-04T19:24:39.107Z"
   },
   {
    "duration": 41,
    "start_time": "2024-11-04T19:24:39.995Z"
   },
   {
    "duration": 3,
    "start_time": "2024-11-04T19:24:40.038Z"
   },
   {
    "duration": 93,
    "start_time": "2024-11-04T19:24:40.043Z"
   },
   {
    "duration": 5,
    "start_time": "2024-11-04T19:24:40.138Z"
   },
   {
    "duration": 8,
    "start_time": "2024-11-04T19:24:40.146Z"
   },
   {
    "duration": 30,
    "start_time": "2024-11-04T19:24:40.156Z"
   },
   {
    "duration": 14,
    "start_time": "2024-11-04T19:24:40.189Z"
   },
   {
    "duration": 19,
    "start_time": "2024-11-04T19:24:40.205Z"
   },
   {
    "duration": 7,
    "start_time": "2024-11-04T19:24:40.229Z"
   },
   {
    "duration": 8,
    "start_time": "2024-11-04T19:24:40.237Z"
   },
   {
    "duration": 5,
    "start_time": "2024-11-04T19:24:40.270Z"
   },
   {
    "duration": 12,
    "start_time": "2024-11-04T19:24:40.278Z"
   },
   {
    "duration": 5,
    "start_time": "2024-11-04T19:24:40.292Z"
   },
   {
    "duration": 5,
    "start_time": "2024-11-04T19:24:40.299Z"
   },
   {
    "duration": 4,
    "start_time": "2024-11-04T19:24:40.306Z"
   },
   {
    "duration": 7,
    "start_time": "2024-11-04T19:24:40.312Z"
   },
   {
    "duration": 124,
    "start_time": "2024-11-04T19:24:40.322Z"
   },
   {
    "duration": 4,
    "start_time": "2024-11-04T19:24:40.448Z"
   },
   {
    "duration": 36,
    "start_time": "2024-11-04T19:24:40.453Z"
   },
   {
    "duration": 5,
    "start_time": "2024-11-04T19:24:40.491Z"
   },
   {
    "duration": 4,
    "start_time": "2024-11-04T19:24:40.498Z"
   },
   {
    "duration": 15,
    "start_time": "2024-11-04T19:24:40.504Z"
   },
   {
    "duration": 211,
    "start_time": "2024-11-04T19:24:40.521Z"
   },
   {
    "duration": 541,
    "start_time": "2024-11-04T19:24:40.734Z"
   },
   {
    "duration": 552,
    "start_time": "2024-11-04T19:24:41.281Z"
   },
   {
    "duration": 378,
    "start_time": "2024-11-04T19:24:41.836Z"
   },
   {
    "duration": 4,
    "start_time": "2024-11-04T19:24:42.218Z"
   },
   {
    "duration": 130,
    "start_time": "2024-11-04T19:24:42.224Z"
   },
   {
    "duration": 156,
    "start_time": "2024-11-04T19:24:42.356Z"
   },
   {
    "duration": 81,
    "start_time": "2024-11-04T19:24:42.514Z"
   },
   {
    "duration": 29,
    "start_time": "2024-11-04T19:24:42.596Z"
   },
   {
    "duration": 4,
    "start_time": "2024-11-04T19:24:42.627Z"
   },
   {
    "duration": 5,
    "start_time": "2024-11-04T19:24:42.633Z"
   },
   {
    "duration": 30,
    "start_time": "2024-11-04T19:24:42.640Z"
   },
   {
    "duration": 6,
    "start_time": "2024-11-04T19:25:00.549Z"
   },
   {
    "duration": 5,
    "start_time": "2024-11-04T19:25:04.857Z"
   },
   {
    "duration": 6,
    "start_time": "2024-11-04T19:25:23.815Z"
   },
   {
    "duration": 6,
    "start_time": "2024-11-04T19:25:31.448Z"
   },
   {
    "duration": 5,
    "start_time": "2024-11-04T19:25:49.162Z"
   },
   {
    "duration": 7,
    "start_time": "2024-11-04T19:26:13.884Z"
   },
   {
    "duration": 238,
    "start_time": "2024-11-04T19:26:49.717Z"
   },
   {
    "duration": 7,
    "start_time": "2024-11-04T19:27:01.991Z"
   },
   {
    "duration": 6,
    "start_time": "2024-11-04T19:27:37.716Z"
   },
   {
    "duration": 5,
    "start_time": "2024-11-04T19:27:56.056Z"
   },
   {
    "duration": 5,
    "start_time": "2024-11-04T19:28:46.988Z"
   },
   {
    "duration": 5,
    "start_time": "2024-11-04T19:29:57.676Z"
   },
   {
    "duration": 5,
    "start_time": "2024-11-04T19:30:24.139Z"
   },
   {
    "duration": 7,
    "start_time": "2024-11-04T19:30:33.988Z"
   },
   {
    "duration": 5,
    "start_time": "2024-11-04T19:31:29.404Z"
   },
   {
    "duration": 5,
    "start_time": "2024-11-04T19:33:13.776Z"
   },
   {
    "duration": 6,
    "start_time": "2024-11-04T19:33:59.863Z"
   },
   {
    "duration": 5,
    "start_time": "2024-11-04T19:40:06.952Z"
   },
   {
    "duration": 5,
    "start_time": "2024-11-04T19:40:09.594Z"
   },
   {
    "duration": 5,
    "start_time": "2024-11-04T19:40:13.752Z"
   },
   {
    "duration": 6,
    "start_time": "2024-11-04T19:40:20.391Z"
   },
   {
    "duration": 19,
    "start_time": "2024-11-04T19:40:57.286Z"
   },
   {
    "duration": 244,
    "start_time": "2024-11-04T19:41:19.835Z"
   },
   {
    "duration": 78,
    "start_time": "2024-11-04T19:41:30.438Z"
   },
   {
    "duration": 261,
    "start_time": "2024-11-04T19:41:48.635Z"
   },
   {
    "duration": 874,
    "start_time": "2024-11-04T19:42:02.473Z"
   },
   {
    "duration": 4,
    "start_time": "2024-11-04T19:49:01.074Z"
   },
   {
    "duration": 14,
    "start_time": "2024-11-04T19:49:08.516Z"
   },
   {
    "duration": 4,
    "start_time": "2024-11-04T19:49:32.892Z"
   },
   {
    "duration": 13,
    "start_time": "2024-11-04T19:49:36.076Z"
   },
   {
    "duration": 4,
    "start_time": "2024-11-04T19:49:47.025Z"
   },
   {
    "duration": 13,
    "start_time": "2024-11-04T19:49:49.054Z"
   },
   {
    "duration": 1051,
    "start_time": "2024-11-04T19:50:01.722Z"
   },
   {
    "duration": 41,
    "start_time": "2024-11-04T19:50:02.775Z"
   },
   {
    "duration": 3,
    "start_time": "2024-11-04T19:50:02.818Z"
   },
   {
    "duration": 89,
    "start_time": "2024-11-04T19:50:02.823Z"
   },
   {
    "duration": 4,
    "start_time": "2024-11-04T19:50:02.915Z"
   },
   {
    "duration": 4,
    "start_time": "2024-11-04T19:50:02.921Z"
   },
   {
    "duration": 16,
    "start_time": "2024-11-04T19:50:02.927Z"
   },
   {
    "duration": 35,
    "start_time": "2024-11-04T19:50:02.944Z"
   },
   {
    "duration": 14,
    "start_time": "2024-11-04T19:50:02.981Z"
   },
   {
    "duration": 4,
    "start_time": "2024-11-04T19:50:02.997Z"
   },
   {
    "duration": 4,
    "start_time": "2024-11-04T19:50:03.002Z"
   },
   {
    "duration": 4,
    "start_time": "2024-11-04T19:50:03.008Z"
   },
   {
    "duration": 10,
    "start_time": "2024-11-04T19:50:03.014Z"
   },
   {
    "duration": 5,
    "start_time": "2024-11-04T19:50:03.027Z"
   },
   {
    "duration": 38,
    "start_time": "2024-11-04T19:50:03.033Z"
   },
   {
    "duration": 4,
    "start_time": "2024-11-04T19:50:03.073Z"
   },
   {
    "duration": 4,
    "start_time": "2024-11-04T19:50:03.079Z"
   },
   {
    "duration": 96,
    "start_time": "2024-11-04T19:50:03.085Z"
   },
   {
    "duration": 4,
    "start_time": "2024-11-04T19:50:03.183Z"
   },
   {
    "duration": 20,
    "start_time": "2024-11-04T19:50:03.189Z"
   },
   {
    "duration": 4,
    "start_time": "2024-11-04T19:50:03.211Z"
   },
   {
    "duration": 4,
    "start_time": "2024-11-04T19:50:03.217Z"
   },
   {
    "duration": 12,
    "start_time": "2024-11-04T19:50:03.223Z"
   },
   {
    "duration": 180,
    "start_time": "2024-11-04T19:50:03.270Z"
   },
   {
    "duration": 445,
    "start_time": "2024-11-04T19:50:03.452Z"
   },
   {
    "duration": 530,
    "start_time": "2024-11-04T19:50:03.900Z"
   },
   {
    "duration": 357,
    "start_time": "2024-11-04T19:50:04.432Z"
   },
   {
    "duration": 5,
    "start_time": "2024-11-04T19:50:04.790Z"
   },
   {
    "duration": 135,
    "start_time": "2024-11-04T19:50:04.797Z"
   },
   {
    "duration": 154,
    "start_time": "2024-11-04T19:50:04.934Z"
   },
   {
    "duration": 81,
    "start_time": "2024-11-04T19:50:05.090Z"
   },
   {
    "duration": 102,
    "start_time": "2024-11-04T19:50:05.173Z"
   },
   {
    "duration": 5,
    "start_time": "2024-11-04T19:50:05.277Z"
   },
   {
    "duration": 13,
    "start_time": "2024-11-04T19:50:05.283Z"
   },
   {
    "duration": 5,
    "start_time": "2024-11-04T19:50:05.297Z"
   },
   {
    "duration": 5,
    "start_time": "2024-11-04T19:50:05.304Z"
   },
   {
    "duration": 6,
    "start_time": "2024-11-04T19:50:36.866Z"
   },
   {
    "duration": 5,
    "start_time": "2024-11-04T19:50:45.410Z"
   },
   {
    "duration": 7,
    "start_time": "2024-11-04T19:51:46.373Z"
   },
   {
    "duration": 10,
    "start_time": "2024-11-04T19:52:55.625Z"
   },
   {
    "duration": 4,
    "start_time": "2024-11-04T19:54:37.256Z"
   },
   {
    "duration": 3,
    "start_time": "2024-11-04T19:54:42.888Z"
   },
   {
    "duration": 4,
    "start_time": "2024-11-04T19:54:52.248Z"
   },
   {
    "duration": 4,
    "start_time": "2024-11-04T19:54:57.986Z"
   },
   {
    "duration": 4,
    "start_time": "2024-11-04T19:55:07.374Z"
   },
   {
    "duration": 5,
    "start_time": "2024-11-04T19:55:12.246Z"
   },
   {
    "duration": 1086,
    "start_time": "2024-11-04T19:55:33.384Z"
   },
   {
    "duration": 39,
    "start_time": "2024-11-04T19:55:34.472Z"
   },
   {
    "duration": 3,
    "start_time": "2024-11-04T19:55:34.512Z"
   },
   {
    "duration": 88,
    "start_time": "2024-11-04T19:55:34.518Z"
   },
   {
    "duration": 4,
    "start_time": "2024-11-04T19:55:34.608Z"
   },
   {
    "duration": 4,
    "start_time": "2024-11-04T19:55:34.615Z"
   },
   {
    "duration": 15,
    "start_time": "2024-11-04T19:55:34.621Z"
   },
   {
    "duration": 9,
    "start_time": "2024-11-04T19:55:34.638Z"
   },
   {
    "duration": 13,
    "start_time": "2024-11-04T19:55:34.671Z"
   },
   {
    "duration": 5,
    "start_time": "2024-11-04T19:55:34.687Z"
   },
   {
    "duration": 4,
    "start_time": "2024-11-04T19:55:34.693Z"
   },
   {
    "duration": 4,
    "start_time": "2024-11-04T19:55:34.699Z"
   },
   {
    "duration": 9,
    "start_time": "2024-11-04T19:55:34.705Z"
   },
   {
    "duration": 4,
    "start_time": "2024-11-04T19:55:34.716Z"
   },
   {
    "duration": 4,
    "start_time": "2024-11-04T19:55:34.722Z"
   },
   {
    "duration": 44,
    "start_time": "2024-11-04T19:55:34.728Z"
   },
   {
    "duration": 3,
    "start_time": "2024-11-04T19:55:34.774Z"
   },
   {
    "duration": 72,
    "start_time": "2024-11-04T19:55:34.779Z"
   },
   {
    "duration": 5,
    "start_time": "2024-11-04T19:55:34.870Z"
   },
   {
    "duration": 20,
    "start_time": "2024-11-04T19:55:34.877Z"
   },
   {
    "duration": 3,
    "start_time": "2024-11-04T19:55:34.898Z"
   },
   {
    "duration": 4,
    "start_time": "2024-11-04T19:55:34.903Z"
   },
   {
    "duration": 11,
    "start_time": "2024-11-04T19:55:34.909Z"
   },
   {
    "duration": 202,
    "start_time": "2024-11-04T19:55:34.922Z"
   },
   {
    "duration": 467,
    "start_time": "2024-11-04T19:55:35.126Z"
   },
   {
    "duration": 532,
    "start_time": "2024-11-04T19:55:35.595Z"
   },
   {
    "duration": 370,
    "start_time": "2024-11-04T19:55:36.129Z"
   },
   {
    "duration": 5,
    "start_time": "2024-11-04T19:55:36.504Z"
   },
   {
    "duration": 142,
    "start_time": "2024-11-04T19:55:36.511Z"
   },
   {
    "duration": 160,
    "start_time": "2024-11-04T19:55:36.655Z"
   },
   {
    "duration": 81,
    "start_time": "2024-11-04T19:55:36.817Z"
   },
   {
    "duration": 105,
    "start_time": "2024-11-04T19:55:36.900Z"
   },
   {
    "duration": 5,
    "start_time": "2024-11-04T19:55:37.007Z"
   },
   {
    "duration": 12,
    "start_time": "2024-11-04T19:55:37.014Z"
   },
   {
    "duration": 2,
    "start_time": "2024-11-04T19:55:37.028Z"
   },
   {
    "duration": 5,
    "start_time": "2024-11-04T19:55:37.031Z"
   },
   {
    "duration": 35,
    "start_time": "2024-11-04T19:55:37.037Z"
   },
   {
    "duration": 5,
    "start_time": "2024-11-04T19:57:39.666Z"
   },
   {
    "duration": 8,
    "start_time": "2024-11-04T19:58:08.015Z"
   },
   {
    "duration": 5,
    "start_time": "2024-11-04T20:04:57.005Z"
   },
   {
    "duration": 14,
    "start_time": "2024-11-04T20:05:02.502Z"
   },
   {
    "duration": 4,
    "start_time": "2024-11-04T20:05:35.674Z"
   },
   {
    "duration": 10,
    "start_time": "2024-11-04T20:06:03.023Z"
   },
   {
    "duration": 4,
    "start_time": "2024-11-04T20:06:19.754Z"
   },
   {
    "duration": 774,
    "start_time": "2024-11-04T20:06:23.515Z"
   },
   {
    "duration": 15,
    "start_time": "2024-11-04T20:06:41.620Z"
   },
   {
    "duration": 4,
    "start_time": "2024-11-04T20:07:24.717Z"
   },
   {
    "duration": 6,
    "start_time": "2024-11-04T20:07:49.012Z"
   },
   {
    "duration": 7,
    "start_time": "2024-11-04T20:07:54.131Z"
   },
   {
    "duration": 1029,
    "start_time": "2024-11-04T20:08:26.351Z"
   },
   {
    "duration": 39,
    "start_time": "2024-11-04T20:08:27.383Z"
   },
   {
    "duration": 3,
    "start_time": "2024-11-04T20:08:27.424Z"
   },
   {
    "duration": 88,
    "start_time": "2024-11-04T20:08:27.430Z"
   },
   {
    "duration": 5,
    "start_time": "2024-11-04T20:08:27.520Z"
   },
   {
    "duration": 5,
    "start_time": "2024-11-04T20:08:27.527Z"
   },
   {
    "duration": 38,
    "start_time": "2024-11-04T20:08:27.534Z"
   },
   {
    "duration": 11,
    "start_time": "2024-11-04T20:08:27.573Z"
   },
   {
    "duration": 12,
    "start_time": "2024-11-04T20:08:27.586Z"
   },
   {
    "duration": 4,
    "start_time": "2024-11-04T20:08:27.600Z"
   },
   {
    "duration": 3,
    "start_time": "2024-11-04T20:08:27.606Z"
   },
   {
    "duration": 4,
    "start_time": "2024-11-04T20:08:27.611Z"
   },
   {
    "duration": 9,
    "start_time": "2024-11-04T20:08:27.616Z"
   },
   {
    "duration": 43,
    "start_time": "2024-11-04T20:08:27.627Z"
   },
   {
    "duration": 5,
    "start_time": "2024-11-04T20:08:27.671Z"
   },
   {
    "duration": 3,
    "start_time": "2024-11-04T20:08:27.677Z"
   },
   {
    "duration": 4,
    "start_time": "2024-11-04T20:08:27.682Z"
   },
   {
    "duration": 94,
    "start_time": "2024-11-04T20:08:27.687Z"
   },
   {
    "duration": 3,
    "start_time": "2024-11-04T20:08:27.783Z"
   },
   {
    "duration": 22,
    "start_time": "2024-11-04T20:08:27.788Z"
   },
   {
    "duration": 4,
    "start_time": "2024-11-04T20:08:27.811Z"
   },
   {
    "duration": 4,
    "start_time": "2024-11-04T20:08:27.816Z"
   },
   {
    "duration": 12,
    "start_time": "2024-11-04T20:08:27.822Z"
   },
   {
    "duration": 183,
    "start_time": "2024-11-04T20:08:27.871Z"
   },
   {
    "duration": 463,
    "start_time": "2024-11-04T20:08:28.056Z"
   },
   {
    "duration": 499,
    "start_time": "2024-11-04T20:08:28.521Z"
   },
   {
    "duration": 355,
    "start_time": "2024-11-04T20:08:29.022Z"
   },
   {
    "duration": 5,
    "start_time": "2024-11-04T20:08:29.381Z"
   },
   {
    "duration": 128,
    "start_time": "2024-11-04T20:08:29.388Z"
   },
   {
    "duration": 161,
    "start_time": "2024-11-04T20:08:29.517Z"
   },
   {
    "duration": 92,
    "start_time": "2024-11-04T20:08:29.680Z"
   },
   {
    "duration": 98,
    "start_time": "2024-11-04T20:08:29.773Z"
   },
   {
    "duration": 4,
    "start_time": "2024-11-04T20:08:29.873Z"
   },
   {
    "duration": 2,
    "start_time": "2024-11-04T20:08:29.879Z"
   },
   {
    "duration": 4,
    "start_time": "2024-11-04T20:08:29.883Z"
   },
   {
    "duration": 4,
    "start_time": "2024-11-04T20:08:29.889Z"
   },
   {
    "duration": 3,
    "start_time": "2024-11-04T20:08:29.895Z"
   },
   {
    "duration": 7,
    "start_time": "2024-11-04T20:08:29.900Z"
   },
   {
    "duration": 5,
    "start_time": "2024-11-04T20:08:29.908Z"
   },
   {
    "duration": 5,
    "start_time": "2024-11-04T20:09:16.628Z"
   },
   {
    "duration": 5,
    "start_time": "2024-11-04T20:09:23.234Z"
   },
   {
    "duration": 5,
    "start_time": "2024-11-04T20:09:42.477Z"
   },
   {
    "duration": 4,
    "start_time": "2024-11-04T20:09:52.611Z"
   },
   {
    "duration": 6,
    "start_time": "2024-11-04T20:09:54.460Z"
   },
   {
    "duration": 6,
    "start_time": "2024-11-04T20:09:56.119Z"
   },
   {
    "duration": 6,
    "start_time": "2024-11-04T20:10:08.700Z"
   },
   {
    "duration": 5,
    "start_time": "2024-11-04T20:10:10.584Z"
   },
   {
    "duration": 1029,
    "start_time": "2024-11-04T20:10:17.320Z"
   },
   {
    "duration": 44,
    "start_time": "2024-11-04T20:10:18.352Z"
   },
   {
    "duration": 4,
    "start_time": "2024-11-04T20:10:18.398Z"
   },
   {
    "duration": 83,
    "start_time": "2024-11-04T20:10:18.403Z"
   },
   {
    "duration": 5,
    "start_time": "2024-11-04T20:10:18.488Z"
   },
   {
    "duration": 5,
    "start_time": "2024-11-04T20:10:18.494Z"
   },
   {
    "duration": 16,
    "start_time": "2024-11-04T20:10:18.500Z"
   },
   {
    "duration": 11,
    "start_time": "2024-11-04T20:10:18.518Z"
   },
   {
    "duration": 41,
    "start_time": "2024-11-04T20:10:18.530Z"
   },
   {
    "duration": 4,
    "start_time": "2024-11-04T20:10:18.573Z"
   },
   {
    "duration": 3,
    "start_time": "2024-11-04T20:10:18.579Z"
   },
   {
    "duration": 5,
    "start_time": "2024-11-04T20:10:18.584Z"
   },
   {
    "duration": 10,
    "start_time": "2024-11-04T20:10:18.590Z"
   },
   {
    "duration": 4,
    "start_time": "2024-11-04T20:10:18.604Z"
   },
   {
    "duration": 5,
    "start_time": "2024-11-04T20:10:18.610Z"
   },
   {
    "duration": 3,
    "start_time": "2024-11-04T20:10:18.617Z"
   },
   {
    "duration": 48,
    "start_time": "2024-11-04T20:10:18.622Z"
   },
   {
    "duration": 72,
    "start_time": "2024-11-04T20:10:18.672Z"
   },
   {
    "duration": 4,
    "start_time": "2024-11-04T20:10:18.746Z"
   },
   {
    "duration": 34,
    "start_time": "2024-11-04T20:10:18.751Z"
   },
   {
    "duration": 3,
    "start_time": "2024-11-04T20:10:18.787Z"
   },
   {
    "duration": 4,
    "start_time": "2024-11-04T20:10:18.792Z"
   },
   {
    "duration": 12,
    "start_time": "2024-11-04T20:10:18.797Z"
   },
   {
    "duration": 203,
    "start_time": "2024-11-04T20:10:18.811Z"
   },
   {
    "duration": 436,
    "start_time": "2024-11-04T20:10:19.015Z"
   },
   {
    "duration": 545,
    "start_time": "2024-11-04T20:10:19.453Z"
   },
   {
    "duration": 333,
    "start_time": "2024-11-04T20:10:20.000Z"
   },
   {
    "duration": 6,
    "start_time": "2024-11-04T20:10:20.335Z"
   },
   {
    "duration": 129,
    "start_time": "2024-11-04T20:10:20.343Z"
   },
   {
    "duration": 153,
    "start_time": "2024-11-04T20:10:20.474Z"
   },
   {
    "duration": 79,
    "start_time": "2024-11-04T20:10:20.630Z"
   },
   {
    "duration": 97,
    "start_time": "2024-11-04T20:10:20.712Z"
   },
   {
    "duration": 5,
    "start_time": "2024-11-04T20:10:20.811Z"
   },
   {
    "duration": 4,
    "start_time": "2024-11-04T20:10:20.818Z"
   },
   {
    "duration": 4,
    "start_time": "2024-11-04T20:10:20.824Z"
   },
   {
    "duration": 4,
    "start_time": "2024-11-04T20:10:20.830Z"
   },
   {
    "duration": 36,
    "start_time": "2024-11-04T20:10:20.835Z"
   },
   {
    "duration": 6,
    "start_time": "2024-11-04T20:10:20.872Z"
   },
   {
    "duration": 5,
    "start_time": "2024-11-04T20:10:56.793Z"
   },
   {
    "duration": 4,
    "start_time": "2024-11-04T20:12:08.308Z"
   },
   {
    "duration": 250,
    "start_time": "2024-11-04T20:19:09.085Z"
   },
   {
    "duration": 5,
    "start_time": "2024-11-04T20:19:16.143Z"
   },
   {
    "duration": 9,
    "start_time": "2024-11-04T20:19:25.857Z"
   },
   {
    "duration": 5,
    "start_time": "2024-11-04T20:19:46.944Z"
   },
   {
    "duration": 14,
    "start_time": "2024-11-04T20:20:29.032Z"
   },
   {
    "duration": 6,
    "start_time": "2024-11-04T20:20:47.458Z"
   },
   {
    "duration": 8,
    "start_time": "2024-11-04T20:21:07.070Z"
   },
   {
    "duration": 6,
    "start_time": "2024-11-04T20:22:02.455Z"
   },
   {
    "duration": 6,
    "start_time": "2024-11-04T20:29:04.698Z"
   },
   {
    "duration": 16,
    "start_time": "2024-11-04T20:29:22.913Z"
   },
   {
    "duration": 3,
    "start_time": "2024-11-04T20:29:35.206Z"
   },
   {
    "duration": 4,
    "start_time": "2024-11-04T20:30:03.593Z"
   },
   {
    "duration": 4,
    "start_time": "2024-11-04T20:30:53.122Z"
   },
   {
    "duration": 4,
    "start_time": "2024-11-04T20:31:24.570Z"
   },
   {
    "duration": 16,
    "start_time": "2024-11-04T20:33:14.990Z"
   },
   {
    "duration": 8,
    "start_time": "2024-11-04T20:33:18.164Z"
   },
   {
    "duration": 3,
    "start_time": "2024-11-04T20:33:19.483Z"
   },
   {
    "duration": 4,
    "start_time": "2024-11-04T20:33:21.604Z"
   },
   {
    "duration": 3,
    "start_time": "2024-11-04T20:40:58.085Z"
   },
   {
    "duration": 4,
    "start_time": "2024-11-04T20:41:00.402Z"
   },
   {
    "duration": 17,
    "start_time": "2024-11-04T20:41:24.197Z"
   },
   {
    "duration": 6,
    "start_time": "2024-11-04T20:41:26.393Z"
   },
   {
    "duration": 4,
    "start_time": "2024-11-04T20:41:27.945Z"
   },
   {
    "duration": 5,
    "start_time": "2024-11-04T20:41:30.449Z"
   },
   {
    "duration": 11,
    "start_time": "2024-11-04T20:44:39.543Z"
   },
   {
    "duration": 6,
    "start_time": "2024-11-04T20:45:03.271Z"
   },
   {
    "duration": 6,
    "start_time": "2024-11-04T20:45:41.053Z"
   },
   {
    "duration": 3,
    "start_time": "2024-11-04T20:45:43.187Z"
   },
   {
    "duration": 4,
    "start_time": "2024-11-04T20:45:45.264Z"
   },
   {
    "duration": 4,
    "start_time": "2024-11-04T20:47:02.483Z"
   },
   {
    "duration": 4,
    "start_time": "2024-11-04T20:47:05.152Z"
   },
   {
    "duration": 8,
    "start_time": "2024-11-04T20:51:28.872Z"
   },
   {
    "duration": 9,
    "start_time": "2024-11-04T20:51:35.587Z"
   },
   {
    "duration": 12,
    "start_time": "2024-11-04T20:51:40.275Z"
   },
   {
    "duration": 15,
    "start_time": "2024-11-04T20:57:56.022Z"
   },
   {
    "duration": 5,
    "start_time": "2024-11-04T20:58:22.824Z"
   },
   {
    "duration": 3,
    "start_time": "2024-11-04T21:01:08.261Z"
   },
   {
    "duration": 7,
    "start_time": "2024-11-04T21:01:45.598Z"
   },
   {
    "duration": 4,
    "start_time": "2024-11-04T21:03:58.997Z"
   },
   {
    "duration": 9,
    "start_time": "2024-11-04T21:04:33.052Z"
   },
   {
    "duration": 3,
    "start_time": "2024-11-04T21:04:36.517Z"
   },
   {
    "duration": 2739,
    "start_time": "2024-11-04T23:06:02.966Z"
   },
   {
    "duration": 68,
    "start_time": "2024-11-04T23:06:05.708Z"
   },
   {
    "duration": 3,
    "start_time": "2024-11-04T23:06:05.778Z"
   },
   {
    "duration": 74,
    "start_time": "2024-11-04T23:06:05.782Z"
   },
   {
    "duration": 4,
    "start_time": "2024-11-04T23:06:05.860Z"
   },
   {
    "duration": 4,
    "start_time": "2024-11-04T23:06:05.866Z"
   },
   {
    "duration": 15,
    "start_time": "2024-11-04T23:06:05.872Z"
   },
   {
    "duration": 29,
    "start_time": "2024-11-04T23:06:05.889Z"
   },
   {
    "duration": 13,
    "start_time": "2024-11-04T23:06:05.920Z"
   },
   {
    "duration": 4,
    "start_time": "2024-11-04T23:06:05.935Z"
   },
   {
    "duration": 4,
    "start_time": "2024-11-04T23:06:05.940Z"
   },
   {
    "duration": 5,
    "start_time": "2024-11-04T23:06:05.946Z"
   },
   {
    "duration": 8,
    "start_time": "2024-11-04T23:06:05.952Z"
   },
   {
    "duration": 47,
    "start_time": "2024-11-04T23:06:05.964Z"
   },
   {
    "duration": 5,
    "start_time": "2024-11-04T23:06:06.013Z"
   },
   {
    "duration": 4,
    "start_time": "2024-11-04T23:06:06.019Z"
   },
   {
    "duration": 4,
    "start_time": "2024-11-04T23:06:06.025Z"
   },
   {
    "duration": 94,
    "start_time": "2024-11-04T23:06:06.031Z"
   },
   {
    "duration": 4,
    "start_time": "2024-11-04T23:06:06.127Z"
   },
   {
    "duration": 21,
    "start_time": "2024-11-04T23:06:06.133Z"
   },
   {
    "duration": 3,
    "start_time": "2024-11-04T23:06:06.156Z"
   },
   {
    "duration": 4,
    "start_time": "2024-11-04T23:06:06.161Z"
   },
   {
    "duration": 44,
    "start_time": "2024-11-04T23:06:06.167Z"
   },
   {
    "duration": 177,
    "start_time": "2024-11-04T23:06:06.213Z"
   },
   {
    "duration": 464,
    "start_time": "2024-11-04T23:06:06.392Z"
   },
   {
    "duration": 622,
    "start_time": "2024-11-04T23:06:06.858Z"
   },
   {
    "duration": 380,
    "start_time": "2024-11-04T23:06:07.482Z"
   },
   {
    "duration": 5,
    "start_time": "2024-11-04T23:06:07.864Z"
   },
   {
    "duration": 89,
    "start_time": "2024-11-04T23:06:07.871Z"
   },
   {
    "duration": 28,
    "start_time": "2024-11-04T23:06:07.963Z"
   },
   {
    "duration": 16,
    "start_time": "2024-11-04T23:06:07.993Z"
   },
   {
    "duration": 6,
    "start_time": "2024-11-04T23:06:08.011Z"
   },
   {
    "duration": 6,
    "start_time": "2024-11-04T23:06:08.019Z"
   },
   {
    "duration": 4,
    "start_time": "2024-11-04T23:06:08.027Z"
   },
   {
    "duration": 8,
    "start_time": "2024-11-04T23:06:08.033Z"
   },
   {
    "duration": 5,
    "start_time": "2024-11-04T23:06:08.043Z"
   },
   {
    "duration": 6,
    "start_time": "2024-11-04T23:06:08.050Z"
   },
   {
    "duration": 7,
    "start_time": "2024-11-04T23:06:08.058Z"
   },
   {
    "duration": 42,
    "start_time": "2024-11-04T23:06:08.068Z"
   },
   {
    "duration": 282,
    "start_time": "2024-11-04T23:06:08.112Z"
   },
   {
    "duration": 0,
    "start_time": "2024-11-04T23:06:08.396Z"
   },
   {
    "duration": 0,
    "start_time": "2024-11-04T23:06:08.397Z"
   },
   {
    "duration": 0,
    "start_time": "2024-11-04T23:06:08.408Z"
   },
   {
    "duration": 0,
    "start_time": "2024-11-04T23:06:08.409Z"
   },
   {
    "duration": 0,
    "start_time": "2024-11-04T23:06:08.411Z"
   },
   {
    "duration": 0,
    "start_time": "2024-11-04T23:06:08.412Z"
   },
   {
    "duration": 2933,
    "start_time": "2024-11-05T18:02:46.867Z"
   },
   {
    "duration": 71,
    "start_time": "2024-11-05T18:02:49.802Z"
   },
   {
    "duration": 3,
    "start_time": "2024-11-05T18:02:49.875Z"
   },
   {
    "duration": 80,
    "start_time": "2024-11-05T18:02:49.880Z"
   },
   {
    "duration": 5,
    "start_time": "2024-11-05T18:02:49.961Z"
   },
   {
    "duration": 4,
    "start_time": "2024-11-05T18:02:49.968Z"
   },
   {
    "duration": 16,
    "start_time": "2024-11-05T18:02:49.975Z"
   },
   {
    "duration": 11,
    "start_time": "2024-11-05T18:02:49.993Z"
   },
   {
    "duration": 37,
    "start_time": "2024-11-05T18:02:50.005Z"
   },
   {
    "duration": 4,
    "start_time": "2024-11-05T18:02:50.046Z"
   },
   {
    "duration": 3,
    "start_time": "2024-11-05T18:02:50.052Z"
   },
   {
    "duration": 4,
    "start_time": "2024-11-05T18:02:50.057Z"
   },
   {
    "duration": 8,
    "start_time": "2024-11-05T18:02:50.063Z"
   },
   {
    "duration": 5,
    "start_time": "2024-11-05T18:02:50.073Z"
   },
   {
    "duration": 5,
    "start_time": "2024-11-05T18:02:50.079Z"
   },
   {
    "duration": 4,
    "start_time": "2024-11-05T18:02:50.085Z"
   },
   {
    "duration": 5,
    "start_time": "2024-11-05T18:02:50.132Z"
   },
   {
    "duration": 95,
    "start_time": "2024-11-05T18:02:50.138Z"
   },
   {
    "duration": 4,
    "start_time": "2024-11-05T18:02:50.235Z"
   },
   {
    "duration": 25,
    "start_time": "2024-11-05T18:02:50.241Z"
   },
   {
    "duration": 5,
    "start_time": "2024-11-05T18:02:50.268Z"
   },
   {
    "duration": 5,
    "start_time": "2024-11-05T18:02:50.274Z"
   },
   {
    "duration": 12,
    "start_time": "2024-11-05T18:02:50.281Z"
   },
   {
    "duration": 188,
    "start_time": "2024-11-05T18:02:50.331Z"
   },
   {
    "duration": 463,
    "start_time": "2024-11-05T18:02:50.521Z"
   },
   {
    "duration": 512,
    "start_time": "2024-11-05T18:02:50.985Z"
   },
   {
    "duration": 377,
    "start_time": "2024-11-05T18:02:51.499Z"
   },
   {
    "duration": 6,
    "start_time": "2024-11-05T18:02:51.880Z"
   },
   {
    "duration": 88,
    "start_time": "2024-11-05T18:02:51.888Z"
   },
   {
    "duration": 30,
    "start_time": "2024-11-05T18:02:51.979Z"
   },
   {
    "duration": 5,
    "start_time": "2024-11-05T18:02:52.010Z"
   },
   {
    "duration": 6,
    "start_time": "2024-11-05T18:02:52.030Z"
   },
   {
    "duration": 6,
    "start_time": "2024-11-05T18:02:52.038Z"
   },
   {
    "duration": 4,
    "start_time": "2024-11-05T18:02:52.046Z"
   },
   {
    "duration": 6,
    "start_time": "2024-11-05T18:02:52.051Z"
   },
   {
    "duration": 6,
    "start_time": "2024-11-05T18:02:52.058Z"
   },
   {
    "duration": 6,
    "start_time": "2024-11-05T18:02:52.065Z"
   },
   {
    "duration": 7,
    "start_time": "2024-11-05T18:02:52.072Z"
   },
   {
    "duration": 4,
    "start_time": "2024-11-05T18:02:52.080Z"
   },
   {
    "duration": 304,
    "start_time": "2024-11-05T18:02:52.086Z"
   },
   {
    "duration": 0,
    "start_time": "2024-11-05T18:02:52.392Z"
   },
   {
    "duration": 0,
    "start_time": "2024-11-05T18:02:52.395Z"
   },
   {
    "duration": 0,
    "start_time": "2024-11-05T18:02:52.396Z"
   },
   {
    "duration": 0,
    "start_time": "2024-11-05T18:02:52.397Z"
   },
   {
    "duration": 0,
    "start_time": "2024-11-05T18:02:52.398Z"
   },
   {
    "duration": 0,
    "start_time": "2024-11-05T18:02:52.400Z"
   },
   {
    "duration": 7,
    "start_time": "2024-11-05T18:04:32.460Z"
   },
   {
    "duration": 3,
    "start_time": "2024-11-05T18:04:32.846Z"
   },
   {
    "duration": 18,
    "start_time": "2024-11-05T18:04:33.566Z"
   },
   {
    "duration": 6,
    "start_time": "2024-11-05T18:04:59.461Z"
   },
   {
    "duration": 3,
    "start_time": "2024-11-05T18:04:59.664Z"
   },
   {
    "duration": 18,
    "start_time": "2024-11-05T18:04:59.886Z"
   },
   {
    "duration": 4,
    "start_time": "2024-11-05T18:43:51.213Z"
   },
   {
    "duration": 4,
    "start_time": "2024-11-05T18:43:55.911Z"
   },
   {
    "duration": 4,
    "start_time": "2024-11-05T18:44:00.001Z"
   },
   {
    "duration": 3,
    "start_time": "2024-11-05T18:47:21.486Z"
   },
   {
    "duration": 4,
    "start_time": "2024-11-05T18:47:57.381Z"
   },
   {
    "duration": 4,
    "start_time": "2024-11-05T18:53:23.217Z"
   },
   {
    "duration": 4,
    "start_time": "2024-11-05T18:55:26.398Z"
   },
   {
    "duration": 1055,
    "start_time": "2024-11-05T18:56:26.601Z"
   },
   {
    "duration": 42,
    "start_time": "2024-11-05T18:56:27.659Z"
   },
   {
    "duration": 4,
    "start_time": "2024-11-05T18:56:27.702Z"
   },
   {
    "duration": 85,
    "start_time": "2024-11-05T18:56:27.708Z"
   },
   {
    "duration": 5,
    "start_time": "2024-11-05T18:56:27.795Z"
   },
   {
    "duration": 4,
    "start_time": "2024-11-05T18:56:27.802Z"
   },
   {
    "duration": 39,
    "start_time": "2024-11-05T18:56:27.808Z"
   },
   {
    "duration": 11,
    "start_time": "2024-11-05T18:56:27.849Z"
   },
   {
    "duration": 12,
    "start_time": "2024-11-05T18:56:27.862Z"
   },
   {
    "duration": 4,
    "start_time": "2024-11-05T18:56:27.878Z"
   },
   {
    "duration": 4,
    "start_time": "2024-11-05T18:56:27.883Z"
   },
   {
    "duration": 5,
    "start_time": "2024-11-05T18:56:27.889Z"
   },
   {
    "duration": 8,
    "start_time": "2024-11-05T18:56:27.895Z"
   },
   {
    "duration": 41,
    "start_time": "2024-11-05T18:56:27.905Z"
   },
   {
    "duration": 5,
    "start_time": "2024-11-05T18:56:27.947Z"
   },
   {
    "duration": 4,
    "start_time": "2024-11-05T18:56:27.953Z"
   },
   {
    "duration": 4,
    "start_time": "2024-11-05T18:56:27.958Z"
   },
   {
    "duration": 88,
    "start_time": "2024-11-05T18:56:27.965Z"
   },
   {
    "duration": 5,
    "start_time": "2024-11-05T18:56:28.055Z"
   },
   {
    "duration": 19,
    "start_time": "2024-11-05T18:56:28.062Z"
   },
   {
    "duration": 4,
    "start_time": "2024-11-05T18:56:28.083Z"
   },
   {
    "duration": 4,
    "start_time": "2024-11-05T18:56:28.088Z"
   },
   {
    "duration": 12,
    "start_time": "2024-11-05T18:56:28.094Z"
   },
   {
    "duration": 206,
    "start_time": "2024-11-05T18:56:28.108Z"
   },
   {
    "duration": 460,
    "start_time": "2024-11-05T18:56:28.315Z"
   },
   {
    "duration": 517,
    "start_time": "2024-11-05T18:56:28.777Z"
   },
   {
    "duration": 403,
    "start_time": "2024-11-05T18:56:29.296Z"
   },
   {
    "duration": 5,
    "start_time": "2024-11-05T18:56:29.704Z"
   },
   {
    "duration": 86,
    "start_time": "2024-11-05T18:56:29.712Z"
   },
   {
    "duration": 27,
    "start_time": "2024-11-05T18:56:29.801Z"
   },
   {
    "duration": 16,
    "start_time": "2024-11-05T18:56:29.830Z"
   },
   {
    "duration": 5,
    "start_time": "2024-11-05T18:56:29.847Z"
   },
   {
    "duration": 6,
    "start_time": "2024-11-05T18:56:29.854Z"
   },
   {
    "duration": 4,
    "start_time": "2024-11-05T18:56:29.862Z"
   },
   {
    "duration": 5,
    "start_time": "2024-11-05T18:56:29.868Z"
   },
   {
    "duration": 5,
    "start_time": "2024-11-05T18:56:29.874Z"
   },
   {
    "duration": 6,
    "start_time": "2024-11-05T18:56:29.882Z"
   },
   {
    "duration": 7,
    "start_time": "2024-11-05T18:56:29.889Z"
   },
   {
    "duration": 49,
    "start_time": "2024-11-05T18:56:29.897Z"
   },
   {
    "duration": 5,
    "start_time": "2024-11-05T18:56:29.947Z"
   },
   {
    "duration": 6,
    "start_time": "2024-11-05T18:56:29.953Z"
   },
   {
    "duration": 4,
    "start_time": "2024-11-05T18:56:29.960Z"
   },
   {
    "duration": 5,
    "start_time": "2024-11-05T18:56:29.966Z"
   },
   {
    "duration": 4,
    "start_time": "2024-11-05T18:56:29.973Z"
   },
   {
    "duration": 6,
    "start_time": "2024-11-05T18:56:29.979Z"
   },
   {
    "duration": 4,
    "start_time": "2024-11-05T18:56:29.987Z"
   },
   {
    "duration": 51,
    "start_time": "2024-11-05T18:56:29.992Z"
   },
   {
    "duration": 4,
    "start_time": "2024-11-05T18:56:30.045Z"
   },
   {
    "duration": 4,
    "start_time": "2024-11-05T18:58:37.464Z"
   },
   {
    "duration": 5,
    "start_time": "2024-11-05T18:59:37.869Z"
   },
   {
    "duration": 152,
    "start_time": "2024-11-05T19:24:58.896Z"
   },
   {
    "duration": 3023,
    "start_time": "2024-11-05T23:10:26.893Z"
   },
   {
    "duration": 88,
    "start_time": "2024-11-05T23:10:29.918Z"
   },
   {
    "duration": 20,
    "start_time": "2024-11-05T23:10:30.008Z"
   },
   {
    "duration": 80,
    "start_time": "2024-11-05T23:10:30.038Z"
   },
   {
    "duration": 7,
    "start_time": "2024-11-05T23:10:30.120Z"
   },
   {
    "duration": 6,
    "start_time": "2024-11-05T23:10:30.129Z"
   },
   {
    "duration": 20,
    "start_time": "2024-11-05T23:10:30.136Z"
   },
   {
    "duration": 11,
    "start_time": "2024-11-05T23:10:30.157Z"
   },
   {
    "duration": 12,
    "start_time": "2024-11-05T23:10:30.170Z"
   },
   {
    "duration": 39,
    "start_time": "2024-11-05T23:10:30.186Z"
   },
   {
    "duration": 3,
    "start_time": "2024-11-05T23:10:30.233Z"
   },
   {
    "duration": 6,
    "start_time": "2024-11-05T23:10:30.238Z"
   },
   {
    "duration": 9,
    "start_time": "2024-11-05T23:10:30.246Z"
   },
   {
    "duration": 5,
    "start_time": "2024-11-05T23:10:30.257Z"
   },
   {
    "duration": 5,
    "start_time": "2024-11-05T23:10:30.264Z"
   },
   {
    "duration": 4,
    "start_time": "2024-11-05T23:10:30.271Z"
   },
   {
    "duration": 4,
    "start_time": "2024-11-05T23:10:30.277Z"
   },
   {
    "duration": 103,
    "start_time": "2024-11-05T23:10:30.283Z"
   },
   {
    "duration": 5,
    "start_time": "2024-11-05T23:10:30.388Z"
   },
   {
    "duration": 29,
    "start_time": "2024-11-05T23:10:30.395Z"
   },
   {
    "duration": 5,
    "start_time": "2024-11-05T23:10:30.430Z"
   },
   {
    "duration": 4,
    "start_time": "2024-11-05T23:10:30.438Z"
   },
   {
    "duration": 11,
    "start_time": "2024-11-05T23:10:30.444Z"
   },
   {
    "duration": 186,
    "start_time": "2024-11-05T23:10:30.456Z"
   },
   {
    "duration": 498,
    "start_time": "2024-11-05T23:10:30.644Z"
   },
   {
    "duration": 514,
    "start_time": "2024-11-05T23:10:31.144Z"
   },
   {
    "duration": 379,
    "start_time": "2024-11-05T23:10:31.660Z"
   },
   {
    "duration": 5,
    "start_time": "2024-11-05T23:10:32.045Z"
   },
   {
    "duration": 88,
    "start_time": "2024-11-05T23:10:32.051Z"
   },
   {
    "duration": 32,
    "start_time": "2024-11-05T23:10:32.141Z"
   },
   {
    "duration": 6,
    "start_time": "2024-11-05T23:10:32.175Z"
   },
   {
    "duration": 6,
    "start_time": "2024-11-05T23:10:32.183Z"
   },
   {
    "duration": 5,
    "start_time": "2024-11-05T23:10:32.191Z"
   },
   {
    "duration": 18,
    "start_time": "2024-11-05T23:10:32.217Z"
   },
   {
    "duration": 5,
    "start_time": "2024-11-05T23:10:32.237Z"
   },
   {
    "duration": 5,
    "start_time": "2024-11-05T23:10:32.244Z"
   },
   {
    "duration": 6,
    "start_time": "2024-11-05T23:10:32.251Z"
   },
   {
    "duration": 7,
    "start_time": "2024-11-05T23:10:32.258Z"
   },
   {
    "duration": 4,
    "start_time": "2024-11-05T23:10:32.268Z"
   },
   {
    "duration": 4,
    "start_time": "2024-11-05T23:10:32.274Z"
   },
   {
    "duration": 5,
    "start_time": "2024-11-05T23:10:32.280Z"
   },
   {
    "duration": 17,
    "start_time": "2024-11-05T23:10:32.316Z"
   },
   {
    "duration": 7,
    "start_time": "2024-11-05T23:10:32.334Z"
   },
   {
    "duration": 5,
    "start_time": "2024-11-05T23:10:32.342Z"
   },
   {
    "duration": 4,
    "start_time": "2024-11-05T23:10:32.348Z"
   },
   {
    "duration": 7,
    "start_time": "2024-11-05T23:10:32.354Z"
   },
   {
    "duration": 5,
    "start_time": "2024-11-05T23:10:32.362Z"
   },
   {
    "duration": 4,
    "start_time": "2024-11-05T23:10:32.370Z"
   },
   {
    "duration": 4,
    "start_time": "2024-11-05T23:10:32.376Z"
   },
   {
    "duration": 1012,
    "start_time": "2024-11-06T02:07:18.523Z"
   },
   {
    "duration": 46,
    "start_time": "2024-11-06T02:07:19.537Z"
   },
   {
    "duration": 3,
    "start_time": "2024-11-06T02:07:19.585Z"
   },
   {
    "duration": 86,
    "start_time": "2024-11-06T02:07:19.591Z"
   },
   {
    "duration": 5,
    "start_time": "2024-11-06T02:07:19.679Z"
   },
   {
    "duration": 4,
    "start_time": "2024-11-06T02:07:19.685Z"
   },
   {
    "duration": 15,
    "start_time": "2024-11-06T02:07:19.691Z"
   },
   {
    "duration": 35,
    "start_time": "2024-11-06T02:07:19.707Z"
   },
   {
    "duration": 12,
    "start_time": "2024-11-06T02:07:19.744Z"
   },
   {
    "duration": 5,
    "start_time": "2024-11-06T02:07:19.759Z"
   },
   {
    "duration": 4,
    "start_time": "2024-11-06T02:07:19.765Z"
   },
   {
    "duration": 4,
    "start_time": "2024-11-06T02:07:19.771Z"
   },
   {
    "duration": 8,
    "start_time": "2024-11-06T02:07:19.776Z"
   },
   {
    "duration": 5,
    "start_time": "2024-11-06T02:07:19.786Z"
   },
   {
    "duration": 4,
    "start_time": "2024-11-06T02:07:19.792Z"
   },
   {
    "duration": 46,
    "start_time": "2024-11-06T02:07:19.798Z"
   },
   {
    "duration": 4,
    "start_time": "2024-11-06T02:07:19.845Z"
   },
   {
    "duration": 68,
    "start_time": "2024-11-06T02:07:19.850Z"
   },
   {
    "duration": 3,
    "start_time": "2024-11-06T02:07:19.920Z"
   },
   {
    "duration": 36,
    "start_time": "2024-11-06T02:07:19.925Z"
   },
   {
    "duration": 4,
    "start_time": "2024-11-06T02:07:19.963Z"
   },
   {
    "duration": 4,
    "start_time": "2024-11-06T02:07:19.968Z"
   },
   {
    "duration": 11,
    "start_time": "2024-11-06T02:07:19.974Z"
   },
   {
    "duration": 196,
    "start_time": "2024-11-06T02:07:19.988Z"
   },
   {
    "duration": 466,
    "start_time": "2024-11-06T02:07:20.186Z"
   },
   {
    "duration": 546,
    "start_time": "2024-11-06T02:07:20.655Z"
   },
   {
    "duration": 354,
    "start_time": "2024-11-06T02:07:21.203Z"
   },
   {
    "duration": 5,
    "start_time": "2024-11-06T02:07:21.561Z"
   },
   {
    "duration": 85,
    "start_time": "2024-11-06T02:07:21.568Z"
   },
   {
    "duration": 27,
    "start_time": "2024-11-06T02:07:21.655Z"
   },
   {
    "duration": 4,
    "start_time": "2024-11-06T02:07:21.684Z"
   },
   {
    "duration": 5,
    "start_time": "2024-11-06T02:07:21.689Z"
   },
   {
    "duration": 5,
    "start_time": "2024-11-06T02:07:21.696Z"
   },
   {
    "duration": 4,
    "start_time": "2024-11-06T02:07:21.703Z"
   },
   {
    "duration": 38,
    "start_time": "2024-11-06T02:07:21.708Z"
   },
   {
    "duration": 5,
    "start_time": "2024-11-06T02:07:21.748Z"
   },
   {
    "duration": 7,
    "start_time": "2024-11-06T02:07:21.755Z"
   },
   {
    "duration": 7,
    "start_time": "2024-11-06T02:07:21.764Z"
   },
   {
    "duration": 4,
    "start_time": "2024-11-06T02:07:21.773Z"
   },
   {
    "duration": 4,
    "start_time": "2024-11-06T02:07:21.779Z"
   },
   {
    "duration": 4,
    "start_time": "2024-11-06T02:07:21.785Z"
   },
   {
    "duration": 9,
    "start_time": "2024-11-06T02:07:21.790Z"
   },
   {
    "duration": 42,
    "start_time": "2024-11-06T02:07:21.801Z"
   },
   {
    "duration": 4,
    "start_time": "2024-11-06T02:07:21.845Z"
   },
   {
    "duration": 4,
    "start_time": "2024-11-06T02:07:21.850Z"
   },
   {
    "duration": 5,
    "start_time": "2024-11-06T02:07:21.856Z"
   },
   {
    "duration": 3,
    "start_time": "2024-11-06T02:07:21.863Z"
   },
   {
    "duration": 4,
    "start_time": "2024-11-06T02:07:21.868Z"
   },
   {
    "duration": 4,
    "start_time": "2024-11-06T02:07:21.874Z"
   }
  ],
  "kernelspec": {
   "display_name": "Python 3 (ipykernel)",
   "language": "python",
   "name": "python3"
  },
  "language_info": {
   "codemirror_mode": {
    "name": "ipython",
    "version": 3
   },
   "file_extension": ".py",
   "mimetype": "text/x-python",
   "name": "python",
   "nbconvert_exporter": "python",
   "pygments_lexer": "ipython3",
   "version": "3.9.19"
  },
  "toc": {
   "base_numbering": 1,
   "nav_menu": {},
   "number_sections": true,
   "sideBar": true,
   "skip_h1_title": true,
   "title_cell": "Table of Contents",
   "title_sidebar": "Contents",
   "toc_cell": false,
   "toc_position": {},
   "toc_section_display": true,
   "toc_window_display": false
  }
 },
 "nbformat": 4,
 "nbformat_minor": 2
}
